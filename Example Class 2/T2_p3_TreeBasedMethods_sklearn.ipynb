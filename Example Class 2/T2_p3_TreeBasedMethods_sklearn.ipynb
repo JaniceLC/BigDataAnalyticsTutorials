{
  "cells": [
    {
      "cell_type": "markdown",
      "metadata": {
        "id": "47pn2bGbQX-8"
      },
      "source": [
        "# Fitting Classification Trees"
      ]
    },
    {
      "cell_type": "markdown",
      "metadata": {
        "id": "9WJrkdcdQX_A"
      },
      "source": [
        "The ${\\tt sklearn}$ library has a lot of useful tools for constructing classification and regression trees:"
      ]
    },
    {
      "cell_type": "code",
      "execution_count": 1,
      "metadata": {
        "id": "JZRKx6l2QX_B"
      },
      "outputs": [],
      "source": [
        "%matplotlib inline\n",
        "import pandas as pd\n",
        "import numpy as np\n",
        "import matplotlib as mpl\n",
        "import matplotlib.pyplot as plt\n",
        "import graphviz"
      ]
    },
    {
      "cell_type": "code",
      "execution_count": 3,
      "metadata": {
        "id": "_qHciWG1QX_C"
      },
      "outputs": [],
      "source": [
        "from sklearn.model_selection import train_test_split\n",
        "from sklearn.tree import DecisionTreeRegressor, DecisionTreeClassifier, export_graphviz\n",
        "from sklearn.ensemble import RandomForestRegressor, GradientBoostingRegressor\n",
        "from sklearn.metrics import confusion_matrix, mean_squared_error"
      ]
    },
    {
      "cell_type": "markdown",
      "metadata": {
        "id": "Vt710Y-PQX_D"
      },
      "source": [
        "We'll start by using **classification trees** to analyze the ${\\tt Carseats}$ data set. In these\n",
        "data, ${\\tt Sales}$ is a continuous variable, and so we begin by converting it to a\n",
        "binary variable. We use the ${\\tt ifelse()}$ function to create a variable, called\n",
        "${\\tt High}$, which takes on a value of ${\\tt Yes}$ if the ${\\tt Sales}$ variable exceeds 8, and\n",
        "takes on a value of ${\\tt No}$ otherwise. We'll append this onto our dataFrame using the ${\\tt .map()}$ function, and then do a little data cleaning to tidy things up:"
      ]
    },
    {
      "cell_type": "code",
      "execution_count": 4,
      "metadata": {
        "id": "QT-i2Zb-QX_E"
      },
      "outputs": [],
      "source": [
        "mydata = pd.read_csv('Carseats.csv')"
      ]
    },
    {
      "cell_type": "code",
      "execution_count": 5,
      "metadata": {
        "colab": {
          "base_uri": "https://localhost:8080/",
          "height": 214
        },
        "id": "p_LQ7TTNQX_E",
        "outputId": "fe924790-d639-42aa-be94-348de4e4ee3f"
      },
      "outputs": [
        {
          "output_type": "execute_result",
          "data": {
            "text/html": [
              "\n",
              "  <div id=\"df-081ffee5-ddad-4ac8-bfbb-9949fcb861fd\">\n",
              "    <div class=\"colab-df-container\">\n",
              "      <div>\n",
              "<style scoped>\n",
              "    .dataframe tbody tr th:only-of-type {\n",
              "        vertical-align: middle;\n",
              "    }\n",
              "\n",
              "    .dataframe tbody tr th {\n",
              "        vertical-align: top;\n",
              "    }\n",
              "\n",
              "    .dataframe thead th {\n",
              "        text-align: right;\n",
              "    }\n",
              "</style>\n",
              "<table border=\"1\" class=\"dataframe\">\n",
              "  <thead>\n",
              "    <tr style=\"text-align: right;\">\n",
              "      <th></th>\n",
              "      <th>Sales</th>\n",
              "      <th>CompPrice</th>\n",
              "      <th>Income</th>\n",
              "      <th>Advertising</th>\n",
              "      <th>Population</th>\n",
              "      <th>Price</th>\n",
              "      <th>ShelveLoc</th>\n",
              "      <th>Age</th>\n",
              "      <th>Education</th>\n",
              "      <th>Urban</th>\n",
              "      <th>US</th>\n",
              "    </tr>\n",
              "  </thead>\n",
              "  <tbody>\n",
              "    <tr>\n",
              "      <th>0</th>\n",
              "      <td>9.50</td>\n",
              "      <td>138</td>\n",
              "      <td>73</td>\n",
              "      <td>11</td>\n",
              "      <td>276</td>\n",
              "      <td>120</td>\n",
              "      <td>Bad</td>\n",
              "      <td>42</td>\n",
              "      <td>17</td>\n",
              "      <td>Yes</td>\n",
              "      <td>Yes</td>\n",
              "    </tr>\n",
              "    <tr>\n",
              "      <th>1</th>\n",
              "      <td>11.22</td>\n",
              "      <td>111</td>\n",
              "      <td>48</td>\n",
              "      <td>16</td>\n",
              "      <td>260</td>\n",
              "      <td>83</td>\n",
              "      <td>Good</td>\n",
              "      <td>65</td>\n",
              "      <td>10</td>\n",
              "      <td>Yes</td>\n",
              "      <td>Yes</td>\n",
              "    </tr>\n",
              "    <tr>\n",
              "      <th>2</th>\n",
              "      <td>10.06</td>\n",
              "      <td>113</td>\n",
              "      <td>35</td>\n",
              "      <td>10</td>\n",
              "      <td>269</td>\n",
              "      <td>80</td>\n",
              "      <td>Medium</td>\n",
              "      <td>59</td>\n",
              "      <td>12</td>\n",
              "      <td>Yes</td>\n",
              "      <td>Yes</td>\n",
              "    </tr>\n",
              "    <tr>\n",
              "      <th>3</th>\n",
              "      <td>7.40</td>\n",
              "      <td>117</td>\n",
              "      <td>100</td>\n",
              "      <td>4</td>\n",
              "      <td>466</td>\n",
              "      <td>97</td>\n",
              "      <td>Medium</td>\n",
              "      <td>55</td>\n",
              "      <td>14</td>\n",
              "      <td>Yes</td>\n",
              "      <td>Yes</td>\n",
              "    </tr>\n",
              "    <tr>\n",
              "      <th>4</th>\n",
              "      <td>4.15</td>\n",
              "      <td>141</td>\n",
              "      <td>64</td>\n",
              "      <td>3</td>\n",
              "      <td>340</td>\n",
              "      <td>128</td>\n",
              "      <td>Bad</td>\n",
              "      <td>38</td>\n",
              "      <td>13</td>\n",
              "      <td>Yes</td>\n",
              "      <td>No</td>\n",
              "    </tr>\n",
              "  </tbody>\n",
              "</table>\n",
              "</div>\n",
              "      <button class=\"colab-df-convert\" onclick=\"convertToInteractive('df-081ffee5-ddad-4ac8-bfbb-9949fcb861fd')\"\n",
              "              title=\"Convert this dataframe to an interactive table.\"\n",
              "              style=\"display:none;\">\n",
              "        \n",
              "  <svg xmlns=\"http://www.w3.org/2000/svg\" height=\"24px\"viewBox=\"0 0 24 24\"\n",
              "       width=\"24px\">\n",
              "    <path d=\"M0 0h24v24H0V0z\" fill=\"none\"/>\n",
              "    <path d=\"M18.56 5.44l.94 2.06.94-2.06 2.06-.94-2.06-.94-.94-2.06-.94 2.06-2.06.94zm-11 1L8.5 8.5l.94-2.06 2.06-.94-2.06-.94L8.5 2.5l-.94 2.06-2.06.94zm10 10l.94 2.06.94-2.06 2.06-.94-2.06-.94-.94-2.06-.94 2.06-2.06.94z\"/><path d=\"M17.41 7.96l-1.37-1.37c-.4-.4-.92-.59-1.43-.59-.52 0-1.04.2-1.43.59L10.3 9.45l-7.72 7.72c-.78.78-.78 2.05 0 2.83L4 21.41c.39.39.9.59 1.41.59.51 0 1.02-.2 1.41-.59l7.78-7.78 2.81-2.81c.8-.78.8-2.07 0-2.86zM5.41 20L4 18.59l7.72-7.72 1.47 1.35L5.41 20z\"/>\n",
              "  </svg>\n",
              "      </button>\n",
              "      \n",
              "  <style>\n",
              "    .colab-df-container {\n",
              "      display:flex;\n",
              "      flex-wrap:wrap;\n",
              "      gap: 12px;\n",
              "    }\n",
              "\n",
              "    .colab-df-convert {\n",
              "      background-color: #E8F0FE;\n",
              "      border: none;\n",
              "      border-radius: 50%;\n",
              "      cursor: pointer;\n",
              "      display: none;\n",
              "      fill: #1967D2;\n",
              "      height: 32px;\n",
              "      padding: 0 0 0 0;\n",
              "      width: 32px;\n",
              "    }\n",
              "\n",
              "    .colab-df-convert:hover {\n",
              "      background-color: #E2EBFA;\n",
              "      box-shadow: 0px 1px 2px rgba(60, 64, 67, 0.3), 0px 1px 3px 1px rgba(60, 64, 67, 0.15);\n",
              "      fill: #174EA6;\n",
              "    }\n",
              "\n",
              "    [theme=dark] .colab-df-convert {\n",
              "      background-color: #3B4455;\n",
              "      fill: #D2E3FC;\n",
              "    }\n",
              "\n",
              "    [theme=dark] .colab-df-convert:hover {\n",
              "      background-color: #434B5C;\n",
              "      box-shadow: 0px 1px 3px 1px rgba(0, 0, 0, 0.15);\n",
              "      filter: drop-shadow(0px 1px 2px rgba(0, 0, 0, 0.3));\n",
              "      fill: #FFFFFF;\n",
              "    }\n",
              "  </style>\n",
              "\n",
              "      <script>\n",
              "        const buttonEl =\n",
              "          document.querySelector('#df-081ffee5-ddad-4ac8-bfbb-9949fcb861fd button.colab-df-convert');\n",
              "        buttonEl.style.display =\n",
              "          google.colab.kernel.accessAllowed ? 'block' : 'none';\n",
              "\n",
              "        async function convertToInteractive(key) {\n",
              "          const element = document.querySelector('#df-081ffee5-ddad-4ac8-bfbb-9949fcb861fd');\n",
              "          const dataTable =\n",
              "            await google.colab.kernel.invokeFunction('convertToInteractive',\n",
              "                                                     [key], {});\n",
              "          if (!dataTable) return;\n",
              "\n",
              "          const docLinkHtml = 'Like what you see? Visit the ' +\n",
              "            '<a target=\"_blank\" href=https://colab.research.google.com/notebooks/data_table.ipynb>data table notebook</a>'\n",
              "            + ' to learn more about interactive tables.';\n",
              "          element.innerHTML = '';\n",
              "          dataTable['output_type'] = 'display_data';\n",
              "          await google.colab.output.renderOutput(dataTable, element);\n",
              "          const docLink = document.createElement('div');\n",
              "          docLink.innerHTML = docLinkHtml;\n",
              "          element.appendChild(docLink);\n",
              "        }\n",
              "      </script>\n",
              "    </div>\n",
              "  </div>\n",
              "  "
            ],
            "text/plain": [
              "   Sales  CompPrice  Income  Advertising  ...  Age  Education Urban   US\n",
              "0   9.50        138      73           11  ...   42         17   Yes  Yes\n",
              "1  11.22        111      48           16  ...   65         10   Yes  Yes\n",
              "2  10.06        113      35           10  ...   59         12   Yes  Yes\n",
              "3   7.40        117     100            4  ...   55         14   Yes  Yes\n",
              "4   4.15        141      64            3  ...   38         13   Yes   No\n",
              "\n",
              "[5 rows x 11 columns]"
            ]
          },
          "metadata": {},
          "execution_count": 5
        }
      ],
      "source": [
        "mydata.head()"
      ]
    },
    {
      "cell_type": "code",
      "execution_count": 6,
      "metadata": {
        "colab": {
          "base_uri": "https://localhost:8080/"
        },
        "id": "EcRZdzHcQX_F",
        "outputId": "ca0c02de-9359-46e9-8f4a-dc4ad2b5d23b"
      },
      "outputs": [
        {
          "output_type": "stream",
          "name": "stdout",
          "text": [
            "<class 'pandas.core.frame.DataFrame'>\n",
            "RangeIndex: 400 entries, 0 to 399\n",
            "Data columns (total 11 columns):\n",
            " #   Column       Non-Null Count  Dtype  \n",
            "---  ------       --------------  -----  \n",
            " 0   Sales        400 non-null    float64\n",
            " 1   CompPrice    400 non-null    int64  \n",
            " 2   Income       400 non-null    int64  \n",
            " 3   Advertising  400 non-null    int64  \n",
            " 4   Population   400 non-null    int64  \n",
            " 5   Price        400 non-null    int64  \n",
            " 6   ShelveLoc    400 non-null    object \n",
            " 7   Age          400 non-null    int64  \n",
            " 8   Education    400 non-null    int64  \n",
            " 9   Urban        400 non-null    object \n",
            " 10  US           400 non-null    object \n",
            "dtypes: float64(1), int64(7), object(3)\n",
            "memory usage: 34.5+ KB\n"
          ]
        }
      ],
      "source": [
        "mydata.info()"
      ]
    },
    {
      "cell_type": "code",
      "execution_count": 7,
      "metadata": {
        "id": "bEEAXOG3QX_G"
      },
      "outputs": [],
      "source": [
        "mydata['High'] = mydata.Sales.map(lambda x: 1 if x>8 else 0)\n",
        "mydata.ShelveLoc = pd.factorize(mydata.ShelveLoc)[0]\n",
        "mydata.Urban = mydata.Urban.map({'No':0, 'Yes':1})\n",
        "mydata.US = mydata.US.map({'No':0, 'Yes':1})"
      ]
    },
    {
      "cell_type": "code",
      "execution_count": 8,
      "metadata": {
        "colab": {
          "base_uri": "https://localhost:8080/",
          "height": 363
        },
        "id": "nnOiM0S8QX_H",
        "outputId": "51f16c61-ac0d-40d7-f8f3-bcee1bf80b5d"
      },
      "outputs": [
        {
          "output_type": "execute_result",
          "data": {
            "text/html": [
              "\n",
              "  <div id=\"df-d47cc3bd-a809-4f4b-b7fd-91c16b0db04f\">\n",
              "    <div class=\"colab-df-container\">\n",
              "      <div>\n",
              "<style scoped>\n",
              "    .dataframe tbody tr th:only-of-type {\n",
              "        vertical-align: middle;\n",
              "    }\n",
              "\n",
              "    .dataframe tbody tr th {\n",
              "        vertical-align: top;\n",
              "    }\n",
              "\n",
              "    .dataframe thead th {\n",
              "        text-align: right;\n",
              "    }\n",
              "</style>\n",
              "<table border=\"1\" class=\"dataframe\">\n",
              "  <thead>\n",
              "    <tr style=\"text-align: right;\">\n",
              "      <th></th>\n",
              "      <th>Sales</th>\n",
              "      <th>CompPrice</th>\n",
              "      <th>Income</th>\n",
              "      <th>Advertising</th>\n",
              "      <th>Population</th>\n",
              "      <th>Price</th>\n",
              "      <th>ShelveLoc</th>\n",
              "      <th>Age</th>\n",
              "      <th>Education</th>\n",
              "      <th>Urban</th>\n",
              "      <th>US</th>\n",
              "      <th>High</th>\n",
              "    </tr>\n",
              "  </thead>\n",
              "  <tbody>\n",
              "    <tr>\n",
              "      <th>0</th>\n",
              "      <td>9.50</td>\n",
              "      <td>138</td>\n",
              "      <td>73</td>\n",
              "      <td>11</td>\n",
              "      <td>276</td>\n",
              "      <td>120</td>\n",
              "      <td>0</td>\n",
              "      <td>42</td>\n",
              "      <td>17</td>\n",
              "      <td>1</td>\n",
              "      <td>1</td>\n",
              "      <td>1</td>\n",
              "    </tr>\n",
              "    <tr>\n",
              "      <th>1</th>\n",
              "      <td>11.22</td>\n",
              "      <td>111</td>\n",
              "      <td>48</td>\n",
              "      <td>16</td>\n",
              "      <td>260</td>\n",
              "      <td>83</td>\n",
              "      <td>1</td>\n",
              "      <td>65</td>\n",
              "      <td>10</td>\n",
              "      <td>1</td>\n",
              "      <td>1</td>\n",
              "      <td>1</td>\n",
              "    </tr>\n",
              "    <tr>\n",
              "      <th>2</th>\n",
              "      <td>10.06</td>\n",
              "      <td>113</td>\n",
              "      <td>35</td>\n",
              "      <td>10</td>\n",
              "      <td>269</td>\n",
              "      <td>80</td>\n",
              "      <td>2</td>\n",
              "      <td>59</td>\n",
              "      <td>12</td>\n",
              "      <td>1</td>\n",
              "      <td>1</td>\n",
              "      <td>1</td>\n",
              "    </tr>\n",
              "    <tr>\n",
              "      <th>3</th>\n",
              "      <td>7.40</td>\n",
              "      <td>117</td>\n",
              "      <td>100</td>\n",
              "      <td>4</td>\n",
              "      <td>466</td>\n",
              "      <td>97</td>\n",
              "      <td>2</td>\n",
              "      <td>55</td>\n",
              "      <td>14</td>\n",
              "      <td>1</td>\n",
              "      <td>1</td>\n",
              "      <td>0</td>\n",
              "    </tr>\n",
              "    <tr>\n",
              "      <th>4</th>\n",
              "      <td>4.15</td>\n",
              "      <td>141</td>\n",
              "      <td>64</td>\n",
              "      <td>3</td>\n",
              "      <td>340</td>\n",
              "      <td>128</td>\n",
              "      <td>0</td>\n",
              "      <td>38</td>\n",
              "      <td>13</td>\n",
              "      <td>1</td>\n",
              "      <td>0</td>\n",
              "      <td>0</td>\n",
              "    </tr>\n",
              "    <tr>\n",
              "      <th>5</th>\n",
              "      <td>10.81</td>\n",
              "      <td>124</td>\n",
              "      <td>113</td>\n",
              "      <td>13</td>\n",
              "      <td>501</td>\n",
              "      <td>72</td>\n",
              "      <td>0</td>\n",
              "      <td>78</td>\n",
              "      <td>16</td>\n",
              "      <td>0</td>\n",
              "      <td>1</td>\n",
              "      <td>1</td>\n",
              "    </tr>\n",
              "    <tr>\n",
              "      <th>6</th>\n",
              "      <td>6.63</td>\n",
              "      <td>115</td>\n",
              "      <td>105</td>\n",
              "      <td>0</td>\n",
              "      <td>45</td>\n",
              "      <td>108</td>\n",
              "      <td>2</td>\n",
              "      <td>71</td>\n",
              "      <td>15</td>\n",
              "      <td>1</td>\n",
              "      <td>0</td>\n",
              "      <td>0</td>\n",
              "    </tr>\n",
              "    <tr>\n",
              "      <th>7</th>\n",
              "      <td>11.85</td>\n",
              "      <td>136</td>\n",
              "      <td>81</td>\n",
              "      <td>15</td>\n",
              "      <td>425</td>\n",
              "      <td>120</td>\n",
              "      <td>1</td>\n",
              "      <td>67</td>\n",
              "      <td>10</td>\n",
              "      <td>1</td>\n",
              "      <td>1</td>\n",
              "      <td>1</td>\n",
              "    </tr>\n",
              "    <tr>\n",
              "      <th>8</th>\n",
              "      <td>6.54</td>\n",
              "      <td>132</td>\n",
              "      <td>110</td>\n",
              "      <td>0</td>\n",
              "      <td>108</td>\n",
              "      <td>124</td>\n",
              "      <td>2</td>\n",
              "      <td>76</td>\n",
              "      <td>10</td>\n",
              "      <td>0</td>\n",
              "      <td>0</td>\n",
              "      <td>0</td>\n",
              "    </tr>\n",
              "    <tr>\n",
              "      <th>9</th>\n",
              "      <td>4.69</td>\n",
              "      <td>132</td>\n",
              "      <td>113</td>\n",
              "      <td>0</td>\n",
              "      <td>131</td>\n",
              "      <td>124</td>\n",
              "      <td>2</td>\n",
              "      <td>76</td>\n",
              "      <td>17</td>\n",
              "      <td>0</td>\n",
              "      <td>1</td>\n",
              "      <td>0</td>\n",
              "    </tr>\n",
              "  </tbody>\n",
              "</table>\n",
              "</div>\n",
              "      <button class=\"colab-df-convert\" onclick=\"convertToInteractive('df-d47cc3bd-a809-4f4b-b7fd-91c16b0db04f')\"\n",
              "              title=\"Convert this dataframe to an interactive table.\"\n",
              "              style=\"display:none;\">\n",
              "        \n",
              "  <svg xmlns=\"http://www.w3.org/2000/svg\" height=\"24px\"viewBox=\"0 0 24 24\"\n",
              "       width=\"24px\">\n",
              "    <path d=\"M0 0h24v24H0V0z\" fill=\"none\"/>\n",
              "    <path d=\"M18.56 5.44l.94 2.06.94-2.06 2.06-.94-2.06-.94-.94-2.06-.94 2.06-2.06.94zm-11 1L8.5 8.5l.94-2.06 2.06-.94-2.06-.94L8.5 2.5l-.94 2.06-2.06.94zm10 10l.94 2.06.94-2.06 2.06-.94-2.06-.94-.94-2.06-.94 2.06-2.06.94z\"/><path d=\"M17.41 7.96l-1.37-1.37c-.4-.4-.92-.59-1.43-.59-.52 0-1.04.2-1.43.59L10.3 9.45l-7.72 7.72c-.78.78-.78 2.05 0 2.83L4 21.41c.39.39.9.59 1.41.59.51 0 1.02-.2 1.41-.59l7.78-7.78 2.81-2.81c.8-.78.8-2.07 0-2.86zM5.41 20L4 18.59l7.72-7.72 1.47 1.35L5.41 20z\"/>\n",
              "  </svg>\n",
              "      </button>\n",
              "      \n",
              "  <style>\n",
              "    .colab-df-container {\n",
              "      display:flex;\n",
              "      flex-wrap:wrap;\n",
              "      gap: 12px;\n",
              "    }\n",
              "\n",
              "    .colab-df-convert {\n",
              "      background-color: #E8F0FE;\n",
              "      border: none;\n",
              "      border-radius: 50%;\n",
              "      cursor: pointer;\n",
              "      display: none;\n",
              "      fill: #1967D2;\n",
              "      height: 32px;\n",
              "      padding: 0 0 0 0;\n",
              "      width: 32px;\n",
              "    }\n",
              "\n",
              "    .colab-df-convert:hover {\n",
              "      background-color: #E2EBFA;\n",
              "      box-shadow: 0px 1px 2px rgba(60, 64, 67, 0.3), 0px 1px 3px 1px rgba(60, 64, 67, 0.15);\n",
              "      fill: #174EA6;\n",
              "    }\n",
              "\n",
              "    [theme=dark] .colab-df-convert {\n",
              "      background-color: #3B4455;\n",
              "      fill: #D2E3FC;\n",
              "    }\n",
              "\n",
              "    [theme=dark] .colab-df-convert:hover {\n",
              "      background-color: #434B5C;\n",
              "      box-shadow: 0px 1px 3px 1px rgba(0, 0, 0, 0.15);\n",
              "      filter: drop-shadow(0px 1px 2px rgba(0, 0, 0, 0.3));\n",
              "      fill: #FFFFFF;\n",
              "    }\n",
              "  </style>\n",
              "\n",
              "      <script>\n",
              "        const buttonEl =\n",
              "          document.querySelector('#df-d47cc3bd-a809-4f4b-b7fd-91c16b0db04f button.colab-df-convert');\n",
              "        buttonEl.style.display =\n",
              "          google.colab.kernel.accessAllowed ? 'block' : 'none';\n",
              "\n",
              "        async function convertToInteractive(key) {\n",
              "          const element = document.querySelector('#df-d47cc3bd-a809-4f4b-b7fd-91c16b0db04f');\n",
              "          const dataTable =\n",
              "            await google.colab.kernel.invokeFunction('convertToInteractive',\n",
              "                                                     [key], {});\n",
              "          if (!dataTable) return;\n",
              "\n",
              "          const docLinkHtml = 'Like what you see? Visit the ' +\n",
              "            '<a target=\"_blank\" href=https://colab.research.google.com/notebooks/data_table.ipynb>data table notebook</a>'\n",
              "            + ' to learn more about interactive tables.';\n",
              "          element.innerHTML = '';\n",
              "          dataTable['output_type'] = 'display_data';\n",
              "          await google.colab.output.renderOutput(dataTable, element);\n",
              "          const docLink = document.createElement('div');\n",
              "          docLink.innerHTML = docLinkHtml;\n",
              "          element.appendChild(docLink);\n",
              "        }\n",
              "      </script>\n",
              "    </div>\n",
              "  </div>\n",
              "  "
            ],
            "text/plain": [
              "   Sales  CompPrice  Income  Advertising  ...  Education  Urban  US  High\n",
              "0   9.50        138      73           11  ...         17      1   1     1\n",
              "1  11.22        111      48           16  ...         10      1   1     1\n",
              "2  10.06        113      35           10  ...         12      1   1     1\n",
              "3   7.40        117     100            4  ...         14      1   1     0\n",
              "4   4.15        141      64            3  ...         13      1   0     0\n",
              "5  10.81        124     113           13  ...         16      0   1     1\n",
              "6   6.63        115     105            0  ...         15      1   0     0\n",
              "7  11.85        136      81           15  ...         10      1   1     1\n",
              "8   6.54        132     110            0  ...         10      0   0     0\n",
              "9   4.69        132     113            0  ...         17      0   1     0\n",
              "\n",
              "[10 rows x 12 columns]"
            ]
          },
          "metadata": {},
          "execution_count": 8
        }
      ],
      "source": [
        "mydata.head(10)"
      ]
    },
    {
      "cell_type": "code",
      "execution_count": 9,
      "metadata": {
        "colab": {
          "base_uri": "https://localhost:8080/"
        },
        "id": "md-PdqptQX_H",
        "outputId": "d656a5e1-1ed5-424d-a2b4-77c6837fe105"
      },
      "outputs": [
        {
          "output_type": "stream",
          "name": "stdout",
          "text": [
            "<class 'pandas.core.frame.DataFrame'>\n",
            "RangeIndex: 400 entries, 0 to 399\n",
            "Data columns (total 12 columns):\n",
            " #   Column       Non-Null Count  Dtype  \n",
            "---  ------       --------------  -----  \n",
            " 0   Sales        400 non-null    float64\n",
            " 1   CompPrice    400 non-null    int64  \n",
            " 2   Income       400 non-null    int64  \n",
            " 3   Advertising  400 non-null    int64  \n",
            " 4   Population   400 non-null    int64  \n",
            " 5   Price        400 non-null    int64  \n",
            " 6   ShelveLoc    400 non-null    int64  \n",
            " 7   Age          400 non-null    int64  \n",
            " 8   Education    400 non-null    int64  \n",
            " 9   Urban        400 non-null    int64  \n",
            " 10  US           400 non-null    int64  \n",
            " 11  High         400 non-null    int64  \n",
            "dtypes: float64(1), int64(11)\n",
            "memory usage: 37.6 KB\n"
          ]
        }
      ],
      "source": [
        "mydata.info()"
      ]
    },
    {
      "cell_type": "markdown",
      "metadata": {
        "id": "9W4ykoZHQX_I"
      },
      "source": [
        "In order to properly evaluate the performance of a classification tree on\n",
        "the data, we must estimate the test error rather than simply computing\n",
        "the training error. We first split the observations into a training set and a test\n",
        "set:"
      ]
    },
    {
      "cell_type": "code",
      "execution_count": 10,
      "metadata": {
        "colab": {
          "base_uri": "https://localhost:8080/",
          "height": 206
        },
        "id": "pQmz02O0QX_I",
        "outputId": "110ebf88-bcd6-4bed-9c19-348ab2b58b5c"
      },
      "outputs": [
        {
          "output_type": "execute_result",
          "data": {
            "text/html": [
              "\n",
              "  <div id=\"df-1c99b537-22e5-4adf-9e09-461c2b8da4f3\">\n",
              "    <div class=\"colab-df-container\">\n",
              "      <div>\n",
              "<style scoped>\n",
              "    .dataframe tbody tr th:only-of-type {\n",
              "        vertical-align: middle;\n",
              "    }\n",
              "\n",
              "    .dataframe tbody tr th {\n",
              "        vertical-align: top;\n",
              "    }\n",
              "\n",
              "    .dataframe thead th {\n",
              "        text-align: right;\n",
              "    }\n",
              "</style>\n",
              "<table border=\"1\" class=\"dataframe\">\n",
              "  <thead>\n",
              "    <tr style=\"text-align: right;\">\n",
              "      <th></th>\n",
              "      <th>CompPrice</th>\n",
              "      <th>Income</th>\n",
              "      <th>Advertising</th>\n",
              "      <th>Population</th>\n",
              "      <th>Price</th>\n",
              "      <th>ShelveLoc</th>\n",
              "      <th>Age</th>\n",
              "      <th>Education</th>\n",
              "      <th>Urban</th>\n",
              "      <th>US</th>\n",
              "    </tr>\n",
              "  </thead>\n",
              "  <tbody>\n",
              "    <tr>\n",
              "      <th>0</th>\n",
              "      <td>138</td>\n",
              "      <td>73</td>\n",
              "      <td>11</td>\n",
              "      <td>276</td>\n",
              "      <td>120</td>\n",
              "      <td>0</td>\n",
              "      <td>42</td>\n",
              "      <td>17</td>\n",
              "      <td>1</td>\n",
              "      <td>1</td>\n",
              "    </tr>\n",
              "    <tr>\n",
              "      <th>1</th>\n",
              "      <td>111</td>\n",
              "      <td>48</td>\n",
              "      <td>16</td>\n",
              "      <td>260</td>\n",
              "      <td>83</td>\n",
              "      <td>1</td>\n",
              "      <td>65</td>\n",
              "      <td>10</td>\n",
              "      <td>1</td>\n",
              "      <td>1</td>\n",
              "    </tr>\n",
              "    <tr>\n",
              "      <th>2</th>\n",
              "      <td>113</td>\n",
              "      <td>35</td>\n",
              "      <td>10</td>\n",
              "      <td>269</td>\n",
              "      <td>80</td>\n",
              "      <td>2</td>\n",
              "      <td>59</td>\n",
              "      <td>12</td>\n",
              "      <td>1</td>\n",
              "      <td>1</td>\n",
              "    </tr>\n",
              "    <tr>\n",
              "      <th>3</th>\n",
              "      <td>117</td>\n",
              "      <td>100</td>\n",
              "      <td>4</td>\n",
              "      <td>466</td>\n",
              "      <td>97</td>\n",
              "      <td>2</td>\n",
              "      <td>55</td>\n",
              "      <td>14</td>\n",
              "      <td>1</td>\n",
              "      <td>1</td>\n",
              "    </tr>\n",
              "    <tr>\n",
              "      <th>4</th>\n",
              "      <td>141</td>\n",
              "      <td>64</td>\n",
              "      <td>3</td>\n",
              "      <td>340</td>\n",
              "      <td>128</td>\n",
              "      <td>0</td>\n",
              "      <td>38</td>\n",
              "      <td>13</td>\n",
              "      <td>1</td>\n",
              "      <td>0</td>\n",
              "    </tr>\n",
              "  </tbody>\n",
              "</table>\n",
              "</div>\n",
              "      <button class=\"colab-df-convert\" onclick=\"convertToInteractive('df-1c99b537-22e5-4adf-9e09-461c2b8da4f3')\"\n",
              "              title=\"Convert this dataframe to an interactive table.\"\n",
              "              style=\"display:none;\">\n",
              "        \n",
              "  <svg xmlns=\"http://www.w3.org/2000/svg\" height=\"24px\"viewBox=\"0 0 24 24\"\n",
              "       width=\"24px\">\n",
              "    <path d=\"M0 0h24v24H0V0z\" fill=\"none\"/>\n",
              "    <path d=\"M18.56 5.44l.94 2.06.94-2.06 2.06-.94-2.06-.94-.94-2.06-.94 2.06-2.06.94zm-11 1L8.5 8.5l.94-2.06 2.06-.94-2.06-.94L8.5 2.5l-.94 2.06-2.06.94zm10 10l.94 2.06.94-2.06 2.06-.94-2.06-.94-.94-2.06-.94 2.06-2.06.94z\"/><path d=\"M17.41 7.96l-1.37-1.37c-.4-.4-.92-.59-1.43-.59-.52 0-1.04.2-1.43.59L10.3 9.45l-7.72 7.72c-.78.78-.78 2.05 0 2.83L4 21.41c.39.39.9.59 1.41.59.51 0 1.02-.2 1.41-.59l7.78-7.78 2.81-2.81c.8-.78.8-2.07 0-2.86zM5.41 20L4 18.59l7.72-7.72 1.47 1.35L5.41 20z\"/>\n",
              "  </svg>\n",
              "      </button>\n",
              "      \n",
              "  <style>\n",
              "    .colab-df-container {\n",
              "      display:flex;\n",
              "      flex-wrap:wrap;\n",
              "      gap: 12px;\n",
              "    }\n",
              "\n",
              "    .colab-df-convert {\n",
              "      background-color: #E8F0FE;\n",
              "      border: none;\n",
              "      border-radius: 50%;\n",
              "      cursor: pointer;\n",
              "      display: none;\n",
              "      fill: #1967D2;\n",
              "      height: 32px;\n",
              "      padding: 0 0 0 0;\n",
              "      width: 32px;\n",
              "    }\n",
              "\n",
              "    .colab-df-convert:hover {\n",
              "      background-color: #E2EBFA;\n",
              "      box-shadow: 0px 1px 2px rgba(60, 64, 67, 0.3), 0px 1px 3px 1px rgba(60, 64, 67, 0.15);\n",
              "      fill: #174EA6;\n",
              "    }\n",
              "\n",
              "    [theme=dark] .colab-df-convert {\n",
              "      background-color: #3B4455;\n",
              "      fill: #D2E3FC;\n",
              "    }\n",
              "\n",
              "    [theme=dark] .colab-df-convert:hover {\n",
              "      background-color: #434B5C;\n",
              "      box-shadow: 0px 1px 3px 1px rgba(0, 0, 0, 0.15);\n",
              "      filter: drop-shadow(0px 1px 2px rgba(0, 0, 0, 0.3));\n",
              "      fill: #FFFFFF;\n",
              "    }\n",
              "  </style>\n",
              "\n",
              "      <script>\n",
              "        const buttonEl =\n",
              "          document.querySelector('#df-1c99b537-22e5-4adf-9e09-461c2b8da4f3 button.colab-df-convert');\n",
              "        buttonEl.style.display =\n",
              "          google.colab.kernel.accessAllowed ? 'block' : 'none';\n",
              "\n",
              "        async function convertToInteractive(key) {\n",
              "          const element = document.querySelector('#df-1c99b537-22e5-4adf-9e09-461c2b8da4f3');\n",
              "          const dataTable =\n",
              "            await google.colab.kernel.invokeFunction('convertToInteractive',\n",
              "                                                     [key], {});\n",
              "          if (!dataTable) return;\n",
              "\n",
              "          const docLinkHtml = 'Like what you see? Visit the ' +\n",
              "            '<a target=\"_blank\" href=https://colab.research.google.com/notebooks/data_table.ipynb>data table notebook</a>'\n",
              "            + ' to learn more about interactive tables.';\n",
              "          element.innerHTML = '';\n",
              "          dataTable['output_type'] = 'display_data';\n",
              "          await google.colab.output.renderOutput(dataTable, element);\n",
              "          const docLink = document.createElement('div');\n",
              "          docLink.innerHTML = docLinkHtml;\n",
              "          element.appendChild(docLink);\n",
              "        }\n",
              "      </script>\n",
              "    </div>\n",
              "  </div>\n",
              "  "
            ],
            "text/plain": [
              "   CompPrice  Income  Advertising  Population  ...  Age  Education  Urban  US\n",
              "0        138      73           11         276  ...   42         17      1   1\n",
              "1        111      48           16         260  ...   65         10      1   1\n",
              "2        113      35           10         269  ...   59         12      1   1\n",
              "3        117     100            4         466  ...   55         14      1   1\n",
              "4        141      64            3         340  ...   38         13      1   0\n",
              "\n",
              "[5 rows x 10 columns]"
            ]
          },
          "metadata": {},
          "execution_count": 10
        }
      ],
      "source": [
        "X = mydata.drop(['Sales', 'High'], axis=1)\n",
        "y = mydata.High\n",
        "X.head()"
      ]
    },
    {
      "cell_type": "code",
      "execution_count": 11,
      "metadata": {
        "colab": {
          "base_uri": "https://localhost:8080/"
        },
        "id": "XJVruGfXQX_J",
        "outputId": "e591b8d7-55a6-41d3-cccc-50439bf5b022"
      },
      "outputs": [
        {
          "output_type": "execute_result",
          "data": {
            "text/plain": [
              "0    1\n",
              "1    1\n",
              "2    1\n",
              "3    0\n",
              "4    0\n",
              "Name: High, dtype: int64"
            ]
          },
          "metadata": {},
          "execution_count": 11
        }
      ],
      "source": [
        "y.head()"
      ]
    },
    {
      "cell_type": "code",
      "execution_count": 12,
      "metadata": {
        "id": "rpqGVSS_QX_J"
      },
      "outputs": [],
      "source": [
        "X_train, X_test, y_train, y_test = train_test_split(X, y, train_size=0.8, random_state=0)"
      ]
    },
    {
      "cell_type": "markdown",
      "metadata": {
        "id": "1t8ytjenQX_J"
      },
      "source": [
        "We now use the ${\\tt DecisionTreeClassifier()}$ function to fit a classification tree in order to predict\n",
        "${\\tt High}$\n",
        "<br>\n",
        "Unfortunately, manual pruning is not implemented in ${\\tt sklearn}$: http://scikit-learn.org/stable/modules/tree.html\n",
        "<br>\n",
        "There are several hyperparameters you can adjust. e.g. criterion : 'gini' (default); 'entropy'.\n",
        "<br>\n",
        "Please check the link: https://scikit-learn.org/stable/modules/generated/sklearn.tree.DecisionTreeClassifier.html\n",
        "<br>\n",
        "However, we can limit the depth of a tree using the ${\\tt max\\_depth}$ parameter:"
      ]
    },
    {
      "cell_type": "code",
      "execution_count": 13,
      "metadata": {
        "colab": {
          "base_uri": "https://localhost:8080/"
        },
        "id": "uEs7uu7nQX_K",
        "outputId": "b8a8a50c-8cbb-4909-daa7-14fdcfe3845e"
      },
      "outputs": [
        {
          "output_type": "execute_result",
          "data": {
            "text/plain": [
              "0.8875"
            ]
          },
          "metadata": {},
          "execution_count": 13
        }
      ],
      "source": [
        "clf = DecisionTreeClassifier(max_depth=5)\n",
        "clf.fit(X_train, y_train)\n",
        "clf.score(X_train, y_train)"
      ]
    },
    {
      "cell_type": "markdown",
      "metadata": {
        "id": "IJMLEZTZQX_K"
      },
      "source": [
        "We see that the training accuracy is 88.75%.\n",
        "\n",
        "One of the most attractive properties of trees is that they can be\n",
        "graphically displayed. Unfortunately, this is a bit of a roundabout process in ${\\tt sklearn}$. We use the ${\\tt export\\_graphviz()}$ function to export the tree structure to a temporary ${\\tt .dot}$ file,\n",
        "and the ${\\tt graphviz.Source()}$ function to display the image:"
      ]
    },
    {
      "cell_type": "code",
      "execution_count": 14,
      "metadata": {
        "colab": {
          "base_uri": "https://localhost:8080/",
          "height": 815
        },
        "id": "klq0lbQWQX_L",
        "outputId": "72d0ad5a-3f8d-4bf0-e148-1765e47314e0"
      },
      "outputs": [
        {
          "output_type": "execute_result",
          "data": {
            "text/plain": [
              "<graphviz.files.Source at 0x7f92c8e97cd0>"
            ],
            "image/svg+xml": "<?xml version=\"1.0\" encoding=\"UTF-8\" standalone=\"no\"?>\n<!DOCTYPE svg PUBLIC \"-//W3C//DTD SVG 1.1//EN\"\n \"http://www.w3.org/Graphics/SVG/1.1/DTD/svg11.dtd\">\n<!-- Generated by graphviz version 2.40.1 (20161225.0304)\n -->\n<!-- Title: Tree Pages: 1 -->\n<svg width=\"1966pt\" height=\"581pt\"\n viewBox=\"0.00 0.00 1965.50 581.00\" xmlns=\"http://www.w3.org/2000/svg\" xmlns:xlink=\"http://www.w3.org/1999/xlink\">\n<g id=\"graph0\" class=\"graph\" transform=\"scale(1 1) rotate(0) translate(4 577)\">\n<title>Tree</title>\n<polygon fill=\"#ffffff\" stroke=\"transparent\" points=\"-4,4 -4,-577 1961.5,-577 1961.5,4 -4,4\"/>\n<!-- 0 -->\n<g id=\"node1\" class=\"node\">\n<title>0</title>\n<path fill=\"#f6d4bb\" stroke=\"#000000\" d=\"M695.5,-573C695.5,-573 587.5,-573 587.5,-573 581.5,-573 575.5,-567 575.5,-561 575.5,-561 575.5,-517 575.5,-517 575.5,-511 581.5,-505 587.5,-505 587.5,-505 695.5,-505 695.5,-505 701.5,-505 707.5,-511 707.5,-517 707.5,-517 707.5,-561 707.5,-561 707.5,-567 701.5,-573 695.5,-573\"/>\n<text text-anchor=\"start\" x=\"603\" y=\"-557.8\" font-family=\"Helvetica,sans-Serif\" font-size=\"14.00\" fill=\"#000000\">Price ≤ 92.5</text>\n<text text-anchor=\"start\" x=\"603.5\" y=\"-542.8\" font-family=\"Helvetica,sans-Serif\" font-size=\"14.00\" fill=\"#000000\">gini = 0.479</text>\n<text text-anchor=\"start\" x=\"593.5\" y=\"-527.8\" font-family=\"Helvetica,sans-Serif\" font-size=\"14.00\" fill=\"#000000\">samples = 320</text>\n<text text-anchor=\"start\" x=\"583.5\" y=\"-512.8\" font-family=\"Helvetica,sans-Serif\" font-size=\"14.00\" fill=\"#000000\">value = [193, 127]</text>\n</g>\n<!-- 1 -->\n<g id=\"node2\" class=\"node\">\n<title>1</title>\n<path fill=\"#67b4eb\" stroke=\"#000000\" d=\"M428,-469C428,-469 331,-469 331,-469 325,-469 319,-463 319,-457 319,-457 319,-413 319,-413 319,-407 325,-401 331,-401 331,-401 428,-401 428,-401 434,-401 440,-407 440,-413 440,-413 440,-457 440,-457 440,-463 434,-469 428,-469\"/>\n<text text-anchor=\"start\" x=\"327\" y=\"-453.8\" font-family=\"Helvetica,sans-Serif\" font-size=\"14.00\" fill=\"#000000\">ShelveLoc ≤ 0.5</text>\n<text text-anchor=\"start\" x=\"341.5\" y=\"-438.8\" font-family=\"Helvetica,sans-Serif\" font-size=\"14.00\" fill=\"#000000\">gini = 0.305</text>\n<text text-anchor=\"start\" x=\"335.5\" y=\"-423.8\" font-family=\"Helvetica,sans-Serif\" font-size=\"14.00\" fill=\"#000000\">samples = 48</text>\n<text text-anchor=\"start\" x=\"334\" y=\"-408.8\" font-family=\"Helvetica,sans-Serif\" font-size=\"14.00\" fill=\"#000000\">value = [9, 39]</text>\n</g>\n<!-- 0&#45;&gt;1 -->\n<g id=\"edge1\" class=\"edge\">\n<title>0&#45;&gt;1</title>\n<path fill=\"none\" stroke=\"#000000\" d=\"M575.3863,-512.7564C537.095,-497.5568 488.9085,-478.4293 449.91,-462.949\"/>\n<polygon fill=\"#000000\" stroke=\"#000000\" points=\"450.7906,-459.533 440.2048,-459.0966 448.208,-466.0391 450.7906,-459.533\"/>\n<text text-anchor=\"middle\" x=\"450.1133\" y=\"-478.3491\" font-family=\"Helvetica,sans-Serif\" font-size=\"14.00\" fill=\"#000000\">True</text>\n</g>\n<!-- 14 -->\n<g id=\"node15\" class=\"node\">\n<title>14</title>\n<path fill=\"#f1bd98\" stroke=\"#000000\" d=\"M993.5,-469C993.5,-469 893.5,-469 893.5,-469 887.5,-469 881.5,-463 881.5,-457 881.5,-457 881.5,-413 881.5,-413 881.5,-407 887.5,-401 893.5,-401 893.5,-401 993.5,-401 993.5,-401 999.5,-401 1005.5,-407 1005.5,-413 1005.5,-413 1005.5,-457 1005.5,-457 1005.5,-463 999.5,-469 993.5,-469\"/>\n<text text-anchor=\"start\" x=\"889.5\" y=\"-453.8\" font-family=\"Helvetica,sans-Serif\" font-size=\"14.00\" fill=\"#000000\">Advertising ≤ 6.5</text>\n<text text-anchor=\"start\" x=\"905.5\" y=\"-438.8\" font-family=\"Helvetica,sans-Serif\" font-size=\"14.00\" fill=\"#000000\">gini = 0.438</text>\n<text text-anchor=\"start\" x=\"895.5\" y=\"-423.8\" font-family=\"Helvetica,sans-Serif\" font-size=\"14.00\" fill=\"#000000\">samples = 272</text>\n<text text-anchor=\"start\" x=\"889.5\" y=\"-408.8\" font-family=\"Helvetica,sans-Serif\" font-size=\"14.00\" fill=\"#000000\">value = [184, 88]</text>\n</g>\n<!-- 0&#45;&gt;14 -->\n<g id=\"edge14\" class=\"edge\">\n<title>0&#45;&gt;14</title>\n<path fill=\"none\" stroke=\"#000000\" d=\"M707.7752,-516.1768C756.2017,-499.5001 821.8177,-476.9038 871.5255,-459.7859\"/>\n<polygon fill=\"#000000\" stroke=\"#000000\" points=\"872.9297,-463.0041 881.2451,-456.4388 870.6504,-456.3856 872.9297,-463.0041\"/>\n<text text-anchor=\"middle\" x=\"870.2867\" y=\"-475.209\" font-family=\"Helvetica,sans-Serif\" font-size=\"14.00\" fill=\"#000000\">False</text>\n</g>\n<!-- 2 -->\n<g id=\"node3\" class=\"node\">\n<title>2</title>\n<path fill=\"#e3f1fb\" stroke=\"#000000\" d=\"M227.5,-365C227.5,-365 143.5,-365 143.5,-365 137.5,-365 131.5,-359 131.5,-353 131.5,-353 131.5,-309 131.5,-309 131.5,-303 137.5,-297 143.5,-297 143.5,-297 227.5,-297 227.5,-297 233.5,-297 239.5,-303 239.5,-309 239.5,-309 239.5,-353 239.5,-353 239.5,-359 233.5,-365 227.5,-365\"/>\n<text text-anchor=\"start\" x=\"139.5\" y=\"-349.8\" font-family=\"Helvetica,sans-Serif\" font-size=\"14.00\" fill=\"#000000\">Income ≤ 57.0</text>\n<text text-anchor=\"start\" x=\"147.5\" y=\"-334.8\" font-family=\"Helvetica,sans-Serif\" font-size=\"14.00\" fill=\"#000000\">gini = 0.497</text>\n<text text-anchor=\"start\" x=\"141.5\" y=\"-319.8\" font-family=\"Helvetica,sans-Serif\" font-size=\"14.00\" fill=\"#000000\">samples = 13</text>\n<text text-anchor=\"start\" x=\"144\" y=\"-304.8\" font-family=\"Helvetica,sans-Serif\" font-size=\"14.00\" fill=\"#000000\">value = [6, 7]</text>\n</g>\n<!-- 1&#45;&gt;2 -->\n<g id=\"edge2\" class=\"edge\">\n<title>1&#45;&gt;2</title>\n<path fill=\"none\" stroke=\"#000000\" d=\"M318.9152,-402.5215C296.5377,-390.5253 271.1354,-376.9076 248.545,-364.7973\"/>\n<polygon fill=\"#000000\" stroke=\"#000000\" points=\"250.1782,-361.7017 239.7111,-360.0616 246.8709,-367.8711 250.1782,-361.7017\"/>\n</g>\n<!-- 7 -->\n<g id=\"node8\" class=\"node\">\n<title>7</title>\n<path fill=\"#4ca6e7\" stroke=\"#000000\" d=\"M436,-365C436,-365 323,-365 323,-365 317,-365 311,-359 311,-353 311,-353 311,-309 311,-309 311,-303 317,-297 323,-297 323,-297 436,-297 436,-297 442,-297 448,-303 448,-309 448,-309 448,-353 448,-353 448,-359 442,-365 436,-365\"/>\n<text text-anchor=\"start\" x=\"319\" y=\"-349.8\" font-family=\"Helvetica,sans-Serif\" font-size=\"14.00\" fill=\"#000000\">Population ≤ 198.5</text>\n<text text-anchor=\"start\" x=\"341.5\" y=\"-334.8\" font-family=\"Helvetica,sans-Serif\" font-size=\"14.00\" fill=\"#000000\">gini = 0.157</text>\n<text text-anchor=\"start\" x=\"335.5\" y=\"-319.8\" font-family=\"Helvetica,sans-Serif\" font-size=\"14.00\" fill=\"#000000\">samples = 35</text>\n<text text-anchor=\"start\" x=\"334\" y=\"-304.8\" font-family=\"Helvetica,sans-Serif\" font-size=\"14.00\" fill=\"#000000\">value = [3, 32]</text>\n</g>\n<!-- 1&#45;&gt;7 -->\n<g id=\"edge7\" class=\"edge\">\n<title>1&#45;&gt;7</title>\n<path fill=\"none\" stroke=\"#000000\" d=\"M379.5,-400.9465C379.5,-392.776 379.5,-383.9318 379.5,-375.3697\"/>\n<polygon fill=\"#000000\" stroke=\"#000000\" points=\"383.0001,-375.13 379.5,-365.13 376.0001,-375.13 383.0001,-375.13\"/>\n</g>\n<!-- 3 -->\n<g id=\"node4\" class=\"node\">\n<title>3</title>\n<path fill=\"#e58139\" stroke=\"#000000\" d=\"M87,-253.5C87,-253.5 12,-253.5 12,-253.5 6,-253.5 0,-247.5 0,-241.5 0,-241.5 0,-212.5 0,-212.5 0,-206.5 6,-200.5 12,-200.5 12,-200.5 87,-200.5 87,-200.5 93,-200.5 99,-206.5 99,-212.5 99,-212.5 99,-241.5 99,-241.5 99,-247.5 93,-253.5 87,-253.5\"/>\n<text text-anchor=\"start\" x=\"20\" y=\"-238.3\" font-family=\"Helvetica,sans-Serif\" font-size=\"14.00\" fill=\"#000000\">gini = 0.0</text>\n<text text-anchor=\"start\" x=\"10\" y=\"-223.3\" font-family=\"Helvetica,sans-Serif\" font-size=\"14.00\" fill=\"#000000\">samples = 5</text>\n<text text-anchor=\"start\" x=\"8\" y=\"-208.3\" font-family=\"Helvetica,sans-Serif\" font-size=\"14.00\" fill=\"#000000\">value = [5, 0]</text>\n</g>\n<!-- 2&#45;&gt;3 -->\n<g id=\"edge3\" class=\"edge\">\n<title>2&#45;&gt;3</title>\n<path fill=\"none\" stroke=\"#000000\" d=\"M140.9685,-296.9465C125.4121,-285.0504 107.9879,-271.726 92.5541,-259.9237\"/>\n<polygon fill=\"#000000\" stroke=\"#000000\" points=\"94.2787,-256.8364 84.209,-253.5422 90.0265,-262.397 94.2787,-256.8364\"/>\n</g>\n<!-- 4 -->\n<g id=\"node5\" class=\"node\">\n<title>4</title>\n<path fill=\"#55abe9\" stroke=\"#000000\" d=\"M242,-261C242,-261 129,-261 129,-261 123,-261 117,-255 117,-249 117,-249 117,-205 117,-205 117,-199 123,-193 129,-193 129,-193 242,-193 242,-193 248,-193 254,-199 254,-205 254,-205 254,-249 254,-249 254,-255 248,-261 242,-261\"/>\n<text text-anchor=\"start\" x=\"125\" y=\"-245.8\" font-family=\"Helvetica,sans-Serif\" font-size=\"14.00\" fill=\"#000000\">Population ≤ 120.0</text>\n<text text-anchor=\"start\" x=\"147.5\" y=\"-230.8\" font-family=\"Helvetica,sans-Serif\" font-size=\"14.00\" fill=\"#000000\">gini = 0.219</text>\n<text text-anchor=\"start\" x=\"146\" y=\"-215.8\" font-family=\"Helvetica,sans-Serif\" font-size=\"14.00\" fill=\"#000000\">samples = 8</text>\n<text text-anchor=\"start\" x=\"144\" y=\"-200.8\" font-family=\"Helvetica,sans-Serif\" font-size=\"14.00\" fill=\"#000000\">value = [1, 7]</text>\n</g>\n<!-- 2&#45;&gt;4 -->\n<g id=\"edge4\" class=\"edge\">\n<title>2&#45;&gt;4</title>\n<path fill=\"none\" stroke=\"#000000\" d=\"M185.5,-296.9465C185.5,-288.776 185.5,-279.9318 185.5,-271.3697\"/>\n<polygon fill=\"#000000\" stroke=\"#000000\" points=\"189.0001,-271.13 185.5,-261.13 182.0001,-271.13 189.0001,-271.13\"/>\n</g>\n<!-- 5 -->\n<g id=\"node6\" class=\"node\">\n<title>5</title>\n<path fill=\"#e58139\" stroke=\"#000000\" d=\"M106,-149.5C106,-149.5 31,-149.5 31,-149.5 25,-149.5 19,-143.5 19,-137.5 19,-137.5 19,-108.5 19,-108.5 19,-102.5 25,-96.5 31,-96.5 31,-96.5 106,-96.5 106,-96.5 112,-96.5 118,-102.5 118,-108.5 118,-108.5 118,-137.5 118,-137.5 118,-143.5 112,-149.5 106,-149.5\"/>\n<text text-anchor=\"start\" x=\"39\" y=\"-134.3\" font-family=\"Helvetica,sans-Serif\" font-size=\"14.00\" fill=\"#000000\">gini = 0.0</text>\n<text text-anchor=\"start\" x=\"29\" y=\"-119.3\" font-family=\"Helvetica,sans-Serif\" font-size=\"14.00\" fill=\"#000000\">samples = 1</text>\n<text text-anchor=\"start\" x=\"27\" y=\"-104.3\" font-family=\"Helvetica,sans-Serif\" font-size=\"14.00\" fill=\"#000000\">value = [1, 0]</text>\n</g>\n<!-- 4&#45;&gt;5 -->\n<g id=\"edge5\" class=\"edge\">\n<title>4&#45;&gt;5</title>\n<path fill=\"none\" stroke=\"#000000\" d=\"M147.1898,-192.9465C133.9306,-181.1606 119.0942,-167.9726 105.9084,-156.2519\"/>\n<polygon fill=\"#000000\" stroke=\"#000000\" points=\"108.1593,-153.5699 98.3599,-149.5422 103.5088,-158.8018 108.1593,-153.5699\"/>\n</g>\n<!-- 6 -->\n<g id=\"node7\" class=\"node\">\n<title>6</title>\n<path fill=\"#399de5\" stroke=\"#000000\" d=\"M223,-149.5C223,-149.5 148,-149.5 148,-149.5 142,-149.5 136,-143.5 136,-137.5 136,-137.5 136,-108.5 136,-108.5 136,-102.5 142,-96.5 148,-96.5 148,-96.5 223,-96.5 223,-96.5 229,-96.5 235,-102.5 235,-108.5 235,-108.5 235,-137.5 235,-137.5 235,-143.5 229,-149.5 223,-149.5\"/>\n<text text-anchor=\"start\" x=\"156\" y=\"-134.3\" font-family=\"Helvetica,sans-Serif\" font-size=\"14.00\" fill=\"#000000\">gini = 0.0</text>\n<text text-anchor=\"start\" x=\"146\" y=\"-119.3\" font-family=\"Helvetica,sans-Serif\" font-size=\"14.00\" fill=\"#000000\">samples = 7</text>\n<text text-anchor=\"start\" x=\"144\" y=\"-104.3\" font-family=\"Helvetica,sans-Serif\" font-size=\"14.00\" fill=\"#000000\">value = [0, 7]</text>\n</g>\n<!-- 4&#45;&gt;6 -->\n<g id=\"edge6\" class=\"edge\">\n<title>4&#45;&gt;6</title>\n<path fill=\"none\" stroke=\"#000000\" d=\"M185.5,-192.9465C185.5,-182.2621 185.5,-170.4254 185.5,-159.5742\"/>\n<polygon fill=\"#000000\" stroke=\"#000000\" points=\"189.0001,-159.5421 185.5,-149.5422 182.0001,-159.5422 189.0001,-159.5421\"/>\n</g>\n<!-- 8 -->\n<g id=\"node9\" class=\"node\">\n<title>8</title>\n<path fill=\"#6fb8ec\" stroke=\"#000000\" d=\"M394,-261C394,-261 311,-261 311,-261 305,-261 299,-255 299,-249 299,-249 299,-205 299,-205 299,-199 305,-193 311,-193 311,-193 394,-193 394,-193 400,-193 406,-199 406,-205 406,-205 406,-249 406,-249 406,-255 400,-261 394,-261\"/>\n<text text-anchor=\"start\" x=\"314\" y=\"-245.8\" font-family=\"Helvetica,sans-Serif\" font-size=\"14.00\" fill=\"#000000\">Price ≤ 86.5</text>\n<text text-anchor=\"start\" x=\"314.5\" y=\"-230.8\" font-family=\"Helvetica,sans-Serif\" font-size=\"14.00\" fill=\"#000000\">gini = 0.337</text>\n<text text-anchor=\"start\" x=\"308.5\" y=\"-215.8\" font-family=\"Helvetica,sans-Serif\" font-size=\"14.00\" fill=\"#000000\">samples = 14</text>\n<text text-anchor=\"start\" x=\"307\" y=\"-200.8\" font-family=\"Helvetica,sans-Serif\" font-size=\"14.00\" fill=\"#000000\">value = [3, 11]</text>\n</g>\n<!-- 7&#45;&gt;8 -->\n<g id=\"edge8\" class=\"edge\">\n<title>7&#45;&gt;8</title>\n<path fill=\"none\" stroke=\"#000000\" d=\"M370.6592,-296.9465C368.5147,-288.6863 366.1914,-279.7374 363.9458,-271.0875\"/>\n<polygon fill=\"#000000\" stroke=\"#000000\" points=\"367.2613,-269.9296 361.3607,-261.13 360.4859,-271.6887 367.2613,-269.9296\"/>\n</g>\n<!-- 13 -->\n<g id=\"node14\" class=\"node\">\n<title>13</title>\n<path fill=\"#399de5\" stroke=\"#000000\" d=\"M519,-253.5C519,-253.5 436,-253.5 436,-253.5 430,-253.5 424,-247.5 424,-241.5 424,-241.5 424,-212.5 424,-212.5 424,-206.5 430,-200.5 436,-200.5 436,-200.5 519,-200.5 519,-200.5 525,-200.5 531,-206.5 531,-212.5 531,-212.5 531,-241.5 531,-241.5 531,-247.5 525,-253.5 519,-253.5\"/>\n<text text-anchor=\"start\" x=\"448\" y=\"-238.3\" font-family=\"Helvetica,sans-Serif\" font-size=\"14.00\" fill=\"#000000\">gini = 0.0</text>\n<text text-anchor=\"start\" x=\"433.5\" y=\"-223.3\" font-family=\"Helvetica,sans-Serif\" font-size=\"14.00\" fill=\"#000000\">samples = 21</text>\n<text text-anchor=\"start\" x=\"432\" y=\"-208.3\" font-family=\"Helvetica,sans-Serif\" font-size=\"14.00\" fill=\"#000000\">value = [0, 21]</text>\n</g>\n<!-- 7&#45;&gt;13 -->\n<g id=\"edge13\" class=\"edge\">\n<title>7&#45;&gt;13</title>\n<path fill=\"none\" stroke=\"#000000\" d=\"M411.5889,-296.9465C422.4873,-285.3809 434.6578,-272.4652 445.5457,-260.9107\"/>\n<polygon fill=\"#000000\" stroke=\"#000000\" points=\"448.1783,-263.2204 452.4891,-253.5422 443.0838,-258.4198 448.1783,-263.2204\"/>\n</g>\n<!-- 9 -->\n<g id=\"node10\" class=\"node\">\n<title>9</title>\n<path fill=\"#399de5\" stroke=\"#000000\" d=\"M340,-149.5C340,-149.5 265,-149.5 265,-149.5 259,-149.5 253,-143.5 253,-137.5 253,-137.5 253,-108.5 253,-108.5 253,-102.5 259,-96.5 265,-96.5 265,-96.5 340,-96.5 340,-96.5 346,-96.5 352,-102.5 352,-108.5 352,-108.5 352,-137.5 352,-137.5 352,-143.5 346,-149.5 340,-149.5\"/>\n<text text-anchor=\"start\" x=\"273\" y=\"-134.3\" font-family=\"Helvetica,sans-Serif\" font-size=\"14.00\" fill=\"#000000\">gini = 0.0</text>\n<text text-anchor=\"start\" x=\"263\" y=\"-119.3\" font-family=\"Helvetica,sans-Serif\" font-size=\"14.00\" fill=\"#000000\">samples = 9</text>\n<text text-anchor=\"start\" x=\"261\" y=\"-104.3\" font-family=\"Helvetica,sans-Serif\" font-size=\"14.00\" fill=\"#000000\">value = [0, 9]</text>\n</g>\n<!-- 8&#45;&gt;9 -->\n<g id=\"edge9\" class=\"edge\">\n<title>8&#45;&gt;9</title>\n<path fill=\"none\" stroke=\"#000000\" d=\"M336.1281,-192.9465C330.8325,-181.9316 324.9482,-169.6922 319.6011,-158.5703\"/>\n<polygon fill=\"#000000\" stroke=\"#000000\" points=\"322.748,-157.0381 315.2607,-149.5422 316.4393,-160.0712 322.748,-157.0381\"/>\n</g>\n<!-- 10 -->\n<g id=\"node11\" class=\"node\">\n<title>10</title>\n<path fill=\"#f6d5bd\" stroke=\"#000000\" d=\"M482.5,-157C482.5,-157 382.5,-157 382.5,-157 376.5,-157 370.5,-151 370.5,-145 370.5,-145 370.5,-101 370.5,-101 370.5,-95 376.5,-89 382.5,-89 382.5,-89 482.5,-89 482.5,-89 488.5,-89 494.5,-95 494.5,-101 494.5,-101 494.5,-145 494.5,-145 494.5,-151 488.5,-157 482.5,-157\"/>\n<text text-anchor=\"start\" x=\"378.5\" y=\"-141.8\" font-family=\"Helvetica,sans-Serif\" font-size=\"14.00\" fill=\"#000000\">Advertising ≤ 5.0</text>\n<text text-anchor=\"start\" x=\"399\" y=\"-126.8\" font-family=\"Helvetica,sans-Serif\" font-size=\"14.00\" fill=\"#000000\">gini = 0.48</text>\n<text text-anchor=\"start\" x=\"393\" y=\"-111.8\" font-family=\"Helvetica,sans-Serif\" font-size=\"14.00\" fill=\"#000000\">samples = 5</text>\n<text text-anchor=\"start\" x=\"391\" y=\"-96.8\" font-family=\"Helvetica,sans-Serif\" font-size=\"14.00\" fill=\"#000000\">value = [3, 2]</text>\n</g>\n<!-- 8&#45;&gt;10 -->\n<g id=\"edge10\" class=\"edge\">\n<title>8&#45;&gt;10</title>\n<path fill=\"none\" stroke=\"#000000\" d=\"M378.695,-192.9465C385.5325,-184.0578 392.9834,-174.3716 400.101,-165.1188\"/>\n<polygon fill=\"#000000\" stroke=\"#000000\" points=\"402.9232,-167.1903 406.2462,-157.13 397.3748,-162.9223 402.9232,-167.1903\"/>\n</g>\n<!-- 11 -->\n<g id=\"node12\" class=\"node\">\n<title>11</title>\n<path fill=\"#e58139\" stroke=\"#000000\" d=\"M353,-53C353,-53 278,-53 278,-53 272,-53 266,-47 266,-41 266,-41 266,-12 266,-12 266,-6 272,0 278,0 278,0 353,0 353,0 359,0 365,-6 365,-12 365,-12 365,-41 365,-41 365,-47 359,-53 353,-53\"/>\n<text text-anchor=\"start\" x=\"286\" y=\"-37.8\" font-family=\"Helvetica,sans-Serif\" font-size=\"14.00\" fill=\"#000000\">gini = 0.0</text>\n<text text-anchor=\"start\" x=\"276\" y=\"-22.8\" font-family=\"Helvetica,sans-Serif\" font-size=\"14.00\" fill=\"#000000\">samples = 2</text>\n<text text-anchor=\"start\" x=\"274\" y=\"-7.8\" font-family=\"Helvetica,sans-Serif\" font-size=\"14.00\" fill=\"#000000\">value = [2, 0]</text>\n</g>\n<!-- 10&#45;&gt;11 -->\n<g id=\"edge11\" class=\"edge\">\n<title>10&#45;&gt;11</title>\n<path fill=\"none\" stroke=\"#000000\" d=\"M391.2502,-88.9777C379.7039,-79.4545 367.1729,-69.1191 355.689,-59.6473\"/>\n<polygon fill=\"#000000\" stroke=\"#000000\" points=\"357.8724,-56.9113 347.9308,-53.2485 353.4184,-62.3115 357.8724,-56.9113\"/>\n</g>\n<!-- 12 -->\n<g id=\"node13\" class=\"node\">\n<title>12</title>\n<path fill=\"#9ccef2\" stroke=\"#000000\" d=\"M470,-53C470,-53 395,-53 395,-53 389,-53 383,-47 383,-41 383,-41 383,-12 383,-12 383,-6 389,0 395,0 395,0 470,0 470,0 476,0 482,-6 482,-12 482,-12 482,-41 482,-41 482,-47 476,-53 470,-53\"/>\n<text text-anchor=\"start\" x=\"394.5\" y=\"-37.8\" font-family=\"Helvetica,sans-Serif\" font-size=\"14.00\" fill=\"#000000\">gini = 0.444</text>\n<text text-anchor=\"start\" x=\"393\" y=\"-22.8\" font-family=\"Helvetica,sans-Serif\" font-size=\"14.00\" fill=\"#000000\">samples = 3</text>\n<text text-anchor=\"start\" x=\"391\" y=\"-7.8\" font-family=\"Helvetica,sans-Serif\" font-size=\"14.00\" fill=\"#000000\">value = [1, 2]</text>\n</g>\n<!-- 10&#45;&gt;12 -->\n<g id=\"edge12\" class=\"edge\">\n<title>10&#45;&gt;12</title>\n<path fill=\"none\" stroke=\"#000000\" d=\"M432.5,-88.9777C432.5,-80.7364 432.5,-71.887 432.5,-63.5153\"/>\n<polygon fill=\"#000000\" stroke=\"#000000\" points=\"436.0001,-63.2484 432.5,-53.2485 429.0001,-63.2485 436.0001,-63.2484\"/>\n</g>\n<!-- 15 -->\n<g id=\"node16\" class=\"node\">\n<title>15</title>\n<path fill=\"#ea9b63\" stroke=\"#000000\" d=\"M1001.5,-365C1001.5,-365 885.5,-365 885.5,-365 879.5,-365 873.5,-359 873.5,-353 873.5,-353 873.5,-309 873.5,-309 873.5,-303 879.5,-297 885.5,-297 885.5,-297 1001.5,-297 1001.5,-297 1007.5,-297 1013.5,-303 1013.5,-309 1013.5,-309 1013.5,-353 1013.5,-353 1013.5,-359 1007.5,-365 1001.5,-365\"/>\n<text text-anchor=\"start\" x=\"881.5\" y=\"-349.8\" font-family=\"Helvetica,sans-Serif\" font-size=\"14.00\" fill=\"#000000\">CompPrice ≤ 144.5</text>\n<text text-anchor=\"start\" x=\"905.5\" y=\"-334.8\" font-family=\"Helvetica,sans-Serif\" font-size=\"14.00\" fill=\"#000000\">gini = 0.287</text>\n<text text-anchor=\"start\" x=\"895.5\" y=\"-319.8\" font-family=\"Helvetica,sans-Serif\" font-size=\"14.00\" fill=\"#000000\">samples = 144</text>\n<text text-anchor=\"start\" x=\"889.5\" y=\"-304.8\" font-family=\"Helvetica,sans-Serif\" font-size=\"14.00\" fill=\"#000000\">value = [119, 25]</text>\n</g>\n<!-- 14&#45;&gt;15 -->\n<g id=\"edge15\" class=\"edge\">\n<title>14&#45;&gt;15</title>\n<path fill=\"none\" stroke=\"#000000\" d=\"M943.5,-400.9465C943.5,-392.776 943.5,-383.9318 943.5,-375.3697\"/>\n<polygon fill=\"#000000\" stroke=\"#000000\" points=\"947.0001,-375.13 943.5,-365.13 940.0001,-375.13 947.0001,-375.13\"/>\n</g>\n<!-- 28 -->\n<g id=\"node29\" class=\"node\">\n<title>28</title>\n<path fill=\"#fefbf9\" stroke=\"#000000\" d=\"M1394,-365C1394,-365 1297,-365 1297,-365 1291,-365 1285,-359 1285,-353 1285,-353 1285,-309 1285,-309 1285,-303 1291,-297 1297,-297 1297,-297 1394,-297 1394,-297 1400,-297 1406,-303 1406,-309 1406,-309 1406,-353 1406,-353 1406,-359 1400,-365 1394,-365\"/>\n<text text-anchor=\"start\" x=\"1293\" y=\"-349.8\" font-family=\"Helvetica,sans-Serif\" font-size=\"14.00\" fill=\"#000000\">ShelveLoc ≤ 0.5</text>\n<text text-anchor=\"start\" x=\"1316\" y=\"-334.8\" font-family=\"Helvetica,sans-Serif\" font-size=\"14.00\" fill=\"#000000\">gini = 0.5</text>\n<text text-anchor=\"start\" x=\"1297.5\" y=\"-319.8\" font-family=\"Helvetica,sans-Serif\" font-size=\"14.00\" fill=\"#000000\">samples = 128</text>\n<text text-anchor=\"start\" x=\"1295.5\" y=\"-304.8\" font-family=\"Helvetica,sans-Serif\" font-size=\"14.00\" fill=\"#000000\">value = [65, 63]</text>\n</g>\n<!-- 14&#45;&gt;28 -->\n<g id=\"edge28\" class=\"edge\">\n<title>14&#45;&gt;28</title>\n<path fill=\"none\" stroke=\"#000000\" d=\"M1005.8714,-418.8641C1078.687,-400.0262 1198.8278,-368.9451 1274.9748,-349.2453\"/>\n<polygon fill=\"#000000\" stroke=\"#000000\" points=\"1276.1524,-352.556 1284.957,-346.6629 1274.3991,-345.7791 1276.1524,-352.556\"/>\n</g>\n<!-- 16 -->\n<g id=\"node17\" class=\"node\">\n<title>16</title>\n<path fill=\"#e99254\" stroke=\"#000000\" d=\"M901.5,-261C901.5,-261 801.5,-261 801.5,-261 795.5,-261 789.5,-255 789.5,-249 789.5,-249 789.5,-205 789.5,-205 789.5,-199 795.5,-193 801.5,-193 801.5,-193 901.5,-193 901.5,-193 907.5,-193 913.5,-199 913.5,-205 913.5,-205 913.5,-249 913.5,-249 913.5,-255 907.5,-261 901.5,-261\"/>\n<text text-anchor=\"start\" x=\"816.5\" y=\"-245.8\" font-family=\"Helvetica,sans-Serif\" font-size=\"14.00\" fill=\"#000000\">Age ≤ 50.5</text>\n<text text-anchor=\"start\" x=\"813.5\" y=\"-230.8\" font-family=\"Helvetica,sans-Serif\" font-size=\"14.00\" fill=\"#000000\">gini = 0.211</text>\n<text text-anchor=\"start\" x=\"803.5\" y=\"-215.8\" font-family=\"Helvetica,sans-Serif\" font-size=\"14.00\" fill=\"#000000\">samples = 125</text>\n<text text-anchor=\"start\" x=\"797.5\" y=\"-200.8\" font-family=\"Helvetica,sans-Serif\" font-size=\"14.00\" fill=\"#000000\">value = [110, 15]</text>\n</g>\n<!-- 15&#45;&gt;16 -->\n<g id=\"edge16\" class=\"edge\">\n<title>15&#45;&gt;16</title>\n<path fill=\"none\" stroke=\"#000000\" d=\"M913.3758,-296.9465C905.4332,-287.968 896.7709,-278.1758 888.511,-268.8385\"/>\n<polygon fill=\"#000000\" stroke=\"#000000\" points=\"890.9392,-266.301 881.6919,-261.13 885.6962,-270.939 890.9392,-266.301\"/>\n</g>\n<!-- 23 -->\n<g id=\"node24\" class=\"node\">\n<title>23</title>\n<path fill=\"#ebf5fc\" stroke=\"#000000\" d=\"M1077,-261C1077,-261 994,-261 994,-261 988,-261 982,-255 982,-249 982,-249 982,-205 982,-205 982,-199 988,-193 994,-193 994,-193 1077,-193 1077,-193 1083,-193 1089,-199 1089,-205 1089,-205 1089,-249 1089,-249 1089,-255 1083,-261 1077,-261\"/>\n<text text-anchor=\"start\" x=\"993\" y=\"-245.8\" font-family=\"Helvetica,sans-Serif\" font-size=\"14.00\" fill=\"#000000\">Price ≤ 151.5</text>\n<text text-anchor=\"start\" x=\"997.5\" y=\"-230.8\" font-family=\"Helvetica,sans-Serif\" font-size=\"14.00\" fill=\"#000000\">gini = 0.499</text>\n<text text-anchor=\"start\" x=\"991.5\" y=\"-215.8\" font-family=\"Helvetica,sans-Serif\" font-size=\"14.00\" fill=\"#000000\">samples = 19</text>\n<text text-anchor=\"start\" x=\"990\" y=\"-200.8\" font-family=\"Helvetica,sans-Serif\" font-size=\"14.00\" fill=\"#000000\">value = [9, 10]</text>\n</g>\n<!-- 15&#45;&gt;23 -->\n<g id=\"edge23\" class=\"edge\">\n<title>15&#45;&gt;23</title>\n<path fill=\"none\" stroke=\"#000000\" d=\"M973.6242,-296.9465C981.5668,-287.968 990.2291,-278.1758 998.489,-268.8385\"/>\n<polygon fill=\"#000000\" stroke=\"#000000\" points=\"1001.3038,-270.939 1005.3081,-261.13 996.0608,-266.301 1001.3038,-270.939\"/>\n</g>\n<!-- 17 -->\n<g id=\"node18\" class=\"node\">\n<title>17</title>\n<path fill=\"#edaa79\" stroke=\"#000000\" d=\"M716.5,-157C716.5,-157 624.5,-157 624.5,-157 618.5,-157 612.5,-151 612.5,-145 612.5,-145 612.5,-101 612.5,-101 612.5,-95 618.5,-89 624.5,-89 624.5,-89 716.5,-89 716.5,-89 722.5,-89 728.5,-95 728.5,-101 728.5,-101 728.5,-145 728.5,-145 728.5,-151 722.5,-157 716.5,-157\"/>\n<text text-anchor=\"start\" x=\"628\" y=\"-141.8\" font-family=\"Helvetica,sans-Serif\" font-size=\"14.00\" fill=\"#000000\">Price ≤ 100.5</text>\n<text text-anchor=\"start\" x=\"637\" y=\"-126.8\" font-family=\"Helvetica,sans-Serif\" font-size=\"14.00\" fill=\"#000000\">gini = 0.37</text>\n<text text-anchor=\"start\" x=\"626.5\" y=\"-111.8\" font-family=\"Helvetica,sans-Serif\" font-size=\"14.00\" fill=\"#000000\">samples = 49</text>\n<text text-anchor=\"start\" x=\"620.5\" y=\"-96.8\" font-family=\"Helvetica,sans-Serif\" font-size=\"14.00\" fill=\"#000000\">value = [37, 12]</text>\n</g>\n<!-- 16&#45;&gt;17 -->\n<g id=\"edge17\" class=\"edge\">\n<title>16&#45;&gt;17</title>\n<path fill=\"none\" stroke=\"#000000\" d=\"M792.2338,-192.9465C774.6907,-182.8665 755.3628,-171.761 737.3741,-161.4249\"/>\n<polygon fill=\"#000000\" stroke=\"#000000\" points=\"739.0788,-158.3678 728.6645,-156.4205 735.5914,-164.4373 739.0788,-158.3678\"/>\n</g>\n<!-- 20 -->\n<g id=\"node21\" class=\"node\">\n<title>20</title>\n<path fill=\"#e68641\" stroke=\"#000000\" d=\"M893,-157C893,-157 810,-157 810,-157 804,-157 798,-151 798,-145 798,-145 798,-101 798,-101 798,-95 804,-89 810,-89 810,-89 893,-89 893,-89 899,-89 905,-95 905,-101 905,-101 905,-145 905,-145 905,-151 899,-157 893,-157\"/>\n<text text-anchor=\"start\" x=\"809\" y=\"-141.8\" font-family=\"Helvetica,sans-Serif\" font-size=\"14.00\" fill=\"#000000\">Price ≤ 102.5</text>\n<text text-anchor=\"start\" x=\"813.5\" y=\"-126.8\" font-family=\"Helvetica,sans-Serif\" font-size=\"14.00\" fill=\"#000000\">gini = 0.076</text>\n<text text-anchor=\"start\" x=\"807.5\" y=\"-111.8\" font-family=\"Helvetica,sans-Serif\" font-size=\"14.00\" fill=\"#000000\">samples = 76</text>\n<text text-anchor=\"start\" x=\"806\" y=\"-96.8\" font-family=\"Helvetica,sans-Serif\" font-size=\"14.00\" fill=\"#000000\">value = [73, 3]</text>\n</g>\n<!-- 16&#45;&gt;20 -->\n<g id=\"edge20\" class=\"edge\">\n<title>16&#45;&gt;20</title>\n<path fill=\"none\" stroke=\"#000000\" d=\"M851.5,-192.9465C851.5,-184.776 851.5,-175.9318 851.5,-167.3697\"/>\n<polygon fill=\"#000000\" stroke=\"#000000\" points=\"855.0001,-167.13 851.5,-157.13 848.0001,-167.13 855.0001,-167.13\"/>\n</g>\n<!-- 18 -->\n<g id=\"node19\" class=\"node\">\n<title>18</title>\n<path fill=\"#61b1ea\" stroke=\"#000000\" d=\"M587,-53C587,-53 512,-53 512,-53 506,-53 500,-47 500,-41 500,-41 500,-12 500,-12 500,-6 506,0 512,0 512,0 587,0 587,0 593,0 599,-6 599,-12 599,-12 599,-41 599,-41 599,-47 593,-53 587,-53\"/>\n<text text-anchor=\"start\" x=\"511.5\" y=\"-37.8\" font-family=\"Helvetica,sans-Serif\" font-size=\"14.00\" fill=\"#000000\">gini = 0.278</text>\n<text text-anchor=\"start\" x=\"510\" y=\"-22.8\" font-family=\"Helvetica,sans-Serif\" font-size=\"14.00\" fill=\"#000000\">samples = 6</text>\n<text text-anchor=\"start\" x=\"508\" y=\"-7.8\" font-family=\"Helvetica,sans-Serif\" font-size=\"14.00\" fill=\"#000000\">value = [1, 5]</text>\n</g>\n<!-- 17&#45;&gt;18 -->\n<g id=\"edge18\" class=\"edge\">\n<title>17&#45;&gt;18</title>\n<path fill=\"none\" stroke=\"#000000\" d=\"M627.8399,-88.9777C615.8989,-79.4545 602.9395,-69.1191 591.063,-59.6473\"/>\n<polygon fill=\"#000000\" stroke=\"#000000\" points=\"593.04,-56.7473 583.0395,-53.2485 588.6754,-62.22 593.04,-56.7473\"/>\n</g>\n<!-- 19 -->\n<g id=\"node20\" class=\"node\">\n<title>19</title>\n<path fill=\"#ea9a5f\" stroke=\"#000000\" d=\"M712,-53C712,-53 629,-53 629,-53 623,-53 617,-47 617,-41 617,-41 617,-12 617,-12 617,-6 623,0 629,0 629,0 712,0 712,0 718,0 724,-6 724,-12 724,-12 724,-41 724,-41 724,-47 718,-53 712,-53\"/>\n<text text-anchor=\"start\" x=\"632.5\" y=\"-37.8\" font-family=\"Helvetica,sans-Serif\" font-size=\"14.00\" fill=\"#000000\">gini = 0.273</text>\n<text text-anchor=\"start\" x=\"626.5\" y=\"-22.8\" font-family=\"Helvetica,sans-Serif\" font-size=\"14.00\" fill=\"#000000\">samples = 43</text>\n<text text-anchor=\"start\" x=\"625\" y=\"-7.8\" font-family=\"Helvetica,sans-Serif\" font-size=\"14.00\" fill=\"#000000\">value = [36, 7]</text>\n</g>\n<!-- 17&#45;&gt;19 -->\n<g id=\"edge19\" class=\"edge\">\n<title>17&#45;&gt;19</title>\n<path fill=\"none\" stroke=\"#000000\" d=\"M670.5,-88.9777C670.5,-80.7364 670.5,-71.887 670.5,-63.5153\"/>\n<polygon fill=\"#000000\" stroke=\"#000000\" points=\"674.0001,-63.2484 670.5,-53.2485 667.0001,-63.2485 674.0001,-63.2484\"/>\n</g>\n<!-- 21 -->\n<g id=\"node22\" class=\"node\">\n<title>21</title>\n<path fill=\"#e9965a\" stroke=\"#000000\" d=\"M837,-53C837,-53 754,-53 754,-53 748,-53 742,-47 742,-41 742,-41 742,-12 742,-12 742,-6 748,0 754,0 754,0 837,0 837,0 843,0 849,-6 849,-12 849,-12 849,-41 849,-41 849,-47 843,-53 837,-53\"/>\n<text text-anchor=\"start\" x=\"757.5\" y=\"-37.8\" font-family=\"Helvetica,sans-Serif\" font-size=\"14.00\" fill=\"#000000\">gini = 0.245</text>\n<text text-anchor=\"start\" x=\"751.5\" y=\"-22.8\" font-family=\"Helvetica,sans-Serif\" font-size=\"14.00\" fill=\"#000000\">samples = 21</text>\n<text text-anchor=\"start\" x=\"750\" y=\"-7.8\" font-family=\"Helvetica,sans-Serif\" font-size=\"14.00\" fill=\"#000000\">value = [18, 3]</text>\n</g>\n<!-- 20&#45;&gt;21 -->\n<g id=\"edge21\" class=\"edge\">\n<title>20&#45;&gt;21</title>\n<path fill=\"none\" stroke=\"#000000\" d=\"M831.7565,-88.9777C826.7083,-80.2786 821.2669,-70.9018 816.1734,-62.1247\"/>\n<polygon fill=\"#000000\" stroke=\"#000000\" points=\"819.0689,-60.1409 811.0224,-53.2485 813.0145,-63.6544 819.0689,-60.1409\"/>\n</g>\n<!-- 22 -->\n<g id=\"node23\" class=\"node\">\n<title>22</title>\n<path fill=\"#e58139\" stroke=\"#000000\" d=\"M962,-53C962,-53 879,-53 879,-53 873,-53 867,-47 867,-41 867,-41 867,-12 867,-12 867,-6 873,0 879,0 879,0 962,0 962,0 968,0 974,-6 974,-12 974,-12 974,-41 974,-41 974,-47 968,-53 962,-53\"/>\n<text text-anchor=\"start\" x=\"891\" y=\"-37.8\" font-family=\"Helvetica,sans-Serif\" font-size=\"14.00\" fill=\"#000000\">gini = 0.0</text>\n<text text-anchor=\"start\" x=\"876.5\" y=\"-22.8\" font-family=\"Helvetica,sans-Serif\" font-size=\"14.00\" fill=\"#000000\">samples = 55</text>\n<text text-anchor=\"start\" x=\"875\" y=\"-7.8\" font-family=\"Helvetica,sans-Serif\" font-size=\"14.00\" fill=\"#000000\">value = [55, 0]</text>\n</g>\n<!-- 20&#45;&gt;22 -->\n<g id=\"edge22\" class=\"edge\">\n<title>20&#45;&gt;22</title>\n<path fill=\"none\" stroke=\"#000000\" d=\"M875.8268,-88.9777C882.1779,-80.0954 889.034,-70.5067 895.4232,-61.5711\"/>\n<polygon fill=\"#000000\" stroke=\"#000000\" points=\"898.4048,-63.4187 901.3741,-53.2485 892.7107,-59.3472 898.4048,-63.4187\"/>\n</g>\n<!-- 24 -->\n<g id=\"node25\" class=\"node\">\n<title>24</title>\n<path fill=\"#88c4ef\" stroke=\"#000000\" d=\"M1084,-157C1084,-157 987,-157 987,-157 981,-157 975,-151 975,-145 975,-145 975,-101 975,-101 975,-95 981,-89 987,-89 987,-89 1084,-89 1084,-89 1090,-89 1096,-95 1096,-101 1096,-101 1096,-145 1096,-145 1096,-151 1090,-157 1084,-157\"/>\n<text text-anchor=\"start\" x=\"983\" y=\"-141.8\" font-family=\"Helvetica,sans-Serif\" font-size=\"14.00\" fill=\"#000000\">ShelveLoc ≤ 0.5</text>\n<text text-anchor=\"start\" x=\"997.5\" y=\"-126.8\" font-family=\"Helvetica,sans-Serif\" font-size=\"14.00\" fill=\"#000000\">gini = 0.408</text>\n<text text-anchor=\"start\" x=\"991.5\" y=\"-111.8\" font-family=\"Helvetica,sans-Serif\" font-size=\"14.00\" fill=\"#000000\">samples = 14</text>\n<text text-anchor=\"start\" x=\"990\" y=\"-96.8\" font-family=\"Helvetica,sans-Serif\" font-size=\"14.00\" fill=\"#000000\">value = [4, 10]</text>\n</g>\n<!-- 23&#45;&gt;24 -->\n<g id=\"edge24\" class=\"edge\">\n<title>23&#45;&gt;24</title>\n<path fill=\"none\" stroke=\"#000000\" d=\"M1035.5,-192.9465C1035.5,-184.776 1035.5,-175.9318 1035.5,-167.3697\"/>\n<polygon fill=\"#000000\" stroke=\"#000000\" points=\"1039.0001,-167.13 1035.5,-157.13 1032.0001,-167.13 1039.0001,-167.13\"/>\n</g>\n<!-- 27 -->\n<g id=\"node28\" class=\"node\">\n<title>27</title>\n<path fill=\"#e58139\" stroke=\"#000000\" d=\"M1201,-149.5C1201,-149.5 1126,-149.5 1126,-149.5 1120,-149.5 1114,-143.5 1114,-137.5 1114,-137.5 1114,-108.5 1114,-108.5 1114,-102.5 1120,-96.5 1126,-96.5 1126,-96.5 1201,-96.5 1201,-96.5 1207,-96.5 1213,-102.5 1213,-108.5 1213,-108.5 1213,-137.5 1213,-137.5 1213,-143.5 1207,-149.5 1201,-149.5\"/>\n<text text-anchor=\"start\" x=\"1134\" y=\"-134.3\" font-family=\"Helvetica,sans-Serif\" font-size=\"14.00\" fill=\"#000000\">gini = 0.0</text>\n<text text-anchor=\"start\" x=\"1124\" y=\"-119.3\" font-family=\"Helvetica,sans-Serif\" font-size=\"14.00\" fill=\"#000000\">samples = 5</text>\n<text text-anchor=\"start\" x=\"1122\" y=\"-104.3\" font-family=\"Helvetica,sans-Serif\" font-size=\"14.00\" fill=\"#000000\">value = [5, 0]</text>\n</g>\n<!-- 23&#45;&gt;27 -->\n<g id=\"edge27\" class=\"edge\">\n<title>23&#45;&gt;27</title>\n<path fill=\"none\" stroke=\"#000000\" d=\"M1077.412,-192.9465C1092.0533,-181.0504 1108.4526,-167.726 1122.9785,-155.9237\"/>\n<polygon fill=\"#000000\" stroke=\"#000000\" points=\"1125.2786,-158.5645 1130.8327,-149.5422 1120.8645,-153.1317 1125.2786,-158.5645\"/>\n</g>\n<!-- 25 -->\n<g id=\"node26\" class=\"node\">\n<title>25</title>\n<path fill=\"#e58139\" stroke=\"#000000\" d=\"M1079,-53C1079,-53 1004,-53 1004,-53 998,-53 992,-47 992,-41 992,-41 992,-12 992,-12 992,-6 998,0 1004,0 1004,0 1079,0 1079,0 1085,0 1091,-6 1091,-12 1091,-12 1091,-41 1091,-41 1091,-47 1085,-53 1079,-53\"/>\n<text text-anchor=\"start\" x=\"1012\" y=\"-37.8\" font-family=\"Helvetica,sans-Serif\" font-size=\"14.00\" fill=\"#000000\">gini = 0.0</text>\n<text text-anchor=\"start\" x=\"1002\" y=\"-22.8\" font-family=\"Helvetica,sans-Serif\" font-size=\"14.00\" fill=\"#000000\">samples = 3</text>\n<text text-anchor=\"start\" x=\"1000\" y=\"-7.8\" font-family=\"Helvetica,sans-Serif\" font-size=\"14.00\" fill=\"#000000\">value = [3, 0]</text>\n</g>\n<!-- 24&#45;&gt;25 -->\n<g id=\"edge25\" class=\"edge\">\n<title>24&#45;&gt;25</title>\n<path fill=\"none\" stroke=\"#000000\" d=\"M1037.6154,-88.9777C1038.1335,-80.6449 1038.6902,-71.6903 1039.2159,-63.2364\"/>\n<polygon fill=\"#000000\" stroke=\"#000000\" points=\"1042.7095,-63.4464 1039.8369,-53.2485 1035.723,-63.012 1042.7095,-63.4464\"/>\n</g>\n<!-- 26 -->\n<g id=\"node27\" class=\"node\">\n<title>26</title>\n<path fill=\"#4da7e8\" stroke=\"#000000\" d=\"M1204,-53C1204,-53 1121,-53 1121,-53 1115,-53 1109,-47 1109,-41 1109,-41 1109,-12 1109,-12 1109,-6 1115,0 1121,0 1121,0 1204,0 1204,0 1210,0 1216,-6 1216,-12 1216,-12 1216,-41 1216,-41 1216,-47 1210,-53 1204,-53\"/>\n<text text-anchor=\"start\" x=\"1124.5\" y=\"-37.8\" font-family=\"Helvetica,sans-Serif\" font-size=\"14.00\" fill=\"#000000\">gini = 0.165</text>\n<text text-anchor=\"start\" x=\"1118.5\" y=\"-22.8\" font-family=\"Helvetica,sans-Serif\" font-size=\"14.00\" fill=\"#000000\">samples = 11</text>\n<text text-anchor=\"start\" x=\"1117\" y=\"-7.8\" font-family=\"Helvetica,sans-Serif\" font-size=\"14.00\" fill=\"#000000\">value = [1, 10]</text>\n</g>\n<!-- 24&#45;&gt;26 -->\n<g id=\"edge26\" class=\"edge\">\n<title>24&#45;&gt;26</title>\n<path fill=\"none\" stroke=\"#000000\" d=\"M1080.2754,-88.9777C1092.9292,-79.3629 1106.6723,-68.9203 1119.2353,-59.3743\"/>\n<polygon fill=\"#000000\" stroke=\"#000000\" points=\"1121.4526,-62.0853 1127.2973,-53.2485 1117.2176,-56.5118 1121.4526,-62.0853\"/>\n</g>\n<!-- 29 -->\n<g id=\"node30\" class=\"node\">\n<title>29</title>\n<path fill=\"#e78c49\" stroke=\"#000000\" d=\"M1403.5,-261C1403.5,-261 1287.5,-261 1287.5,-261 1281.5,-261 1275.5,-255 1275.5,-249 1275.5,-249 1275.5,-205 1275.5,-205 1275.5,-199 1281.5,-193 1287.5,-193 1287.5,-193 1403.5,-193 1403.5,-193 1409.5,-193 1415.5,-199 1415.5,-205 1415.5,-205 1415.5,-249 1415.5,-249 1415.5,-255 1409.5,-261 1403.5,-261\"/>\n<text text-anchor=\"start\" x=\"1283.5\" y=\"-245.8\" font-family=\"Helvetica,sans-Serif\" font-size=\"14.00\" fill=\"#000000\">CompPrice ≤ 137.5</text>\n<text text-anchor=\"start\" x=\"1307.5\" y=\"-230.8\" font-family=\"Helvetica,sans-Serif\" font-size=\"14.00\" fill=\"#000000\">gini = 0.142</text>\n<text text-anchor=\"start\" x=\"1301.5\" y=\"-215.8\" font-family=\"Helvetica,sans-Serif\" font-size=\"14.00\" fill=\"#000000\">samples = 26</text>\n<text text-anchor=\"start\" x=\"1300\" y=\"-200.8\" font-family=\"Helvetica,sans-Serif\" font-size=\"14.00\" fill=\"#000000\">value = [24, 2]</text>\n</g>\n<!-- 28&#45;&gt;29 -->\n<g id=\"edge29\" class=\"edge\">\n<title>28&#45;&gt;29</title>\n<path fill=\"none\" stroke=\"#000000\" d=\"M1345.5,-296.9465C1345.5,-288.776 1345.5,-279.9318 1345.5,-271.3697\"/>\n<polygon fill=\"#000000\" stroke=\"#000000\" points=\"1349.0001,-271.13 1345.5,-261.13 1342.0001,-271.13 1349.0001,-271.13\"/>\n</g>\n<!-- 34 -->\n<g id=\"node35\" class=\"node\">\n<title>34</title>\n<path fill=\"#bedff6\" stroke=\"#000000\" d=\"M1633,-261C1633,-261 1536,-261 1536,-261 1530,-261 1524,-255 1524,-249 1524,-249 1524,-205 1524,-205 1524,-199 1530,-193 1536,-193 1536,-193 1633,-193 1633,-193 1639,-193 1645,-199 1645,-205 1645,-205 1645,-249 1645,-249 1645,-255 1639,-261 1633,-261\"/>\n<text text-anchor=\"start\" x=\"1532\" y=\"-245.8\" font-family=\"Helvetica,sans-Serif\" font-size=\"14.00\" fill=\"#000000\">ShelveLoc ≤ 1.5</text>\n<text text-anchor=\"start\" x=\"1546.5\" y=\"-230.8\" font-family=\"Helvetica,sans-Serif\" font-size=\"14.00\" fill=\"#000000\">gini = 0.481</text>\n<text text-anchor=\"start\" x=\"1536.5\" y=\"-215.8\" font-family=\"Helvetica,sans-Serif\" font-size=\"14.00\" fill=\"#000000\">samples = 102</text>\n<text text-anchor=\"start\" x=\"1534.5\" y=\"-200.8\" font-family=\"Helvetica,sans-Serif\" font-size=\"14.00\" fill=\"#000000\">value = [41, 61]</text>\n</g>\n<!-- 28&#45;&gt;34 -->\n<g id=\"edge34\" class=\"edge\">\n<title>28&#45;&gt;34</title>\n<path fill=\"none\" stroke=\"#000000\" d=\"M1406.1188,-304.622C1439.1115,-290.2653 1480.0873,-272.4348 1514.4434,-257.4849\"/>\n<polygon fill=\"#000000\" stroke=\"#000000\" points=\"1516.1729,-260.5494 1523.9459,-253.3499 1513.3798,-254.1307 1516.1729,-260.5494\"/>\n</g>\n<!-- 30 -->\n<g id=\"node31\" class=\"node\">\n<title>30</title>\n<path fill=\"#e58139\" stroke=\"#000000\" d=\"M1326,-149.5C1326,-149.5 1243,-149.5 1243,-149.5 1237,-149.5 1231,-143.5 1231,-137.5 1231,-137.5 1231,-108.5 1231,-108.5 1231,-102.5 1237,-96.5 1243,-96.5 1243,-96.5 1326,-96.5 1326,-96.5 1332,-96.5 1338,-102.5 1338,-108.5 1338,-108.5 1338,-137.5 1338,-137.5 1338,-143.5 1332,-149.5 1326,-149.5\"/>\n<text text-anchor=\"start\" x=\"1255\" y=\"-134.3\" font-family=\"Helvetica,sans-Serif\" font-size=\"14.00\" fill=\"#000000\">gini = 0.0</text>\n<text text-anchor=\"start\" x=\"1240.5\" y=\"-119.3\" font-family=\"Helvetica,sans-Serif\" font-size=\"14.00\" fill=\"#000000\">samples = 20</text>\n<text text-anchor=\"start\" x=\"1239\" y=\"-104.3\" font-family=\"Helvetica,sans-Serif\" font-size=\"14.00\" fill=\"#000000\">value = [20, 0]</text>\n</g>\n<!-- 29&#45;&gt;30 -->\n<g id=\"edge30\" class=\"edge\">\n<title>29&#45;&gt;30</title>\n<path fill=\"none\" stroke=\"#000000\" d=\"M1325.5263,-192.9465C1319.001,-181.8215 1311.7431,-169.4473 1305.1678,-158.237\"/>\n<polygon fill=\"#000000\" stroke=\"#000000\" points=\"1308.1464,-156.3971 1300.068,-149.5422 1302.1084,-159.9387 1308.1464,-156.3971\"/>\n</g>\n<!-- 31 -->\n<g id=\"node32\" class=\"node\">\n<title>31</title>\n<path fill=\"#f2c09c\" stroke=\"#000000\" d=\"M1445,-157C1445,-157 1368,-157 1368,-157 1362,-157 1356,-151 1356,-145 1356,-145 1356,-101 1356,-101 1356,-95 1362,-89 1368,-89 1368,-89 1445,-89 1445,-89 1451,-89 1457,-95 1457,-101 1457,-101 1457,-145 1457,-145 1457,-151 1451,-157 1445,-157\"/>\n<text text-anchor=\"start\" x=\"1364\" y=\"-141.8\" font-family=\"Helvetica,sans-Serif\" font-size=\"14.00\" fill=\"#000000\">Price ≤ 126.0</text>\n<text text-anchor=\"start\" x=\"1368.5\" y=\"-126.8\" font-family=\"Helvetica,sans-Serif\" font-size=\"14.00\" fill=\"#000000\">gini = 0.444</text>\n<text text-anchor=\"start\" x=\"1367\" y=\"-111.8\" font-family=\"Helvetica,sans-Serif\" font-size=\"14.00\" fill=\"#000000\">samples = 6</text>\n<text text-anchor=\"start\" x=\"1365\" y=\"-96.8\" font-family=\"Helvetica,sans-Serif\" font-size=\"14.00\" fill=\"#000000\">value = [4, 2]</text>\n</g>\n<!-- 29&#45;&gt;31 -->\n<g id=\"edge31\" class=\"edge\">\n<title>29&#45;&gt;31</title>\n<path fill=\"none\" stroke=\"#000000\" d=\"M1365.4737,-192.9465C1370.5293,-184.3271 1376.0247,-174.9579 1381.3017,-165.9611\"/>\n<polygon fill=\"#000000\" stroke=\"#000000\" points=\"1384.4411,-167.5265 1386.4814,-157.13 1378.4031,-163.985 1384.4411,-167.5265\"/>\n</g>\n<!-- 32 -->\n<g id=\"node33\" class=\"node\">\n<title>32</title>\n<path fill=\"#399de5\" stroke=\"#000000\" d=\"M1327,-53C1327,-53 1252,-53 1252,-53 1246,-53 1240,-47 1240,-41 1240,-41 1240,-12 1240,-12 1240,-6 1246,0 1252,0 1252,0 1327,0 1327,0 1333,0 1339,-6 1339,-12 1339,-12 1339,-41 1339,-41 1339,-47 1333,-53 1327,-53\"/>\n<text text-anchor=\"start\" x=\"1260\" y=\"-37.8\" font-family=\"Helvetica,sans-Serif\" font-size=\"14.00\" fill=\"#000000\">gini = 0.0</text>\n<text text-anchor=\"start\" x=\"1250\" y=\"-22.8\" font-family=\"Helvetica,sans-Serif\" font-size=\"14.00\" fill=\"#000000\">samples = 2</text>\n<text text-anchor=\"start\" x=\"1248\" y=\"-7.8\" font-family=\"Helvetica,sans-Serif\" font-size=\"14.00\" fill=\"#000000\">value = [0, 2]</text>\n</g>\n<!-- 31&#45;&gt;32 -->\n<g id=\"edge32\" class=\"edge\">\n<title>31&#45;&gt;32</title>\n<path fill=\"none\" stroke=\"#000000\" d=\"M1365.2502,-88.9777C1353.7039,-79.4545 1341.1729,-69.1191 1329.689,-59.6473\"/>\n<polygon fill=\"#000000\" stroke=\"#000000\" points=\"1331.8724,-56.9113 1321.9308,-53.2485 1327.4184,-62.3115 1331.8724,-56.9113\"/>\n</g>\n<!-- 33 -->\n<g id=\"node34\" class=\"node\">\n<title>33</title>\n<path fill=\"#e58139\" stroke=\"#000000\" d=\"M1444,-53C1444,-53 1369,-53 1369,-53 1363,-53 1357,-47 1357,-41 1357,-41 1357,-12 1357,-12 1357,-6 1363,0 1369,0 1369,0 1444,0 1444,0 1450,0 1456,-6 1456,-12 1456,-12 1456,-41 1456,-41 1456,-47 1450,-53 1444,-53\"/>\n<text text-anchor=\"start\" x=\"1377\" y=\"-37.8\" font-family=\"Helvetica,sans-Serif\" font-size=\"14.00\" fill=\"#000000\">gini = 0.0</text>\n<text text-anchor=\"start\" x=\"1367\" y=\"-22.8\" font-family=\"Helvetica,sans-Serif\" font-size=\"14.00\" fill=\"#000000\">samples = 4</text>\n<text text-anchor=\"start\" x=\"1365\" y=\"-7.8\" font-family=\"Helvetica,sans-Serif\" font-size=\"14.00\" fill=\"#000000\">value = [4, 0]</text>\n</g>\n<!-- 31&#45;&gt;33 -->\n<g id=\"edge33\" class=\"edge\">\n<title>31&#45;&gt;33</title>\n<path fill=\"none\" stroke=\"#000000\" d=\"M1406.5,-88.9777C1406.5,-80.7364 1406.5,-71.887 1406.5,-63.5153\"/>\n<polygon fill=\"#000000\" stroke=\"#000000\" points=\"1410.0001,-63.2484 1406.5,-53.2485 1403.0001,-63.2485 1410.0001,-63.2484\"/>\n</g>\n<!-- 35 -->\n<g id=\"node36\" class=\"node\">\n<title>35</title>\n<path fill=\"#50a8e8\" stroke=\"#000000\" d=\"M1626.5,-157C1626.5,-157 1542.5,-157 1542.5,-157 1536.5,-157 1530.5,-151 1530.5,-145 1530.5,-145 1530.5,-101 1530.5,-101 1530.5,-95 1536.5,-89 1542.5,-89 1542.5,-89 1626.5,-89 1626.5,-89 1632.5,-89 1638.5,-95 1638.5,-101 1638.5,-101 1638.5,-145 1638.5,-145 1638.5,-151 1632.5,-157 1626.5,-157\"/>\n<text text-anchor=\"start\" x=\"1538.5\" y=\"-141.8\" font-family=\"Helvetica,sans-Serif\" font-size=\"14.00\" fill=\"#000000\">Income ≤ 35.0</text>\n<text text-anchor=\"start\" x=\"1546.5\" y=\"-126.8\" font-family=\"Helvetica,sans-Serif\" font-size=\"14.00\" fill=\"#000000\">gini = 0.185</text>\n<text text-anchor=\"start\" x=\"1540.5\" y=\"-111.8\" font-family=\"Helvetica,sans-Serif\" font-size=\"14.00\" fill=\"#000000\">samples = 29</text>\n<text text-anchor=\"start\" x=\"1539\" y=\"-96.8\" font-family=\"Helvetica,sans-Serif\" font-size=\"14.00\" fill=\"#000000\">value = [3, 26]</text>\n</g>\n<!-- 34&#45;&gt;35 -->\n<g id=\"edge35\" class=\"edge\">\n<title>34&#45;&gt;35</title>\n<path fill=\"none\" stroke=\"#000000\" d=\"M1584.5,-192.9465C1584.5,-184.776 1584.5,-175.9318 1584.5,-167.3697\"/>\n<polygon fill=\"#000000\" stroke=\"#000000\" points=\"1588.0001,-167.13 1584.5,-157.13 1581.0001,-167.13 1588.0001,-167.13\"/>\n</g>\n<!-- 38 -->\n<g id=\"node39\" class=\"node\">\n<title>38</title>\n<path fill=\"#fdf5ef\" stroke=\"#000000\" d=\"M1815.5,-157C1815.5,-157 1723.5,-157 1723.5,-157 1717.5,-157 1711.5,-151 1711.5,-145 1711.5,-145 1711.5,-101 1711.5,-101 1711.5,-95 1717.5,-89 1723.5,-89 1723.5,-89 1815.5,-89 1815.5,-89 1821.5,-89 1827.5,-95 1827.5,-101 1827.5,-101 1827.5,-145 1827.5,-145 1827.5,-151 1821.5,-157 1815.5,-157\"/>\n<text text-anchor=\"start\" x=\"1727\" y=\"-141.8\" font-family=\"Helvetica,sans-Serif\" font-size=\"14.00\" fill=\"#000000\">Price ≤ 109.5</text>\n<text text-anchor=\"start\" x=\"1731.5\" y=\"-126.8\" font-family=\"Helvetica,sans-Serif\" font-size=\"14.00\" fill=\"#000000\">gini = 0.499</text>\n<text text-anchor=\"start\" x=\"1725.5\" y=\"-111.8\" font-family=\"Helvetica,sans-Serif\" font-size=\"14.00\" fill=\"#000000\">samples = 73</text>\n<text text-anchor=\"start\" x=\"1719.5\" y=\"-96.8\" font-family=\"Helvetica,sans-Serif\" font-size=\"14.00\" fill=\"#000000\">value = [38, 35]</text>\n</g>\n<!-- 34&#45;&gt;38 -->\n<g id=\"edge38\" class=\"edge\">\n<title>34&#45;&gt;38</title>\n<path fill=\"none\" stroke=\"#000000\" d=\"M1645.0759,-192.9465C1663.4521,-182.6161 1683.7443,-171.2086 1702.5156,-160.6561\"/>\n<polygon fill=\"#000000\" stroke=\"#000000\" points=\"1704.3041,-163.6659 1711.306,-155.7145 1700.8738,-157.5639 1704.3041,-163.6659\"/>\n</g>\n<!-- 36 -->\n<g id=\"node37\" class=\"node\">\n<title>36</title>\n<path fill=\"#f6d5bd\" stroke=\"#000000\" d=\"M1561,-53C1561,-53 1486,-53 1486,-53 1480,-53 1474,-47 1474,-41 1474,-41 1474,-12 1474,-12 1474,-6 1480,0 1486,0 1486,0 1561,0 1561,0 1567,0 1573,-6 1573,-12 1573,-12 1573,-41 1573,-41 1573,-47 1567,-53 1561,-53\"/>\n<text text-anchor=\"start\" x=\"1490\" y=\"-37.8\" font-family=\"Helvetica,sans-Serif\" font-size=\"14.00\" fill=\"#000000\">gini = 0.48</text>\n<text text-anchor=\"start\" x=\"1484\" y=\"-22.8\" font-family=\"Helvetica,sans-Serif\" font-size=\"14.00\" fill=\"#000000\">samples = 5</text>\n<text text-anchor=\"start\" x=\"1482\" y=\"-7.8\" font-family=\"Helvetica,sans-Serif\" font-size=\"14.00\" fill=\"#000000\">value = [3, 2]</text>\n</g>\n<!-- 35&#45;&gt;36 -->\n<g id=\"edge36\" class=\"edge\">\n<title>35&#45;&gt;36</title>\n<path fill=\"none\" stroke=\"#000000\" d=\"M1562.9937,-88.9777C1557.4369,-80.187 1551.4427,-70.7044 1545.8441,-61.8477\"/>\n<polygon fill=\"#000000\" stroke=\"#000000\" points=\"1548.7101,-59.8312 1540.4084,-53.2485 1542.7931,-63.5714 1548.7101,-59.8312\"/>\n</g>\n<!-- 37 -->\n<g id=\"node38\" class=\"node\">\n<title>37</title>\n<path fill=\"#399de5\" stroke=\"#000000\" d=\"M1686,-53C1686,-53 1603,-53 1603,-53 1597,-53 1591,-47 1591,-41 1591,-41 1591,-12 1591,-12 1591,-6 1597,0 1603,0 1603,0 1686,0 1686,0 1692,0 1698,-6 1698,-12 1698,-12 1698,-41 1698,-41 1698,-47 1692,-53 1686,-53\"/>\n<text text-anchor=\"start\" x=\"1615\" y=\"-37.8\" font-family=\"Helvetica,sans-Serif\" font-size=\"14.00\" fill=\"#000000\">gini = 0.0</text>\n<text text-anchor=\"start\" x=\"1600.5\" y=\"-22.8\" font-family=\"Helvetica,sans-Serif\" font-size=\"14.00\" fill=\"#000000\">samples = 24</text>\n<text text-anchor=\"start\" x=\"1599\" y=\"-7.8\" font-family=\"Helvetica,sans-Serif\" font-size=\"14.00\" fill=\"#000000\">value = [0, 24]</text>\n</g>\n<!-- 35&#45;&gt;37 -->\n<g id=\"edge37\" class=\"edge\">\n<title>35&#45;&gt;37</title>\n<path fill=\"none\" stroke=\"#000000\" d=\"M1605.6538,-88.9777C1611.1195,-80.187 1617.0154,-70.7044 1622.5222,-61.8477\"/>\n<polygon fill=\"#000000\" stroke=\"#000000\" points=\"1625.5609,-63.5889 1627.8688,-53.2485 1619.6163,-59.8927 1625.5609,-63.5889\"/>\n</g>\n<!-- 39 -->\n<g id=\"node40\" class=\"node\">\n<title>39</title>\n<path fill=\"#6db7ec\" stroke=\"#000000\" d=\"M1811,-53C1811,-53 1728,-53 1728,-53 1722,-53 1716,-47 1716,-41 1716,-41 1716,-12 1716,-12 1716,-6 1722,0 1728,0 1728,0 1811,0 1811,0 1817,0 1823,-6 1823,-12 1823,-12 1823,-41 1823,-41 1823,-47 1817,-53 1811,-53\"/>\n<text text-anchor=\"start\" x=\"1736\" y=\"-37.8\" font-family=\"Helvetica,sans-Serif\" font-size=\"14.00\" fill=\"#000000\">gini = 0.33</text>\n<text text-anchor=\"start\" x=\"1725.5\" y=\"-22.8\" font-family=\"Helvetica,sans-Serif\" font-size=\"14.00\" fill=\"#000000\">samples = 24</text>\n<text text-anchor=\"start\" x=\"1724\" y=\"-7.8\" font-family=\"Helvetica,sans-Serif\" font-size=\"14.00\" fill=\"#000000\">value = [5, 19]</text>\n</g>\n<!-- 38&#45;&gt;39 -->\n<g id=\"edge39\" class=\"edge\">\n<title>38&#45;&gt;39</title>\n<path fill=\"none\" stroke=\"#000000\" d=\"M1769.5,-88.9777C1769.5,-80.7364 1769.5,-71.887 1769.5,-63.5153\"/>\n<polygon fill=\"#000000\" stroke=\"#000000\" points=\"1773.0001,-63.2484 1769.5,-53.2485 1766.0001,-63.2485 1773.0001,-63.2484\"/>\n</g>\n<!-- 40 -->\n<g id=\"node41\" class=\"node\">\n<title>40</title>\n<path fill=\"#f2be99\" stroke=\"#000000\" d=\"M1945.5,-53C1945.5,-53 1853.5,-53 1853.5,-53 1847.5,-53 1841.5,-47 1841.5,-41 1841.5,-41 1841.5,-12 1841.5,-12 1841.5,-6 1847.5,0 1853.5,0 1853.5,0 1945.5,0 1945.5,0 1951.5,0 1957.5,-6 1957.5,-12 1957.5,-12 1957.5,-41 1957.5,-41 1957.5,-47 1951.5,-53 1945.5,-53\"/>\n<text text-anchor=\"start\" x=\"1866\" y=\"-37.8\" font-family=\"Helvetica,sans-Serif\" font-size=\"14.00\" fill=\"#000000\">gini = 0.44</text>\n<text text-anchor=\"start\" x=\"1855.5\" y=\"-22.8\" font-family=\"Helvetica,sans-Serif\" font-size=\"14.00\" fill=\"#000000\">samples = 49</text>\n<text text-anchor=\"start\" x=\"1849.5\" y=\"-7.8\" font-family=\"Helvetica,sans-Serif\" font-size=\"14.00\" fill=\"#000000\">value = [33, 16]</text>\n</g>\n<!-- 38&#45;&gt;40 -->\n<g id=\"edge40\" class=\"edge\">\n<title>38&#45;&gt;40</title>\n<path fill=\"none\" stroke=\"#000000\" d=\"M1815.3331,-88.9777C1828.2857,-79.3629 1842.3535,-68.9203 1855.2133,-59.3743\"/>\n<polygon fill=\"#000000\" stroke=\"#000000\" points=\"1857.5224,-62.0193 1863.4658,-53.2485 1853.3501,-56.3986 1857.5224,-62.0193\"/>\n</g>\n</g>\n</svg>\n"
          },
          "metadata": {},
          "execution_count": 14
        }
      ],
      "source": [
        "export_graphviz(clf, out_file=\"mytree.dot\", \n",
        "                feature_names=X_train.columns,\n",
        "                filled=True, rounded=True,\n",
        "                special_characters=True)\n",
        "\n",
        "with open(\"mytree.dot\") as f:\n",
        "    dot_graph = f.read()\n",
        "graphviz.Source(dot_graph)"
      ]
    },
    {
      "cell_type": "markdown",
      "metadata": {
        "id": "sDVL12CWQX_L"
      },
      "source": [
        "The most important indicator of ${\\tt High}$ sales appears to be ${\\tt Price}$."
      ]
    },
    {
      "cell_type": "markdown",
      "metadata": {
        "id": "UitTnokSQX_L"
      },
      "source": [
        "Finally, let's evaluate the tree's performance on\n",
        "the test data. The ${\\tt predict()}$ function can be used for this purpose. We can then build a confusion matrix, which shows that we are making correct predictions for\n",
        "around 74.5% of the test data set:"
      ]
    },
    {
      "cell_type": "code",
      "execution_count": 15,
      "metadata": {
        "colab": {
          "base_uri": "https://localhost:8080/"
        },
        "id": "DHPORDCCQX_M",
        "outputId": "8247e11d-53de-4caa-dbd1-edee24e02e5f"
      },
      "outputs": [
        {
          "output_type": "stream",
          "name": "stdout",
          "text": [
            "     No  Yes\n",
            "No   37   16\n",
            "Yes   6   21\n"
          ]
        }
      ],
      "source": [
        "pred = clf.predict(X_test)\n",
        "cm = pd.DataFrame(confusion_matrix(y_test, pred).T, index=['No', 'Yes'], columns=['No', 'Yes'])\n",
        "print(cm)"
      ]
    },
    {
      "cell_type": "markdown",
      "metadata": {
        "id": "OoOnSEJbQX_M"
      },
      "source": [
        "# Fitting Regression Trees\n",
        "\n",
        "As talked during lectures, the decision tree can also do regression.\n",
        "<br>\n",
        "Now let's try fitting a **regression tree** to the same dataset we just did."
      ]
    },
    {
      "cell_type": "code",
      "execution_count": 16,
      "metadata": {
        "id": "qNFE7yjwQX_M"
      },
      "outputs": [],
      "source": [
        "mydata1 = pd.read_csv('Carseats.csv')\n",
        "mydata1.ShelveLoc = pd.factorize(mydata1.ShelveLoc)[0]\n",
        "mydata1.Urban = mydata1.Urban.map({'No':0, 'Yes':1})\n",
        "mydata1.US = mydata1.US.map({'No':0, 'Yes':1})"
      ]
    },
    {
      "cell_type": "code",
      "execution_count": 17,
      "metadata": {
        "id": "gMynRRwvQX_N"
      },
      "outputs": [],
      "source": [
        "y = mydata1.Sales\n",
        "X = mydata1.drop(['Sales'], axis=1)"
      ]
    },
    {
      "cell_type": "markdown",
      "metadata": {
        "id": "CNhhraJZQX_N"
      },
      "source": [
        "The X was the same variables as we did for classification. But now our response is not binarized. We do regression for prediction to the continuous y"
      ]
    },
    {
      "cell_type": "code",
      "execution_count": 18,
      "metadata": {
        "colab": {
          "base_uri": "https://localhost:8080/"
        },
        "id": "OQg5WtQPQX_N",
        "outputId": "8683a039-3950-4785-8a97-956f82a760bc"
      },
      "outputs": [
        {
          "output_type": "execute_result",
          "data": {
            "text/plain": [
              "0     9.50\n",
              "1    11.22\n",
              "2    10.06\n",
              "3     7.40\n",
              "4     4.15\n",
              "Name: Sales, dtype: float64"
            ]
          },
          "metadata": {},
          "execution_count": 18
        }
      ],
      "source": [
        "y.head()"
      ]
    },
    {
      "cell_type": "code",
      "execution_count": 19,
      "metadata": {
        "id": "EK821-HxQX_N"
      },
      "outputs": [],
      "source": [
        "X_train, X_test, y_train, y_test = train_test_split(X, y, train_size=0.8, random_state=0)"
      ]
    },
    {
      "cell_type": "code",
      "execution_count": 20,
      "metadata": {
        "colab": {
          "base_uri": "https://localhost:8080/"
        },
        "id": "WU9V0949QX_O",
        "outputId": "aadeb650-1d84-44cf-fc28-257dc8e3c8ec"
      },
      "outputs": [
        {
          "output_type": "execute_result",
          "data": {
            "text/plain": [
              "132     9.54\n",
              "309    11.18\n",
              "341     7.38\n",
              "196     4.10\n",
              "246     6.90\n",
              "Name: Sales, dtype: float64"
            ]
          },
          "metadata": {},
          "execution_count": 20
        }
      ],
      "source": [
        "y_test.head()"
      ]
    },
    {
      "cell_type": "code",
      "execution_count": 21,
      "metadata": {
        "colab": {
          "base_uri": "https://localhost:8080/"
        },
        "id": "gGWSr9TGQX_O",
        "outputId": "5505e146-7aab-4269-d848-884ed42de95d"
      },
      "outputs": [
        {
          "output_type": "execute_result",
          "data": {
            "text/plain": [
              "DecisionTreeRegressor(max_depth=5)"
            ]
          },
          "metadata": {},
          "execution_count": 21
        }
      ],
      "source": [
        "# Pruning not supported. Choosing max depth 5)\n",
        "regr = DecisionTreeRegressor(max_depth=5)\n",
        "regr.fit(X_train, y_train)"
      ]
    },
    {
      "cell_type": "code",
      "execution_count": 22,
      "metadata": {
        "colab": {
          "base_uri": "https://localhost:8080/",
          "height": 815
        },
        "id": "KgUCTJKaQX_O",
        "outputId": "6b289e47-41c5-40d4-8676-580ac2df20a6"
      },
      "outputs": [
        {
          "output_type": "execute_result",
          "data": {
            "text/plain": [
              "<graphviz.files.Source at 0x7f92c9f5e690>"
            ],
            "image/svg+xml": "<?xml version=\"1.0\" encoding=\"UTF-8\" standalone=\"no\"?>\n<!DOCTYPE svg PUBLIC \"-//W3C//DTD SVG 1.1//EN\"\n \"http://www.w3.org/Graphics/SVG/1.1/DTD/svg11.dtd\">\n<!-- Generated by graphviz version 2.40.1 (20161225.0304)\n -->\n<!-- Title: Tree Pages: 1 -->\n<svg width=\"4942pt\" height=\"581pt\"\n viewBox=\"0.00 0.00 4941.50 581.00\" xmlns=\"http://www.w3.org/2000/svg\" xmlns:xlink=\"http://www.w3.org/1999/xlink\">\n<g id=\"graph0\" class=\"graph\" transform=\"scale(1 1) rotate(0) translate(4 577)\">\n<title>Tree</title>\n<polygon fill=\"#ffffff\" stroke=\"transparent\" points=\"-4,4 -4,-577 4937.5,-577 4937.5,4 -4,4\"/>\n<!-- 0 -->\n<g id=\"node1\" class=\"node\">\n<title>0</title>\n<polygon fill=\"none\" stroke=\"#000000\" points=\"2080.5,-573 1919.5,-573 1919.5,-505 2080.5,-505 2080.5,-573\"/>\n<text text-anchor=\"middle\" x=\"2000\" y=\"-557.8\" font-family=\"Helvetica,sans-Serif\" font-size=\"14.00\" fill=\"#000000\">ShelveLoc &lt;= 0.5</text>\n<text text-anchor=\"middle\" x=\"2000\" y=\"-542.8\" font-family=\"Helvetica,sans-Serif\" font-size=\"14.00\" fill=\"#000000\">squared_error = 8.188</text>\n<text text-anchor=\"middle\" x=\"2000\" y=\"-527.8\" font-family=\"Helvetica,sans-Serif\" font-size=\"14.00\" fill=\"#000000\">samples = 320</text>\n<text text-anchor=\"middle\" x=\"2000\" y=\"-512.8\" font-family=\"Helvetica,sans-Serif\" font-size=\"14.00\" fill=\"#000000\">value = 7.409</text>\n</g>\n<!-- 1 -->\n<g id=\"node2\" class=\"node\">\n<title>1</title>\n<polygon fill=\"none\" stroke=\"#000000\" points=\"1461.5,-469 1300.5,-469 1300.5,-401 1461.5,-401 1461.5,-469\"/>\n<text text-anchor=\"middle\" x=\"1381\" y=\"-453.8\" font-family=\"Helvetica,sans-Serif\" font-size=\"14.00\" fill=\"#000000\">Price &lt;= 93.0</text>\n<text text-anchor=\"middle\" x=\"1381\" y=\"-438.8\" font-family=\"Helvetica,sans-Serif\" font-size=\"14.00\" fill=\"#000000\">squared_error = 5.126</text>\n<text text-anchor=\"middle\" x=\"1381\" y=\"-423.8\" font-family=\"Helvetica,sans-Serif\" font-size=\"14.00\" fill=\"#000000\">samples = 78</text>\n<text text-anchor=\"middle\" x=\"1381\" y=\"-408.8\" font-family=\"Helvetica,sans-Serif\" font-size=\"14.00\" fill=\"#000000\">value = 5.257</text>\n</g>\n<!-- 0&#45;&gt;1 -->\n<g id=\"edge1\" class=\"edge\">\n<title>0&#45;&gt;1</title>\n<path fill=\"none\" stroke=\"#000000\" d=\"M1919.3941,-525.4572C1803.9511,-506.0612 1592.1812,-470.4812 1471.5025,-450.2056\"/>\n<polygon fill=\"#000000\" stroke=\"#000000\" points=\"1471.9866,-446.7379 1461.5449,-448.5326 1470.8267,-453.6412 1471.9866,-446.7379\"/>\n<text text-anchor=\"middle\" x=\"1476.0492\" y=\"-465.1949\" font-family=\"Helvetica,sans-Serif\" font-size=\"14.00\" fill=\"#000000\">True</text>\n</g>\n<!-- 28 -->\n<g id=\"node29\" class=\"node\">\n<title>28</title>\n<polygon fill=\"none\" stroke=\"#000000\" points=\"2882.5,-469 2721.5,-469 2721.5,-401 2882.5,-401 2882.5,-469\"/>\n<text text-anchor=\"middle\" x=\"2802\" y=\"-453.8\" font-family=\"Helvetica,sans-Serif\" font-size=\"14.00\" fill=\"#000000\">ShelveLoc &lt;= 1.5</text>\n<text text-anchor=\"middle\" x=\"2802\" y=\"-438.8\" font-family=\"Helvetica,sans-Serif\" font-size=\"14.00\" fill=\"#000000\">squared_error = 7.201</text>\n<text text-anchor=\"middle\" x=\"2802\" y=\"-423.8\" font-family=\"Helvetica,sans-Serif\" font-size=\"14.00\" fill=\"#000000\">samples = 242</text>\n<text text-anchor=\"middle\" x=\"2802\" y=\"-408.8\" font-family=\"Helvetica,sans-Serif\" font-size=\"14.00\" fill=\"#000000\">value = 8.103</text>\n</g>\n<!-- 0&#45;&gt;28 -->\n<g id=\"edge28\" class=\"edge\">\n<title>0&#45;&gt;28</title>\n<path fill=\"none\" stroke=\"#000000\" d=\"M2080.5708,-528.5519C2230.992,-509.0459 2553.5533,-467.2175 2711.332,-446.7574\"/>\n<polygon fill=\"#000000\" stroke=\"#000000\" points=\"2712.0159,-450.1982 2721.4827,-445.4411 2711.1156,-443.2563 2712.0159,-450.1982\"/>\n<text text-anchor=\"middle\" x=\"2706.2252\" y=\"-461.5454\" font-family=\"Helvetica,sans-Serif\" font-size=\"14.00\" fill=\"#000000\">False</text>\n</g>\n<!-- 2 -->\n<g id=\"node3\" class=\"node\">\n<title>2</title>\n<polygon fill=\"none\" stroke=\"#000000\" points=\"584.5,-365 423.5,-365 423.5,-297 584.5,-297 584.5,-365\"/>\n<text text-anchor=\"middle\" x=\"504\" y=\"-349.8\" font-family=\"Helvetica,sans-Serif\" font-size=\"14.00\" fill=\"#000000\">Income &lt;= 41.0</text>\n<text text-anchor=\"middle\" x=\"504\" y=\"-334.8\" font-family=\"Helvetica,sans-Serif\" font-size=\"14.00\" fill=\"#000000\">squared_error = 4.876</text>\n<text text-anchor=\"middle\" x=\"504\" y=\"-319.8\" font-family=\"Helvetica,sans-Serif\" font-size=\"14.00\" fill=\"#000000\">samples = 13</text>\n<text text-anchor=\"middle\" x=\"504\" y=\"-304.8\" font-family=\"Helvetica,sans-Serif\" font-size=\"14.00\" fill=\"#000000\">value = 7.578</text>\n</g>\n<!-- 1&#45;&gt;2 -->\n<g id=\"edge2\" class=\"edge\">\n<title>1&#45;&gt;2</title>\n<path fill=\"none\" stroke=\"#000000\" d=\"M1300.4569,-425.4487C1136.7744,-406.0382 766.2695,-362.1015 594.5341,-341.7361\"/>\n<polygon fill=\"#000000\" stroke=\"#000000\" points=\"594.8534,-338.2495 584.5108,-340.5475 594.029,-345.2008 594.8534,-338.2495\"/>\n</g>\n<!-- 13 -->\n<g id=\"node14\" class=\"node\">\n<title>13</title>\n<polygon fill=\"none\" stroke=\"#000000\" points=\"1461.5,-365 1300.5,-365 1300.5,-297 1461.5,-297 1461.5,-365\"/>\n<text text-anchor=\"middle\" x=\"1381\" y=\"-349.8\" font-family=\"Helvetica,sans-Serif\" font-size=\"14.00\" fill=\"#000000\">Population &lt;= 180.5</text>\n<text text-anchor=\"middle\" x=\"1381\" y=\"-334.8\" font-family=\"Helvetica,sans-Serif\" font-size=\"14.00\" fill=\"#000000\">squared_error = 3.884</text>\n<text text-anchor=\"middle\" x=\"1381\" y=\"-319.8\" font-family=\"Helvetica,sans-Serif\" font-size=\"14.00\" fill=\"#000000\">samples = 65</text>\n<text text-anchor=\"middle\" x=\"1381\" y=\"-304.8\" font-family=\"Helvetica,sans-Serif\" font-size=\"14.00\" fill=\"#000000\">value = 4.793</text>\n</g>\n<!-- 1&#45;&gt;13 -->\n<g id=\"edge13\" class=\"edge\">\n<title>1&#45;&gt;13</title>\n<path fill=\"none\" stroke=\"#000000\" d=\"M1381,-400.9465C1381,-392.776 1381,-383.9318 1381,-375.3697\"/>\n<polygon fill=\"#000000\" stroke=\"#000000\" points=\"1384.5001,-375.13 1381,-365.13 1377.5001,-375.13 1384.5001,-375.13\"/>\n</g>\n<!-- 3 -->\n<g id=\"node4\" class=\"node\">\n<title>3</title>\n<polygon fill=\"none\" stroke=\"#000000\" points=\"323.5,-261 162.5,-261 162.5,-193 323.5,-193 323.5,-261\"/>\n<text text-anchor=\"middle\" x=\"243\" y=\"-245.8\" font-family=\"Helvetica,sans-Serif\" font-size=\"14.00\" fill=\"#000000\">Age &lt;= 57.5</text>\n<text text-anchor=\"middle\" x=\"243\" y=\"-230.8\" font-family=\"Helvetica,sans-Serif\" font-size=\"14.00\" fill=\"#000000\">squared_error = 4.057</text>\n<text text-anchor=\"middle\" x=\"243\" y=\"-215.8\" font-family=\"Helvetica,sans-Serif\" font-size=\"14.00\" fill=\"#000000\">samples = 3</text>\n<text text-anchor=\"middle\" x=\"243\" y=\"-200.8\" font-family=\"Helvetica,sans-Serif\" font-size=\"14.00\" fill=\"#000000\">value = 4.663</text>\n</g>\n<!-- 2&#45;&gt;3 -->\n<g id=\"edge3\" class=\"edge\">\n<title>2&#45;&gt;3</title>\n<path fill=\"none\" stroke=\"#000000\" d=\"M423.2054,-298.806C394.7009,-287.4479 362.4766,-274.6075 333.2408,-262.958\"/>\n<polygon fill=\"#000000\" stroke=\"#000000\" points=\"334.4474,-259.6712 323.8622,-259.2209 331.8562,-266.174 334.4474,-259.6712\"/>\n</g>\n<!-- 8 -->\n<g id=\"node9\" class=\"node\">\n<title>8</title>\n<polygon fill=\"none\" stroke=\"#000000\" points=\"584.5,-261 423.5,-261 423.5,-193 584.5,-193 584.5,-261\"/>\n<text text-anchor=\"middle\" x=\"504\" y=\"-245.8\" font-family=\"Helvetica,sans-Serif\" font-size=\"14.00\" fill=\"#000000\">Education &lt;= 10.5</text>\n<text text-anchor=\"middle\" x=\"504\" y=\"-230.8\" font-family=\"Helvetica,sans-Serif\" font-size=\"14.00\" fill=\"#000000\">squared_error = 1.809</text>\n<text text-anchor=\"middle\" x=\"504\" y=\"-215.8\" font-family=\"Helvetica,sans-Serif\" font-size=\"14.00\" fill=\"#000000\">samples = 10</text>\n<text text-anchor=\"middle\" x=\"504\" y=\"-200.8\" font-family=\"Helvetica,sans-Serif\" font-size=\"14.00\" fill=\"#000000\">value = 8.452</text>\n</g>\n<!-- 2&#45;&gt;8 -->\n<g id=\"edge8\" class=\"edge\">\n<title>2&#45;&gt;8</title>\n<path fill=\"none\" stroke=\"#000000\" d=\"M504,-296.9465C504,-288.776 504,-279.9318 504,-271.3697\"/>\n<polygon fill=\"#000000\" stroke=\"#000000\" points=\"507.5001,-271.13 504,-261.13 500.5001,-271.13 507.5001,-271.13\"/>\n</g>\n<!-- 4 -->\n<g id=\"node5\" class=\"node\">\n<title>4</title>\n<polygon fill=\"none\" stroke=\"#000000\" points=\"144,-149.5 0,-149.5 0,-96.5 144,-96.5 144,-149.5\"/>\n<text text-anchor=\"middle\" x=\"72\" y=\"-134.3\" font-family=\"Helvetica,sans-Serif\" font-size=\"14.00\" fill=\"#000000\">squared_error = 0.0</text>\n<text text-anchor=\"middle\" x=\"72\" y=\"-119.3\" font-family=\"Helvetica,sans-Serif\" font-size=\"14.00\" fill=\"#000000\">samples = 1</text>\n<text text-anchor=\"middle\" x=\"72\" y=\"-104.3\" font-family=\"Helvetica,sans-Serif\" font-size=\"14.00\" fill=\"#000000\">value = 7.5</text>\n</g>\n<!-- 3&#45;&gt;4 -->\n<g id=\"edge4\" class=\"edge\">\n<title>3&#45;&gt;4</title>\n<path fill=\"none\" stroke=\"#000000\" d=\"M187.0082,-192.9465C166.8144,-180.6649 144.1174,-166.8609 124.2555,-154.7811\"/>\n<polygon fill=\"#000000\" stroke=\"#000000\" points=\"126.0041,-151.7481 115.6414,-149.5422 122.3667,-157.7289 126.0041,-151.7481\"/>\n</g>\n<!-- 5 -->\n<g id=\"node6\" class=\"node\">\n<title>5</title>\n<polygon fill=\"none\" stroke=\"#000000\" points=\"323.5,-157 162.5,-157 162.5,-89 323.5,-89 323.5,-157\"/>\n<text text-anchor=\"middle\" x=\"243\" y=\"-141.8\" font-family=\"Helvetica,sans-Serif\" font-size=\"14.00\" fill=\"#000000\">Price &lt;= 85.5</text>\n<text text-anchor=\"middle\" x=\"243\" y=\"-126.8\" font-family=\"Helvetica,sans-Serif\" font-size=\"14.00\" fill=\"#000000\">squared_error = 0.051</text>\n<text text-anchor=\"middle\" x=\"243\" y=\"-111.8\" font-family=\"Helvetica,sans-Serif\" font-size=\"14.00\" fill=\"#000000\">samples = 2</text>\n<text text-anchor=\"middle\" x=\"243\" y=\"-96.8\" font-family=\"Helvetica,sans-Serif\" font-size=\"14.00\" fill=\"#000000\">value = 3.245</text>\n</g>\n<!-- 3&#45;&gt;5 -->\n<g id=\"edge5\" class=\"edge\">\n<title>3&#45;&gt;5</title>\n<path fill=\"none\" stroke=\"#000000\" d=\"M243,-192.9465C243,-184.776 243,-175.9318 243,-167.3697\"/>\n<polygon fill=\"#000000\" stroke=\"#000000\" points=\"246.5001,-167.13 243,-157.13 239.5001,-167.13 246.5001,-167.13\"/>\n</g>\n<!-- 6 -->\n<g id=\"node7\" class=\"node\">\n<title>6</title>\n<polygon fill=\"none\" stroke=\"#000000\" points=\"157,-53 13,-53 13,0 157,0 157,-53\"/>\n<text text-anchor=\"middle\" x=\"85\" y=\"-37.8\" font-family=\"Helvetica,sans-Serif\" font-size=\"14.00\" fill=\"#000000\">squared_error = 0.0</text>\n<text text-anchor=\"middle\" x=\"85\" y=\"-22.8\" font-family=\"Helvetica,sans-Serif\" font-size=\"14.00\" fill=\"#000000\">samples = 1</text>\n<text text-anchor=\"middle\" x=\"85\" y=\"-7.8\" font-family=\"Helvetica,sans-Serif\" font-size=\"14.00\" fill=\"#000000\">value = 3.47</text>\n</g>\n<!-- 5&#45;&gt;6 -->\n<g id=\"edge6\" class=\"edge\">\n<title>5&#45;&gt;6</title>\n<path fill=\"none\" stroke=\"#000000\" d=\"M187.2951,-88.9777C171.028,-79.0424 153.3136,-68.2232 137.2674,-58.4228\"/>\n<polygon fill=\"#000000\" stroke=\"#000000\" points=\"138.9027,-55.3204 128.5442,-53.095 135.254,-61.2943 138.9027,-55.3204\"/>\n</g>\n<!-- 7 -->\n<g id=\"node8\" class=\"node\">\n<title>7</title>\n<polygon fill=\"none\" stroke=\"#000000\" points=\"319,-53 175,-53 175,0 319,0 319,-53\"/>\n<text text-anchor=\"middle\" x=\"247\" y=\"-37.8\" font-family=\"Helvetica,sans-Serif\" font-size=\"14.00\" fill=\"#000000\">squared_error = 0.0</text>\n<text text-anchor=\"middle\" x=\"247\" y=\"-22.8\" font-family=\"Helvetica,sans-Serif\" font-size=\"14.00\" fill=\"#000000\">samples = 1</text>\n<text text-anchor=\"middle\" x=\"247\" y=\"-7.8\" font-family=\"Helvetica,sans-Serif\" font-size=\"14.00\" fill=\"#000000\">value = 3.02</text>\n</g>\n<!-- 5&#45;&gt;7 -->\n<g id=\"edge7\" class=\"edge\">\n<title>5&#45;&gt;7</title>\n<path fill=\"none\" stroke=\"#000000\" d=\"M244.4103,-88.9777C244.7519,-80.7364 245.1187,-71.887 245.4657,-63.5153\"/>\n<polygon fill=\"#000000\" stroke=\"#000000\" points=\"248.974,-63.3849 245.8913,-53.2485 241.98,-63.0949 248.974,-63.3849\"/>\n</g>\n<!-- 9 -->\n<g id=\"node10\" class=\"node\">\n<title>9</title>\n<polygon fill=\"none\" stroke=\"#000000\" points=\"486,-149.5 342,-149.5 342,-96.5 486,-96.5 486,-149.5\"/>\n<text text-anchor=\"middle\" x=\"414\" y=\"-134.3\" font-family=\"Helvetica,sans-Serif\" font-size=\"14.00\" fill=\"#000000\">squared_error = 0.0</text>\n<text text-anchor=\"middle\" x=\"414\" y=\"-119.3\" font-family=\"Helvetica,sans-Serif\" font-size=\"14.00\" fill=\"#000000\">samples = 1</text>\n<text text-anchor=\"middle\" x=\"414\" y=\"-104.3\" font-family=\"Helvetica,sans-Serif\" font-size=\"14.00\" fill=\"#000000\">value = 11.67</text>\n</g>\n<!-- 8&#45;&gt;9 -->\n<g id=\"edge9\" class=\"edge\">\n<title>8&#45;&gt;9</title>\n<path fill=\"none\" stroke=\"#000000\" d=\"M474.5306,-192.9465C464.6172,-181.491 453.5576,-168.711 443.6318,-157.2412\"/>\n<polygon fill=\"#000000\" stroke=\"#000000\" points=\"446.1596,-154.8135 436.9692,-149.5422 440.8664,-159.3942 446.1596,-154.8135\"/>\n</g>\n<!-- 10 -->\n<g id=\"node11\" class=\"node\">\n<title>10</title>\n<polygon fill=\"none\" stroke=\"#000000\" points=\"665.5,-157 504.5,-157 504.5,-89 665.5,-89 665.5,-157\"/>\n<text text-anchor=\"middle\" x=\"585\" y=\"-141.8\" font-family=\"Helvetica,sans-Serif\" font-size=\"14.00\" fill=\"#000000\">Population &lt;= 226.5</text>\n<text text-anchor=\"middle\" x=\"585\" y=\"-126.8\" font-family=\"Helvetica,sans-Serif\" font-size=\"14.00\" fill=\"#000000\">squared_error = 0.732</text>\n<text text-anchor=\"middle\" x=\"585\" y=\"-111.8\" font-family=\"Helvetica,sans-Serif\" font-size=\"14.00\" fill=\"#000000\">samples = 9</text>\n<text text-anchor=\"middle\" x=\"585\" y=\"-96.8\" font-family=\"Helvetica,sans-Serif\" font-size=\"14.00\" fill=\"#000000\">value = 8.094</text>\n</g>\n<!-- 8&#45;&gt;10 -->\n<g id=\"edge10\" class=\"edge\">\n<title>8&#45;&gt;10</title>\n<path fill=\"none\" stroke=\"#000000\" d=\"M530.5224,-192.9465C537.4454,-184.0578 544.9894,-174.3716 552.196,-165.1188\"/>\n<polygon fill=\"#000000\" stroke=\"#000000\" points=\"555.0346,-167.1701 558.418,-157.13 549.512,-162.8688 555.0346,-167.1701\"/>\n</g>\n<!-- 11 -->\n<g id=\"node12\" class=\"node\">\n<title>11</title>\n<polygon fill=\"none\" stroke=\"#000000\" points=\"486,-53 342,-53 342,0 486,0 486,-53\"/>\n<text text-anchor=\"middle\" x=\"414\" y=\"-37.8\" font-family=\"Helvetica,sans-Serif\" font-size=\"14.00\" fill=\"#000000\">squared_error = 0.6</text>\n<text text-anchor=\"middle\" x=\"414\" y=\"-22.8\" font-family=\"Helvetica,sans-Serif\" font-size=\"14.00\" fill=\"#000000\">samples = 3</text>\n<text text-anchor=\"middle\" x=\"414\" y=\"-7.8\" font-family=\"Helvetica,sans-Serif\" font-size=\"14.00\" fill=\"#000000\">value = 7.303</text>\n</g>\n<!-- 10&#45;&gt;11 -->\n<g id=\"edge11\" class=\"edge\">\n<title>10&#45;&gt;11</title>\n<path fill=\"none\" stroke=\"#000000\" d=\"M524.7118,-88.9777C506.9432,-78.9504 487.5792,-68.0228 470.0859,-58.1508\"/>\n<polygon fill=\"#000000\" stroke=\"#000000\" points=\"471.5561,-54.9616 461.1269,-53.095 468.1157,-61.0579 471.5561,-54.9616\"/>\n</g>\n<!-- 12 -->\n<g id=\"node13\" class=\"node\">\n<title>12</title>\n<polygon fill=\"none\" stroke=\"#000000\" points=\"665.5,-53 504.5,-53 504.5,0 665.5,0 665.5,-53\"/>\n<text text-anchor=\"middle\" x=\"585\" y=\"-37.8\" font-family=\"Helvetica,sans-Serif\" font-size=\"14.00\" fill=\"#000000\">squared_error = 0.329</text>\n<text text-anchor=\"middle\" x=\"585\" y=\"-22.8\" font-family=\"Helvetica,sans-Serif\" font-size=\"14.00\" fill=\"#000000\">samples = 6</text>\n<text text-anchor=\"middle\" x=\"585\" y=\"-7.8\" font-family=\"Helvetica,sans-Serif\" font-size=\"14.00\" fill=\"#000000\">value = 8.49</text>\n</g>\n<!-- 10&#45;&gt;12 -->\n<g id=\"edge12\" class=\"edge\">\n<title>10&#45;&gt;12</title>\n<path fill=\"none\" stroke=\"#000000\" d=\"M585,-88.9777C585,-80.7364 585,-71.887 585,-63.5153\"/>\n<polygon fill=\"#000000\" stroke=\"#000000\" points=\"588.5001,-63.2484 585,-53.2485 581.5001,-63.2485 588.5001,-63.2484\"/>\n</g>\n<!-- 14 -->\n<g id=\"node15\" class=\"node\">\n<title>14</title>\n<polygon fill=\"none\" stroke=\"#000000\" points=\"1289.5,-261 1128.5,-261 1128.5,-193 1289.5,-193 1289.5,-261\"/>\n<text text-anchor=\"middle\" x=\"1209\" y=\"-245.8\" font-family=\"Helvetica,sans-Serif\" font-size=\"14.00\" fill=\"#000000\">Price &lt;= 125.0</text>\n<text text-anchor=\"middle\" x=\"1209\" y=\"-230.8\" font-family=\"Helvetica,sans-Serif\" font-size=\"14.00\" fill=\"#000000\">squared_error = 3.136</text>\n<text text-anchor=\"middle\" x=\"1209\" y=\"-215.8\" font-family=\"Helvetica,sans-Serif\" font-size=\"14.00\" fill=\"#000000\">samples = 24</text>\n<text text-anchor=\"middle\" x=\"1209\" y=\"-200.8\" font-family=\"Helvetica,sans-Serif\" font-size=\"14.00\" fill=\"#000000\">value = 3.656</text>\n</g>\n<!-- 13&#45;&gt;14 -->\n<g id=\"edge14\" class=\"edge\">\n<title>13&#45;&gt;14</title>\n<path fill=\"none\" stroke=\"#000000\" d=\"M1324.6808,-296.9465C1308.4952,-287.1599 1290.711,-276.4066 1274.0448,-266.3294\"/>\n<polygon fill=\"#000000\" stroke=\"#000000\" points=\"1275.8141,-263.3092 1265.4458,-261.13 1272.1921,-269.2993 1275.8141,-263.3092\"/>\n</g>\n<!-- 21 -->\n<g id=\"node22\" class=\"node\">\n<title>21</title>\n<polygon fill=\"none\" stroke=\"#000000\" points=\"1637.5,-261 1476.5,-261 1476.5,-193 1637.5,-193 1637.5,-261\"/>\n<text text-anchor=\"middle\" x=\"1557\" y=\"-245.8\" font-family=\"Helvetica,sans-Serif\" font-size=\"14.00\" fill=\"#000000\">Population &lt;= 302.0</text>\n<text text-anchor=\"middle\" x=\"1557\" y=\"-230.8\" font-family=\"Helvetica,sans-Serif\" font-size=\"14.00\" fill=\"#000000\">squared_error = 3.121</text>\n<text text-anchor=\"middle\" x=\"1557\" y=\"-215.8\" font-family=\"Helvetica,sans-Serif\" font-size=\"14.00\" fill=\"#000000\">samples = 41</text>\n<text text-anchor=\"middle\" x=\"1557\" y=\"-200.8\" font-family=\"Helvetica,sans-Serif\" font-size=\"14.00\" fill=\"#000000\">value = 5.459</text>\n</g>\n<!-- 13&#45;&gt;21 -->\n<g id=\"edge21\" class=\"edge\">\n<title>13&#45;&gt;21</title>\n<path fill=\"none\" stroke=\"#000000\" d=\"M1438.629,-296.9465C1455.1909,-287.1599 1473.3888,-276.4066 1490.4425,-266.3294\"/>\n<polygon fill=\"#000000\" stroke=\"#000000\" points=\"1492.4128,-269.2306 1499.2415,-261.13 1488.8517,-263.2041 1492.4128,-269.2306\"/>\n</g>\n<!-- 15 -->\n<g id=\"node16\" class=\"node\">\n<title>15</title>\n<polygon fill=\"none\" stroke=\"#000000\" points=\"1023.5,-157 862.5,-157 862.5,-89 1023.5,-89 1023.5,-157\"/>\n<text text-anchor=\"middle\" x=\"943\" y=\"-141.8\" font-family=\"Helvetica,sans-Serif\" font-size=\"14.00\" fill=\"#000000\">CompPrice &lt;= 113.0</text>\n<text text-anchor=\"middle\" x=\"943\" y=\"-126.8\" font-family=\"Helvetica,sans-Serif\" font-size=\"14.00\" fill=\"#000000\">squared_error = 2.025</text>\n<text text-anchor=\"middle\" x=\"943\" y=\"-111.8\" font-family=\"Helvetica,sans-Serif\" font-size=\"14.00\" fill=\"#000000\">samples = 15</text>\n<text text-anchor=\"middle\" x=\"943\" y=\"-96.8\" font-family=\"Helvetica,sans-Serif\" font-size=\"14.00\" fill=\"#000000\">value = 4.499</text>\n</g>\n<!-- 14&#45;&gt;15 -->\n<g id=\"edge15\" class=\"edge\">\n<title>14&#45;&gt;15</title>\n<path fill=\"none\" stroke=\"#000000\" d=\"M1128.4694,-195.5143C1098.3984,-183.7573 1064.0656,-170.3339 1033.1812,-158.2588\"/>\n<polygon fill=\"#000000\" stroke=\"#000000\" points=\"1034.3036,-154.9397 1023.7156,-154.558 1031.7546,-161.4591 1034.3036,-154.9397\"/>\n</g>\n<!-- 18 -->\n<g id=\"node19\" class=\"node\">\n<title>18</title>\n<polygon fill=\"none\" stroke=\"#000000\" points=\"1289.5,-157 1128.5,-157 1128.5,-89 1289.5,-89 1289.5,-157\"/>\n<text text-anchor=\"middle\" x=\"1209\" y=\"-141.8\" font-family=\"Helvetica,sans-Serif\" font-size=\"14.00\" fill=\"#000000\">Education &lt;= 17.5</text>\n<text text-anchor=\"middle\" x=\"1209\" y=\"-126.8\" font-family=\"Helvetica,sans-Serif\" font-size=\"14.00\" fill=\"#000000\">squared_error = 1.826</text>\n<text text-anchor=\"middle\" x=\"1209\" y=\"-111.8\" font-family=\"Helvetica,sans-Serif\" font-size=\"14.00\" fill=\"#000000\">samples = 9</text>\n<text text-anchor=\"middle\" x=\"1209\" y=\"-96.8\" font-family=\"Helvetica,sans-Serif\" font-size=\"14.00\" fill=\"#000000\">value = 2.25</text>\n</g>\n<!-- 14&#45;&gt;18 -->\n<g id=\"edge18\" class=\"edge\">\n<title>14&#45;&gt;18</title>\n<path fill=\"none\" stroke=\"#000000\" d=\"M1209,-192.9465C1209,-184.776 1209,-175.9318 1209,-167.3697\"/>\n<polygon fill=\"#000000\" stroke=\"#000000\" points=\"1212.5001,-167.13 1209,-157.13 1205.5001,-167.13 1212.5001,-167.13\"/>\n</g>\n<!-- 16 -->\n<g id=\"node17\" class=\"node\">\n<title>16</title>\n<polygon fill=\"none\" stroke=\"#000000\" points=\"844.5,-53 683.5,-53 683.5,0 844.5,0 844.5,-53\"/>\n<text text-anchor=\"middle\" x=\"764\" y=\"-37.8\" font-family=\"Helvetica,sans-Serif\" font-size=\"14.00\" fill=\"#000000\">squared_error = 0.436</text>\n<text text-anchor=\"middle\" x=\"764\" y=\"-22.8\" font-family=\"Helvetica,sans-Serif\" font-size=\"14.00\" fill=\"#000000\">samples = 2</text>\n<text text-anchor=\"middle\" x=\"764\" y=\"-7.8\" font-family=\"Helvetica,sans-Serif\" font-size=\"14.00\" fill=\"#000000\">value = 1.57</text>\n</g>\n<!-- 15&#45;&gt;16 -->\n<g id=\"edge16\" class=\"edge\">\n<title>15&#45;&gt;16</title>\n<path fill=\"none\" stroke=\"#000000\" d=\"M879.8913,-88.9777C861.1208,-78.8584 840.6494,-67.8222 822.2063,-57.8794\"/>\n<polygon fill=\"#000000\" stroke=\"#000000\" points=\"823.795,-54.7597 813.3317,-53.095 820.4732,-60.9213 823.795,-54.7597\"/>\n</g>\n<!-- 17 -->\n<g id=\"node18\" class=\"node\">\n<title>17</title>\n<polygon fill=\"none\" stroke=\"#000000\" points=\"1023.5,-53 862.5,-53 862.5,0 1023.5,0 1023.5,-53\"/>\n<text text-anchor=\"middle\" x=\"943\" y=\"-37.8\" font-family=\"Helvetica,sans-Serif\" font-size=\"14.00\" fill=\"#000000\">squared_error = 0.746</text>\n<text text-anchor=\"middle\" x=\"943\" y=\"-22.8\" font-family=\"Helvetica,sans-Serif\" font-size=\"14.00\" fill=\"#000000\">samples = 13</text>\n<text text-anchor=\"middle\" x=\"943\" y=\"-7.8\" font-family=\"Helvetica,sans-Serif\" font-size=\"14.00\" fill=\"#000000\">value = 4.95</text>\n</g>\n<!-- 15&#45;&gt;17 -->\n<g id=\"edge17\" class=\"edge\">\n<title>15&#45;&gt;17</title>\n<path fill=\"none\" stroke=\"#000000\" d=\"M943,-88.9777C943,-80.7364 943,-71.887 943,-63.5153\"/>\n<polygon fill=\"#000000\" stroke=\"#000000\" points=\"946.5001,-63.2484 943,-53.2485 939.5001,-63.2485 946.5001,-63.2484\"/>\n</g>\n<!-- 19 -->\n<g id=\"node20\" class=\"node\">\n<title>19</title>\n<polygon fill=\"none\" stroke=\"#000000\" points=\"1202.5,-53 1041.5,-53 1041.5,0 1202.5,0 1202.5,-53\"/>\n<text text-anchor=\"middle\" x=\"1122\" y=\"-37.8\" font-family=\"Helvetica,sans-Serif\" font-size=\"14.00\" fill=\"#000000\">squared_error = 0.855</text>\n<text text-anchor=\"middle\" x=\"1122\" y=\"-22.8\" font-family=\"Helvetica,sans-Serif\" font-size=\"14.00\" fill=\"#000000\">samples = 8</text>\n<text text-anchor=\"middle\" x=\"1122\" y=\"-7.8\" font-family=\"Helvetica,sans-Serif\" font-size=\"14.00\" fill=\"#000000\">value = 1.885</text>\n</g>\n<!-- 18&#45;&gt;19 -->\n<g id=\"edge19\" class=\"edge\">\n<title>18&#45;&gt;19</title>\n<path fill=\"none\" stroke=\"#000000\" d=\"M1178.3271,-88.9777C1170.0715,-79.8207 1161.1391,-69.9129 1152.8728,-60.744\"/>\n<polygon fill=\"#000000\" stroke=\"#000000\" points=\"1155.4108,-58.3321 1146.1152,-53.2485 1150.2117,-63.0193 1155.4108,-58.3321\"/>\n</g>\n<!-- 20 -->\n<g id=\"node21\" class=\"node\">\n<title>20</title>\n<polygon fill=\"none\" stroke=\"#000000\" points=\"1369.5,-53 1220.5,-53 1220.5,0 1369.5,0 1369.5,-53\"/>\n<text text-anchor=\"middle\" x=\"1295\" y=\"-37.8\" font-family=\"Helvetica,sans-Serif\" font-size=\"14.00\" fill=\"#000000\">squared_error = &#45;0.0</text>\n<text text-anchor=\"middle\" x=\"1295\" y=\"-22.8\" font-family=\"Helvetica,sans-Serif\" font-size=\"14.00\" fill=\"#000000\">samples = 1</text>\n<text text-anchor=\"middle\" x=\"1295\" y=\"-7.8\" font-family=\"Helvetica,sans-Serif\" font-size=\"14.00\" fill=\"#000000\">value = 5.17</text>\n</g>\n<!-- 18&#45;&gt;20 -->\n<g id=\"edge20\" class=\"edge\">\n<title>18&#45;&gt;20</title>\n<path fill=\"none\" stroke=\"#000000\" d=\"M1239.3204,-88.9777C1247.481,-79.8207 1256.3108,-69.9129 1264.4821,-60.744\"/>\n<polygon fill=\"#000000\" stroke=\"#000000\" points=\"1267.1217,-63.0427 1271.162,-53.2485 1261.8958,-58.3854 1267.1217,-63.0427\"/>\n</g>\n<!-- 22 -->\n<g id=\"node23\" class=\"node\">\n<title>22</title>\n<polygon fill=\"none\" stroke=\"#000000\" points=\"1637.5,-157 1476.5,-157 1476.5,-89 1637.5,-89 1637.5,-157\"/>\n<text text-anchor=\"middle\" x=\"1557\" y=\"-141.8\" font-family=\"Helvetica,sans-Serif\" font-size=\"14.00\" fill=\"#000000\">Advertising &lt;= 9.0</text>\n<text text-anchor=\"middle\" x=\"1557\" y=\"-126.8\" font-family=\"Helvetica,sans-Serif\" font-size=\"14.00\" fill=\"#000000\">squared_error = 3.656</text>\n<text text-anchor=\"middle\" x=\"1557\" y=\"-111.8\" font-family=\"Helvetica,sans-Serif\" font-size=\"14.00\" fill=\"#000000\">samples = 10</text>\n<text text-anchor=\"middle\" x=\"1557\" y=\"-96.8\" font-family=\"Helvetica,sans-Serif\" font-size=\"14.00\" fill=\"#000000\">value = 6.797</text>\n</g>\n<!-- 21&#45;&gt;22 -->\n<g id=\"edge22\" class=\"edge\">\n<title>21&#45;&gt;22</title>\n<path fill=\"none\" stroke=\"#000000\" d=\"M1557,-192.9465C1557,-184.776 1557,-175.9318 1557,-167.3697\"/>\n<polygon fill=\"#000000\" stroke=\"#000000\" points=\"1560.5001,-167.13 1557,-157.13 1553.5001,-167.13 1560.5001,-167.13\"/>\n</g>\n<!-- 25 -->\n<g id=\"node26\" class=\"node\">\n<title>25</title>\n<polygon fill=\"none\" stroke=\"#000000\" points=\"1898.5,-157 1737.5,-157 1737.5,-89 1898.5,-89 1898.5,-157\"/>\n<text text-anchor=\"middle\" x=\"1818\" y=\"-141.8\" font-family=\"Helvetica,sans-Serif\" font-size=\"14.00\" fill=\"#000000\">CompPrice &lt;= 104.5</text>\n<text text-anchor=\"middle\" x=\"1818\" y=\"-126.8\" font-family=\"Helvetica,sans-Serif\" font-size=\"14.00\" fill=\"#000000\">squared_error = 2.185</text>\n<text text-anchor=\"middle\" x=\"1818\" y=\"-111.8\" font-family=\"Helvetica,sans-Serif\" font-size=\"14.00\" fill=\"#000000\">samples = 31</text>\n<text text-anchor=\"middle\" x=\"1818\" y=\"-96.8\" font-family=\"Helvetica,sans-Serif\" font-size=\"14.00\" fill=\"#000000\">value = 5.027</text>\n</g>\n<!-- 21&#45;&gt;25 -->\n<g id=\"edge25\" class=\"edge\">\n<title>21&#45;&gt;25</title>\n<path fill=\"none\" stroke=\"#000000\" d=\"M1637.7946,-194.806C1666.2991,-183.4479 1698.5234,-170.6075 1727.7592,-158.958\"/>\n<polygon fill=\"#000000\" stroke=\"#000000\" points=\"1729.1438,-162.174 1737.1378,-155.2209 1726.5526,-155.6712 1729.1438,-162.174\"/>\n</g>\n<!-- 23 -->\n<g id=\"node24\" class=\"node\">\n<title>23</title>\n<polygon fill=\"none\" stroke=\"#000000\" points=\"1540,-53 1388,-53 1388,0 1540,0 1540,-53\"/>\n<text text-anchor=\"middle\" x=\"1464\" y=\"-37.8\" font-family=\"Helvetica,sans-Serif\" font-size=\"14.00\" fill=\"#000000\">squared_error = 1.63</text>\n<text text-anchor=\"middle\" x=\"1464\" y=\"-22.8\" font-family=\"Helvetica,sans-Serif\" font-size=\"14.00\" fill=\"#000000\">samples = 6</text>\n<text text-anchor=\"middle\" x=\"1464\" y=\"-7.8\" font-family=\"Helvetica,sans-Serif\" font-size=\"14.00\" fill=\"#000000\">value = 5.85</text>\n</g>\n<!-- 22&#45;&gt;23 -->\n<g id=\"edge23\" class=\"edge\">\n<title>22&#45;&gt;23</title>\n<path fill=\"none\" stroke=\"#000000\" d=\"M1524.2117,-88.9777C1515.2986,-79.7292 1505.6473,-69.7147 1496.7371,-60.4691\"/>\n<polygon fill=\"#000000\" stroke=\"#000000\" points=\"1499.2378,-58.0202 1489.7783,-53.2485 1494.1975,-62.8777 1499.2378,-58.0202\"/>\n</g>\n<!-- 24 -->\n<g id=\"node25\" class=\"node\">\n<title>24</title>\n<polygon fill=\"none\" stroke=\"#000000\" points=\"1719.5,-53 1558.5,-53 1558.5,0 1719.5,0 1719.5,-53\"/>\n<text text-anchor=\"middle\" x=\"1639\" y=\"-37.8\" font-family=\"Helvetica,sans-Serif\" font-size=\"14.00\" fill=\"#000000\">squared_error = 3.333</text>\n<text text-anchor=\"middle\" x=\"1639\" y=\"-22.8\" font-family=\"Helvetica,sans-Serif\" font-size=\"14.00\" fill=\"#000000\">samples = 4</text>\n<text text-anchor=\"middle\" x=\"1639\" y=\"-7.8\" font-family=\"Helvetica,sans-Serif\" font-size=\"14.00\" fill=\"#000000\">value = 8.218</text>\n</g>\n<!-- 22&#45;&gt;24 -->\n<g id=\"edge24\" class=\"edge\">\n<title>22&#45;&gt;24</title>\n<path fill=\"none\" stroke=\"#000000\" d=\"M1585.9101,-88.9777C1593.6134,-79.9123 1601.9419,-70.111 1609.6676,-61.0192\"/>\n<polygon fill=\"#000000\" stroke=\"#000000\" points=\"1612.4625,-63.1352 1616.2707,-53.2485 1607.1282,-58.6025 1612.4625,-63.1352\"/>\n</g>\n<!-- 26 -->\n<g id=\"node27\" class=\"node\">\n<title>26</title>\n<polygon fill=\"none\" stroke=\"#000000\" points=\"1898.5,-53 1737.5,-53 1737.5,0 1898.5,0 1898.5,-53\"/>\n<text text-anchor=\"middle\" x=\"1818\" y=\"-37.8\" font-family=\"Helvetica,sans-Serif\" font-size=\"14.00\" fill=\"#000000\">squared_error = 0.616</text>\n<text text-anchor=\"middle\" x=\"1818\" y=\"-22.8\" font-family=\"Helvetica,sans-Serif\" font-size=\"14.00\" fill=\"#000000\">samples = 2</text>\n<text text-anchor=\"middle\" x=\"1818\" y=\"-7.8\" font-family=\"Helvetica,sans-Serif\" font-size=\"14.00\" fill=\"#000000\">value = 2.205</text>\n</g>\n<!-- 25&#45;&gt;26 -->\n<g id=\"edge26\" class=\"edge\">\n<title>25&#45;&gt;26</title>\n<path fill=\"none\" stroke=\"#000000\" d=\"M1818,-88.9777C1818,-80.7364 1818,-71.887 1818,-63.5153\"/>\n<polygon fill=\"#000000\" stroke=\"#000000\" points=\"1821.5001,-63.2484 1818,-53.2485 1814.5001,-63.2485 1821.5001,-63.2484\"/>\n</g>\n<!-- 27 -->\n<g id=\"node28\" class=\"node\">\n<title>27</title>\n<polygon fill=\"none\" stroke=\"#000000\" points=\"2077.5,-53 1916.5,-53 1916.5,0 2077.5,0 2077.5,-53\"/>\n<text text-anchor=\"middle\" x=\"1997\" y=\"-37.8\" font-family=\"Helvetica,sans-Serif\" font-size=\"14.00\" fill=\"#000000\">squared_error = 1.706</text>\n<text text-anchor=\"middle\" x=\"1997\" y=\"-22.8\" font-family=\"Helvetica,sans-Serif\" font-size=\"14.00\" fill=\"#000000\">samples = 29</text>\n<text text-anchor=\"middle\" x=\"1997\" y=\"-7.8\" font-family=\"Helvetica,sans-Serif\" font-size=\"14.00\" fill=\"#000000\">value = 5.222</text>\n</g>\n<!-- 25&#45;&gt;27 -->\n<g id=\"edge27\" class=\"edge\">\n<title>25&#45;&gt;27</title>\n<path fill=\"none\" stroke=\"#000000\" d=\"M1881.1087,-88.9777C1899.8792,-78.8584 1920.3506,-67.8222 1938.7937,-57.8794\"/>\n<polygon fill=\"#000000\" stroke=\"#000000\" points=\"1940.5268,-60.9213 1947.6683,-53.095 1937.205,-54.7597 1940.5268,-60.9213\"/>\n</g>\n<!-- 29 -->\n<g id=\"node30\" class=\"node\">\n<title>29</title>\n<polygon fill=\"none\" stroke=\"#000000\" points=\"2882.5,-365 2721.5,-365 2721.5,-297 2882.5,-297 2882.5,-365\"/>\n<text text-anchor=\"middle\" x=\"2802\" y=\"-349.8\" font-family=\"Helvetica,sans-Serif\" font-size=\"14.00\" fill=\"#000000\">Price &lt;= 109.5</text>\n<text text-anchor=\"middle\" x=\"2802\" y=\"-334.8\" font-family=\"Helvetica,sans-Serif\" font-size=\"14.00\" fill=\"#000000\">squared_error = 7.121</text>\n<text text-anchor=\"middle\" x=\"2802\" y=\"-319.8\" font-family=\"Helvetica,sans-Serif\" font-size=\"14.00\" fill=\"#000000\">samples = 64</text>\n<text text-anchor=\"middle\" x=\"2802\" y=\"-304.8\" font-family=\"Helvetica,sans-Serif\" font-size=\"14.00\" fill=\"#000000\">value = 10.081</text>\n</g>\n<!-- 28&#45;&gt;29 -->\n<g id=\"edge29\" class=\"edge\">\n<title>28&#45;&gt;29</title>\n<path fill=\"none\" stroke=\"#000000\" d=\"M2802,-400.9465C2802,-392.776 2802,-383.9318 2802,-375.3697\"/>\n<polygon fill=\"#000000\" stroke=\"#000000\" points=\"2805.5001,-375.13 2802,-365.13 2798.5001,-375.13 2805.5001,-375.13\"/>\n</g>\n<!-- 44 -->\n<g id=\"node45\" class=\"node\">\n<title>44</title>\n<polygon fill=\"none\" stroke=\"#000000\" points=\"3950.5,-365 3789.5,-365 3789.5,-297 3950.5,-297 3950.5,-365\"/>\n<text text-anchor=\"middle\" x=\"3870\" y=\"-349.8\" font-family=\"Helvetica,sans-Serif\" font-size=\"14.00\" fill=\"#000000\">Price &lt;= 106.5</text>\n<text text-anchor=\"middle\" x=\"3870\" y=\"-334.8\" font-family=\"Helvetica,sans-Serif\" font-size=\"14.00\" fill=\"#000000\">squared_error = 5.316</text>\n<text text-anchor=\"middle\" x=\"3870\" y=\"-319.8\" font-family=\"Helvetica,sans-Serif\" font-size=\"14.00\" fill=\"#000000\">samples = 178</text>\n<text text-anchor=\"middle\" x=\"3870\" y=\"-304.8\" font-family=\"Helvetica,sans-Serif\" font-size=\"14.00\" fill=\"#000000\">value = 7.391</text>\n</g>\n<!-- 28&#45;&gt;44 -->\n<g id=\"edge44\" class=\"edge\">\n<title>28&#45;&gt;44</title>\n<path fill=\"none\" stroke=\"#000000\" d=\"M2882.7114,-427.1405C3077.8061,-408.1425 3573.9809,-359.8258 3779.1118,-339.8505\"/>\n<polygon fill=\"#000000\" stroke=\"#000000\" points=\"3779.6354,-343.3162 3789.249,-338.8634 3778.9569,-336.3492 3779.6354,-343.3162\"/>\n</g>\n<!-- 30 -->\n<g id=\"node31\" class=\"node\">\n<title>30</title>\n<polygon fill=\"none\" stroke=\"#000000\" points=\"2703.5,-261 2542.5,-261 2542.5,-193 2703.5,-193 2703.5,-261\"/>\n<text text-anchor=\"middle\" x=\"2623\" y=\"-245.8\" font-family=\"Helvetica,sans-Serif\" font-size=\"14.00\" fill=\"#000000\">Age &lt;= 55.5</text>\n<text text-anchor=\"middle\" x=\"2623\" y=\"-230.8\" font-family=\"Helvetica,sans-Serif\" font-size=\"14.00\" fill=\"#000000\">squared_error = 3.705</text>\n<text text-anchor=\"middle\" x=\"2623\" y=\"-215.8\" font-family=\"Helvetica,sans-Serif\" font-size=\"14.00\" fill=\"#000000\">samples = 21</text>\n<text text-anchor=\"middle\" x=\"2623\" y=\"-200.8\" font-family=\"Helvetica,sans-Serif\" font-size=\"14.00\" fill=\"#000000\">value = 12.334</text>\n</g>\n<!-- 29&#45;&gt;30 -->\n<g id=\"edge30\" class=\"edge\">\n<title>29&#45;&gt;30</title>\n<path fill=\"none\" stroke=\"#000000\" d=\"M2743.3887,-296.9465C2726.5445,-287.1599 2708.0364,-276.4066 2690.692,-266.3294\"/>\n<polygon fill=\"#000000\" stroke=\"#000000\" points=\"2692.1478,-263.1274 2681.743,-261.13 2688.6312,-269.18 2692.1478,-263.1274\"/>\n</g>\n<!-- 37 -->\n<g id=\"node38\" class=\"node\">\n<title>37</title>\n<polygon fill=\"none\" stroke=\"#000000\" points=\"3053,-261 2909,-261 2909,-193 3053,-193 3053,-261\"/>\n<text text-anchor=\"middle\" x=\"2981\" y=\"-245.8\" font-family=\"Helvetica,sans-Serif\" font-size=\"14.00\" fill=\"#000000\">Advertising &lt;= 13.5</text>\n<text text-anchor=\"middle\" x=\"2981\" y=\"-230.8\" font-family=\"Helvetica,sans-Serif\" font-size=\"14.00\" fill=\"#000000\">squared_error = 5.1</text>\n<text text-anchor=\"middle\" x=\"2981\" y=\"-215.8\" font-family=\"Helvetica,sans-Serif\" font-size=\"14.00\" fill=\"#000000\">samples = 43</text>\n<text text-anchor=\"middle\" x=\"2981\" y=\"-200.8\" font-family=\"Helvetica,sans-Serif\" font-size=\"14.00\" fill=\"#000000\">value = 8.981</text>\n</g>\n<!-- 29&#45;&gt;37 -->\n<g id=\"edge37\" class=\"edge\">\n<title>29&#45;&gt;37</title>\n<path fill=\"none\" stroke=\"#000000\" d=\"M2860.6113,-296.9465C2877.4555,-287.1599 2895.9636,-276.4066 2913.308,-266.3294\"/>\n<polygon fill=\"#000000\" stroke=\"#000000\" points=\"2915.3688,-269.18 2922.257,-261.13 2911.8522,-263.1274 2915.3688,-269.18\"/>\n</g>\n<!-- 31 -->\n<g id=\"node32\" class=\"node\">\n<title>31</title>\n<polygon fill=\"none\" stroke=\"#000000\" points=\"2435.5,-157 2274.5,-157 2274.5,-89 2435.5,-89 2435.5,-157\"/>\n<text text-anchor=\"middle\" x=\"2355\" y=\"-141.8\" font-family=\"Helvetica,sans-Serif\" font-size=\"14.00\" fill=\"#000000\">CompPrice &lt;= 132.0</text>\n<text text-anchor=\"middle\" x=\"2355\" y=\"-126.8\" font-family=\"Helvetica,sans-Serif\" font-size=\"14.00\" fill=\"#000000\">squared_error = 2.928</text>\n<text text-anchor=\"middle\" x=\"2355\" y=\"-111.8\" font-family=\"Helvetica,sans-Serif\" font-size=\"14.00\" fill=\"#000000\">samples = 11</text>\n<text text-anchor=\"middle\" x=\"2355\" y=\"-96.8\" font-family=\"Helvetica,sans-Serif\" font-size=\"14.00\" fill=\"#000000\">value = 13.395</text>\n</g>\n<!-- 30&#45;&gt;31 -->\n<g id=\"edge31\" class=\"edge\">\n<title>30&#45;&gt;31</title>\n<path fill=\"none\" stroke=\"#000000\" d=\"M2542.2277,-195.6555C2511.6392,-183.7854 2476.6322,-170.2005 2445.2283,-158.014\"/>\n<polygon fill=\"#000000\" stroke=\"#000000\" points=\"2446.1957,-154.6351 2435.6068,-154.2803 2443.6633,-161.161 2446.1957,-154.6351\"/>\n</g>\n<!-- 34 -->\n<g id=\"node35\" class=\"node\">\n<title>34</title>\n<polygon fill=\"none\" stroke=\"#000000\" points=\"2703.5,-157 2542.5,-157 2542.5,-89 2703.5,-89 2703.5,-157\"/>\n<text text-anchor=\"middle\" x=\"2623\" y=\"-141.8\" font-family=\"Helvetica,sans-Serif\" font-size=\"14.00\" fill=\"#000000\">CompPrice &lt;= 128.0</text>\n<text text-anchor=\"middle\" x=\"2623\" y=\"-126.8\" font-family=\"Helvetica,sans-Serif\" font-size=\"14.00\" fill=\"#000000\">squared_error = 1.964</text>\n<text text-anchor=\"middle\" x=\"2623\" y=\"-111.8\" font-family=\"Helvetica,sans-Serif\" font-size=\"14.00\" fill=\"#000000\">samples = 10</text>\n<text text-anchor=\"middle\" x=\"2623\" y=\"-96.8\" font-family=\"Helvetica,sans-Serif\" font-size=\"14.00\" fill=\"#000000\">value = 11.168</text>\n</g>\n<!-- 30&#45;&gt;34 -->\n<g id=\"edge34\" class=\"edge\">\n<title>30&#45;&gt;34</title>\n<path fill=\"none\" stroke=\"#000000\" d=\"M2623,-192.9465C2623,-184.776 2623,-175.9318 2623,-167.3697\"/>\n<polygon fill=\"#000000\" stroke=\"#000000\" points=\"2626.5001,-167.13 2623,-157.13 2619.5001,-167.13 2626.5001,-167.13\"/>\n</g>\n<!-- 32 -->\n<g id=\"node33\" class=\"node\">\n<title>32</title>\n<polygon fill=\"none\" stroke=\"#000000\" points=\"2256.5,-53 2095.5,-53 2095.5,0 2256.5,0 2256.5,-53\"/>\n<text text-anchor=\"middle\" x=\"2176\" y=\"-37.8\" font-family=\"Helvetica,sans-Serif\" font-size=\"14.00\" fill=\"#000000\">squared_error = 2.171</text>\n<text text-anchor=\"middle\" x=\"2176\" y=\"-22.8\" font-family=\"Helvetica,sans-Serif\" font-size=\"14.00\" fill=\"#000000\">samples = 9</text>\n<text text-anchor=\"middle\" x=\"2176\" y=\"-7.8\" font-family=\"Helvetica,sans-Serif\" font-size=\"14.00\" fill=\"#000000\">value = 12.908</text>\n</g>\n<!-- 31&#45;&gt;32 -->\n<g id=\"edge32\" class=\"edge\">\n<title>31&#45;&gt;32</title>\n<path fill=\"none\" stroke=\"#000000\" d=\"M2291.8913,-88.9777C2273.1208,-78.8584 2252.6494,-67.8222 2234.2063,-57.8794\"/>\n<polygon fill=\"#000000\" stroke=\"#000000\" points=\"2235.795,-54.7597 2225.3317,-53.095 2232.4732,-60.9213 2235.795,-54.7597\"/>\n</g>\n<!-- 33 -->\n<g id=\"node34\" class=\"node\">\n<title>33</title>\n<polygon fill=\"none\" stroke=\"#000000\" points=\"2435.5,-53 2274.5,-53 2274.5,0 2435.5,0 2435.5,-53\"/>\n<text text-anchor=\"middle\" x=\"2355\" y=\"-37.8\" font-family=\"Helvetica,sans-Serif\" font-size=\"14.00\" fill=\"#000000\">squared_error = 0.469</text>\n<text text-anchor=\"middle\" x=\"2355\" y=\"-22.8\" font-family=\"Helvetica,sans-Serif\" font-size=\"14.00\" fill=\"#000000\">samples = 2</text>\n<text text-anchor=\"middle\" x=\"2355\" y=\"-7.8\" font-family=\"Helvetica,sans-Serif\" font-size=\"14.00\" fill=\"#000000\">value = 15.585</text>\n</g>\n<!-- 31&#45;&gt;33 -->\n<g id=\"edge33\" class=\"edge\">\n<title>31&#45;&gt;33</title>\n<path fill=\"none\" stroke=\"#000000\" d=\"M2355,-88.9777C2355,-80.7364 2355,-71.887 2355,-63.5153\"/>\n<polygon fill=\"#000000\" stroke=\"#000000\" points=\"2358.5001,-63.2484 2355,-53.2485 2351.5001,-63.2485 2358.5001,-63.2484\"/>\n</g>\n<!-- 35 -->\n<g id=\"node36\" class=\"node\">\n<title>35</title>\n<polygon fill=\"none\" stroke=\"#000000\" points=\"2614.5,-53 2453.5,-53 2453.5,0 2614.5,0 2614.5,-53\"/>\n<text text-anchor=\"middle\" x=\"2534\" y=\"-37.8\" font-family=\"Helvetica,sans-Serif\" font-size=\"14.00\" fill=\"#000000\">squared_error = 0.961</text>\n<text text-anchor=\"middle\" x=\"2534\" y=\"-22.8\" font-family=\"Helvetica,sans-Serif\" font-size=\"14.00\" fill=\"#000000\">samples = 7</text>\n<text text-anchor=\"middle\" x=\"2534\" y=\"-7.8\" font-family=\"Helvetica,sans-Serif\" font-size=\"14.00\" fill=\"#000000\">value = 10.447</text>\n</g>\n<!-- 34&#45;&gt;35 -->\n<g id=\"edge35\" class=\"edge\">\n<title>34&#45;&gt;35</title>\n<path fill=\"none\" stroke=\"#000000\" d=\"M2591.6219,-88.9777C2583.1766,-79.8207 2574.0389,-69.9129 2565.5825,-60.744\"/>\n<polygon fill=\"#000000\" stroke=\"#000000\" points=\"2568.0221,-58.2266 2558.6696,-53.2485 2562.8764,-62.9723 2568.0221,-58.2266\"/>\n</g>\n<!-- 36 -->\n<g id=\"node37\" class=\"node\">\n<title>36</title>\n<polygon fill=\"none\" stroke=\"#000000\" points=\"2793.5,-53 2632.5,-53 2632.5,0 2793.5,0 2793.5,-53\"/>\n<text text-anchor=\"middle\" x=\"2713\" y=\"-37.8\" font-family=\"Helvetica,sans-Serif\" font-size=\"14.00\" fill=\"#000000\">squared_error = 0.262</text>\n<text text-anchor=\"middle\" x=\"2713\" y=\"-22.8\" font-family=\"Helvetica,sans-Serif\" font-size=\"14.00\" fill=\"#000000\">samples = 3</text>\n<text text-anchor=\"middle\" x=\"2713\" y=\"-7.8\" font-family=\"Helvetica,sans-Serif\" font-size=\"14.00\" fill=\"#000000\">value = 12.85</text>\n</g>\n<!-- 34&#45;&gt;36 -->\n<g id=\"edge36\" class=\"edge\">\n<title>34&#45;&gt;36</title>\n<path fill=\"none\" stroke=\"#000000\" d=\"M2654.7306,-88.9777C2663.2708,-79.8207 2672.5113,-69.9129 2681.0626,-60.744\"/>\n<polygon fill=\"#000000\" stroke=\"#000000\" points=\"2683.7923,-62.9488 2688.0532,-53.2485 2678.6731,-58.1744 2683.7923,-62.9488\"/>\n</g>\n<!-- 38 -->\n<g id=\"node39\" class=\"node\">\n<title>38</title>\n<polygon fill=\"none\" stroke=\"#000000\" points=\"3061.5,-157 2900.5,-157 2900.5,-89 3061.5,-89 3061.5,-157\"/>\n<text text-anchor=\"middle\" x=\"2981\" y=\"-141.8\" font-family=\"Helvetica,sans-Serif\" font-size=\"14.00\" fill=\"#000000\">CompPrice &lt;= 146.5</text>\n<text text-anchor=\"middle\" x=\"2981\" y=\"-126.8\" font-family=\"Helvetica,sans-Serif\" font-size=\"14.00\" fill=\"#000000\">squared_error = 3.991</text>\n<text text-anchor=\"middle\" x=\"2981\" y=\"-111.8\" font-family=\"Helvetica,sans-Serif\" font-size=\"14.00\" fill=\"#000000\">samples = 36</text>\n<text text-anchor=\"middle\" x=\"2981\" y=\"-96.8\" font-family=\"Helvetica,sans-Serif\" font-size=\"14.00\" fill=\"#000000\">value = 8.448</text>\n</g>\n<!-- 37&#45;&gt;38 -->\n<g id=\"edge38\" class=\"edge\">\n<title>37&#45;&gt;38</title>\n<path fill=\"none\" stroke=\"#000000\" d=\"M2981,-192.9465C2981,-184.776 2981,-175.9318 2981,-167.3697\"/>\n<polygon fill=\"#000000\" stroke=\"#000000\" points=\"2984.5001,-167.13 2981,-157.13 2977.5001,-167.13 2984.5001,-167.13\"/>\n</g>\n<!-- 41 -->\n<g id=\"node42\" class=\"node\">\n<title>41</title>\n<polygon fill=\"none\" stroke=\"#000000\" points=\"3330.5,-157 3169.5,-157 3169.5,-89 3330.5,-89 3330.5,-157\"/>\n<text text-anchor=\"middle\" x=\"3250\" y=\"-141.8\" font-family=\"Helvetica,sans-Serif\" font-size=\"14.00\" fill=\"#000000\">CompPrice &lt;= 122.5</text>\n<text text-anchor=\"middle\" x=\"3250\" y=\"-126.8\" font-family=\"Helvetica,sans-Serif\" font-size=\"14.00\" fill=\"#000000\">squared_error = 1.833</text>\n<text text-anchor=\"middle\" x=\"3250\" y=\"-111.8\" font-family=\"Helvetica,sans-Serif\" font-size=\"14.00\" fill=\"#000000\">samples = 7</text>\n<text text-anchor=\"middle\" x=\"3250\" y=\"-96.8\" font-family=\"Helvetica,sans-Serif\" font-size=\"14.00\" fill=\"#000000\">value = 11.721</text>\n</g>\n<!-- 37&#45;&gt;41 -->\n<g id=\"edge41\" class=\"edge\">\n<title>37&#45;&gt;41</title>\n<path fill=\"none\" stroke=\"#000000\" d=\"M3053.0871,-199.1299C3085.8052,-186.4805 3124.8546,-171.3834 3159.5194,-157.9813\"/>\n<polygon fill=\"#000000\" stroke=\"#000000\" points=\"3161.1064,-161.1203 3169.1715,-154.2497 3158.5821,-154.5913 3161.1064,-161.1203\"/>\n</g>\n<!-- 39 -->\n<g id=\"node40\" class=\"node\">\n<title>39</title>\n<polygon fill=\"none\" stroke=\"#000000\" points=\"2972.5,-53 2811.5,-53 2811.5,0 2972.5,0 2972.5,-53\"/>\n<text text-anchor=\"middle\" x=\"2892\" y=\"-37.8\" font-family=\"Helvetica,sans-Serif\" font-size=\"14.00\" fill=\"#000000\">squared_error = 3.125</text>\n<text text-anchor=\"middle\" x=\"2892\" y=\"-22.8\" font-family=\"Helvetica,sans-Serif\" font-size=\"14.00\" fill=\"#000000\">samples = 29</text>\n<text text-anchor=\"middle\" x=\"2892\" y=\"-7.8\" font-family=\"Helvetica,sans-Serif\" font-size=\"14.00\" fill=\"#000000\">value = 7.936</text>\n</g>\n<!-- 38&#45;&gt;39 -->\n<g id=\"edge39\" class=\"edge\">\n<title>38&#45;&gt;39</title>\n<path fill=\"none\" stroke=\"#000000\" d=\"M2949.6219,-88.9777C2941.1766,-79.8207 2932.0389,-69.9129 2923.5825,-60.744\"/>\n<polygon fill=\"#000000\" stroke=\"#000000\" points=\"2926.0221,-58.2266 2916.6696,-53.2485 2920.8764,-62.9723 2926.0221,-58.2266\"/>\n</g>\n<!-- 40 -->\n<g id=\"node41\" class=\"node\">\n<title>40</title>\n<polygon fill=\"none\" stroke=\"#000000\" points=\"3151.5,-53 2990.5,-53 2990.5,0 3151.5,0 3151.5,-53\"/>\n<text text-anchor=\"middle\" x=\"3071\" y=\"-37.8\" font-family=\"Helvetica,sans-Serif\" font-size=\"14.00\" fill=\"#000000\">squared_error = 1.988</text>\n<text text-anchor=\"middle\" x=\"3071\" y=\"-22.8\" font-family=\"Helvetica,sans-Serif\" font-size=\"14.00\" fill=\"#000000\">samples = 7</text>\n<text text-anchor=\"middle\" x=\"3071\" y=\"-7.8\" font-family=\"Helvetica,sans-Serif\" font-size=\"14.00\" fill=\"#000000\">value = 10.57</text>\n</g>\n<!-- 38&#45;&gt;40 -->\n<g id=\"edge40\" class=\"edge\">\n<title>38&#45;&gt;40</title>\n<path fill=\"none\" stroke=\"#000000\" d=\"M3012.7306,-88.9777C3021.2708,-79.8207 3030.5113,-69.9129 3039.0626,-60.744\"/>\n<polygon fill=\"#000000\" stroke=\"#000000\" points=\"3041.7923,-62.9488 3046.0532,-53.2485 3036.6731,-58.1744 3041.7923,-62.9488\"/>\n</g>\n<!-- 42 -->\n<g id=\"node43\" class=\"node\">\n<title>42</title>\n<polygon fill=\"none\" stroke=\"#000000\" points=\"3330.5,-53 3169.5,-53 3169.5,0 3330.5,0 3330.5,-53\"/>\n<text text-anchor=\"middle\" x=\"3250\" y=\"-37.8\" font-family=\"Helvetica,sans-Serif\" font-size=\"14.00\" fill=\"#000000\">squared_error = 1.117</text>\n<text text-anchor=\"middle\" x=\"3250\" y=\"-22.8\" font-family=\"Helvetica,sans-Serif\" font-size=\"14.00\" fill=\"#000000\">samples = 4</text>\n<text text-anchor=\"middle\" x=\"3250\" y=\"-7.8\" font-family=\"Helvetica,sans-Serif\" font-size=\"14.00\" fill=\"#000000\">value = 10.798</text>\n</g>\n<!-- 41&#45;&gt;42 -->\n<g id=\"edge42\" class=\"edge\">\n<title>41&#45;&gt;42</title>\n<path fill=\"none\" stroke=\"#000000\" d=\"M3250,-88.9777C3250,-80.7364 3250,-71.887 3250,-63.5153\"/>\n<polygon fill=\"#000000\" stroke=\"#000000\" points=\"3253.5001,-63.2484 3250,-53.2485 3246.5001,-63.2485 3253.5001,-63.2484\"/>\n</g>\n<!-- 43 -->\n<g id=\"node44\" class=\"node\">\n<title>43</title>\n<polygon fill=\"none\" stroke=\"#000000\" points=\"3509.5,-53 3348.5,-53 3348.5,0 3509.5,0 3509.5,-53\"/>\n<text text-anchor=\"middle\" x=\"3429\" y=\"-37.8\" font-family=\"Helvetica,sans-Serif\" font-size=\"14.00\" fill=\"#000000\">squared_error = 0.131</text>\n<text text-anchor=\"middle\" x=\"3429\" y=\"-22.8\" font-family=\"Helvetica,sans-Serif\" font-size=\"14.00\" fill=\"#000000\">samples = 3</text>\n<text text-anchor=\"middle\" x=\"3429\" y=\"-7.8\" font-family=\"Helvetica,sans-Serif\" font-size=\"14.00\" fill=\"#000000\">value = 12.953</text>\n</g>\n<!-- 41&#45;&gt;43 -->\n<g id=\"edge43\" class=\"edge\">\n<title>41&#45;&gt;43</title>\n<path fill=\"none\" stroke=\"#000000\" d=\"M3313.1087,-88.9777C3331.8792,-78.8584 3352.3506,-67.8222 3370.7937,-57.8794\"/>\n<polygon fill=\"#000000\" stroke=\"#000000\" points=\"3372.5268,-60.9213 3379.6683,-53.095 3369.205,-54.7597 3372.5268,-60.9213\"/>\n</g>\n<!-- 45 -->\n<g id=\"node46\" class=\"node\">\n<title>45</title>\n<polygon fill=\"none\" stroke=\"#000000\" points=\"3950.5,-261 3789.5,-261 3789.5,-193 3950.5,-193 3950.5,-261\"/>\n<text text-anchor=\"middle\" x=\"3870\" y=\"-245.8\" font-family=\"Helvetica,sans-Serif\" font-size=\"14.00\" fill=\"#000000\">Age &lt;= 59.5</text>\n<text text-anchor=\"middle\" x=\"3870\" y=\"-230.8\" font-family=\"Helvetica,sans-Serif\" font-size=\"14.00\" fill=\"#000000\">squared_error = 3.968</text>\n<text text-anchor=\"middle\" x=\"3870\" y=\"-215.8\" font-family=\"Helvetica,sans-Serif\" font-size=\"14.00\" fill=\"#000000\">samples = 64</text>\n<text text-anchor=\"middle\" x=\"3870\" y=\"-200.8\" font-family=\"Helvetica,sans-Serif\" font-size=\"14.00\" fill=\"#000000\">value = 8.879</text>\n</g>\n<!-- 44&#45;&gt;45 -->\n<g id=\"edge45\" class=\"edge\">\n<title>44&#45;&gt;45</title>\n<path fill=\"none\" stroke=\"#000000\" d=\"M3870,-296.9465C3870,-288.776 3870,-279.9318 3870,-271.3697\"/>\n<polygon fill=\"#000000\" stroke=\"#000000\" points=\"3873.5001,-271.13 3870,-261.13 3866.5001,-271.13 3873.5001,-271.13\"/>\n</g>\n<!-- 52 -->\n<g id=\"node53\" class=\"node\">\n<title>52</title>\n<polygon fill=\"none\" stroke=\"#000000\" points=\"4485.5,-261 4324.5,-261 4324.5,-193 4485.5,-193 4485.5,-261\"/>\n<text text-anchor=\"middle\" x=\"4405\" y=\"-245.8\" font-family=\"Helvetica,sans-Serif\" font-size=\"14.00\" fill=\"#000000\">CompPrice &lt;= 124.5</text>\n<text text-anchor=\"middle\" x=\"4405\" y=\"-230.8\" font-family=\"Helvetica,sans-Serif\" font-size=\"14.00\" fill=\"#000000\">squared_error = 4.134</text>\n<text text-anchor=\"middle\" x=\"4405\" y=\"-215.8\" font-family=\"Helvetica,sans-Serif\" font-size=\"14.00\" fill=\"#000000\">samples = 114</text>\n<text text-anchor=\"middle\" x=\"4405\" y=\"-200.8\" font-family=\"Helvetica,sans-Serif\" font-size=\"14.00\" fill=\"#000000\">value = 6.556</text>\n</g>\n<!-- 44&#45;&gt;52 -->\n<g id=\"edge52\" class=\"edge\">\n<title>44&#45;&gt;52</title>\n<path fill=\"none\" stroke=\"#000000\" d=\"M3950.6742,-315.3175C4048.2783,-296.344 4212.1632,-264.486 4314.1318,-244.6641\"/>\n<polygon fill=\"#000000\" stroke=\"#000000\" points=\"4314.9593,-248.0688 4324.1076,-242.7249 4313.6235,-241.1975 4314.9593,-248.0688\"/>\n</g>\n<!-- 46 -->\n<g id=\"node47\" class=\"node\">\n<title>46</title>\n<polygon fill=\"none\" stroke=\"#000000\" points=\"3861.5,-157 3700.5,-157 3700.5,-89 3861.5,-89 3861.5,-157\"/>\n<text text-anchor=\"middle\" x=\"3781\" y=\"-141.8\" font-family=\"Helvetica,sans-Serif\" font-size=\"14.00\" fill=\"#000000\">Income &lt;= 54.5</text>\n<text text-anchor=\"middle\" x=\"3781\" y=\"-126.8\" font-family=\"Helvetica,sans-Serif\" font-size=\"14.00\" fill=\"#000000\">squared_error = 2.937</text>\n<text text-anchor=\"middle\" x=\"3781\" y=\"-111.8\" font-family=\"Helvetica,sans-Serif\" font-size=\"14.00\" fill=\"#000000\">samples = 37</text>\n<text text-anchor=\"middle\" x=\"3781\" y=\"-96.8\" font-family=\"Helvetica,sans-Serif\" font-size=\"14.00\" fill=\"#000000\">value = 9.842</text>\n</g>\n<!-- 45&#45;&gt;46 -->\n<g id=\"edge46\" class=\"edge\">\n<title>45&#45;&gt;46</title>\n<path fill=\"none\" stroke=\"#000000\" d=\"M3840.8581,-192.9465C3833.1745,-183.968 3824.7947,-174.1758 3816.8041,-164.8385\"/>\n<polygon fill=\"#000000\" stroke=\"#000000\" points=\"3819.3685,-162.4521 3810.2074,-157.13 3814.0501,-167.0034 3819.3685,-162.4521\"/>\n</g>\n<!-- 49 -->\n<g id=\"node50\" class=\"node\">\n<title>49</title>\n<polygon fill=\"none\" stroke=\"#000000\" points=\"4040.5,-157 3879.5,-157 3879.5,-89 4040.5,-89 4040.5,-157\"/>\n<text text-anchor=\"middle\" x=\"3960\" y=\"-141.8\" font-family=\"Helvetica,sans-Serif\" font-size=\"14.00\" fill=\"#000000\">CompPrice &lt;= 121.5</text>\n<text text-anchor=\"middle\" x=\"3960\" y=\"-126.8\" font-family=\"Helvetica,sans-Serif\" font-size=\"14.00\" fill=\"#000000\">squared_error = 2.368</text>\n<text text-anchor=\"middle\" x=\"3960\" y=\"-111.8\" font-family=\"Helvetica,sans-Serif\" font-size=\"14.00\" fill=\"#000000\">samples = 27</text>\n<text text-anchor=\"middle\" x=\"3960\" y=\"-96.8\" font-family=\"Helvetica,sans-Serif\" font-size=\"14.00\" fill=\"#000000\">value = 7.559</text>\n</g>\n<!-- 45&#45;&gt;49 -->\n<g id=\"edge49\" class=\"edge\">\n<title>45&#45;&gt;49</title>\n<path fill=\"none\" stroke=\"#000000\" d=\"M3899.4694,-192.9465C3907.2393,-183.968 3915.7132,-174.1758 3923.7936,-164.8385\"/>\n<polygon fill=\"#000000\" stroke=\"#000000\" points=\"3926.5672,-166.982 3930.4644,-157.13 3921.274,-162.4014 3926.5672,-166.982\"/>\n</g>\n<!-- 47 -->\n<g id=\"node48\" class=\"node\">\n<title>47</title>\n<polygon fill=\"none\" stroke=\"#000000\" points=\"3688.5,-53 3527.5,-53 3527.5,0 3688.5,0 3688.5,-53\"/>\n<text text-anchor=\"middle\" x=\"3608\" y=\"-37.8\" font-family=\"Helvetica,sans-Serif\" font-size=\"14.00\" fill=\"#000000\">squared_error = 1.249</text>\n<text text-anchor=\"middle\" x=\"3608\" y=\"-22.8\" font-family=\"Helvetica,sans-Serif\" font-size=\"14.00\" fill=\"#000000\">samples = 10</text>\n<text text-anchor=\"middle\" x=\"3608\" y=\"-7.8\" font-family=\"Helvetica,sans-Serif\" font-size=\"14.00\" fill=\"#000000\">value = 8.494</text>\n</g>\n<!-- 46&#45;&gt;47 -->\n<g id=\"edge47\" class=\"edge\">\n<title>46&#45;&gt;47</title>\n<path fill=\"none\" stroke=\"#000000\" d=\"M3720.0067,-88.9777C3702.0303,-78.9504 3682.4398,-68.0228 3664.7419,-58.1508\"/>\n<polygon fill=\"#000000\" stroke=\"#000000\" points=\"3666.1164,-54.9099 3655.6781,-53.095 3662.7064,-61.0231 3666.1164,-54.9099\"/>\n</g>\n<!-- 48 -->\n<g id=\"node49\" class=\"node\">\n<title>48</title>\n<polygon fill=\"none\" stroke=\"#000000\" points=\"3859,-53 3707,-53 3707,0 3859,0 3859,-53\"/>\n<text text-anchor=\"middle\" x=\"3783\" y=\"-37.8\" font-family=\"Helvetica,sans-Serif\" font-size=\"14.00\" fill=\"#000000\">squared_error = 2.64</text>\n<text text-anchor=\"middle\" x=\"3783\" y=\"-22.8\" font-family=\"Helvetica,sans-Serif\" font-size=\"14.00\" fill=\"#000000\">samples = 27</text>\n<text text-anchor=\"middle\" x=\"3783\" y=\"-7.8\" font-family=\"Helvetica,sans-Serif\" font-size=\"14.00\" fill=\"#000000\">value = 10.341</text>\n</g>\n<!-- 46&#45;&gt;48 -->\n<g id=\"edge48\" class=\"edge\">\n<title>46&#45;&gt;48</title>\n<path fill=\"none\" stroke=\"#000000\" d=\"M3781.7051,-88.9777C3781.8759,-80.7364 3782.0593,-71.887 3782.2328,-63.5153\"/>\n<polygon fill=\"#000000\" stroke=\"#000000\" points=\"3785.7376,-63.3189 3782.4456,-53.2485 3778.7391,-63.1738 3785.7376,-63.3189\"/>\n</g>\n<!-- 50 -->\n<g id=\"node51\" class=\"node\">\n<title>50</title>\n<polygon fill=\"none\" stroke=\"#000000\" points=\"4038.5,-53 3877.5,-53 3877.5,0 4038.5,0 4038.5,-53\"/>\n<text text-anchor=\"middle\" x=\"3958\" y=\"-37.8\" font-family=\"Helvetica,sans-Serif\" font-size=\"14.00\" fill=\"#000000\">squared_error = 2.009</text>\n<text text-anchor=\"middle\" x=\"3958\" y=\"-22.8\" font-family=\"Helvetica,sans-Serif\" font-size=\"14.00\" fill=\"#000000\">samples = 21</text>\n<text text-anchor=\"middle\" x=\"3958\" y=\"-7.8\" font-family=\"Helvetica,sans-Serif\" font-size=\"14.00\" fill=\"#000000\">value = 7.16</text>\n</g>\n<!-- 49&#45;&gt;50 -->\n<g id=\"edge50\" class=\"edge\">\n<title>49&#45;&gt;50</title>\n<path fill=\"none\" stroke=\"#000000\" d=\"M3959.2949,-88.9777C3959.1241,-80.7364 3958.9407,-71.887 3958.7672,-63.5153\"/>\n<polygon fill=\"#000000\" stroke=\"#000000\" points=\"3962.2609,-63.1738 3958.5544,-53.2485 3955.2624,-63.3189 3962.2609,-63.1738\"/>\n</g>\n<!-- 51 -->\n<g id=\"node52\" class=\"node\">\n<title>51</title>\n<polygon fill=\"none\" stroke=\"#000000\" points=\"4217.5,-53 4056.5,-53 4056.5,0 4217.5,0 4217.5,-53\"/>\n<text text-anchor=\"middle\" x=\"4137\" y=\"-37.8\" font-family=\"Helvetica,sans-Serif\" font-size=\"14.00\" fill=\"#000000\">squared_error = 1.111</text>\n<text text-anchor=\"middle\" x=\"4137\" y=\"-22.8\" font-family=\"Helvetica,sans-Serif\" font-size=\"14.00\" fill=\"#000000\">samples = 6</text>\n<text text-anchor=\"middle\" x=\"4137\" y=\"-7.8\" font-family=\"Helvetica,sans-Serif\" font-size=\"14.00\" fill=\"#000000\">value = 8.957</text>\n</g>\n<!-- 49&#45;&gt;51 -->\n<g id=\"edge51\" class=\"edge\">\n<title>49&#45;&gt;51</title>\n<path fill=\"none\" stroke=\"#000000\" d=\"M4022.4036,-88.9777C4040.7956,-78.9504 4060.8391,-68.0228 4078.9462,-58.1508\"/>\n<polygon fill=\"#000000\" stroke=\"#000000\" points=\"4081.115,-60.9548 4088.2195,-53.095 4077.7642,-54.8089 4081.115,-60.9548\"/>\n</g>\n<!-- 53 -->\n<g id=\"node54\" class=\"node\">\n<title>53</title>\n<polygon fill=\"none\" stroke=\"#000000\" points=\"4485.5,-157 4324.5,-157 4324.5,-89 4485.5,-89 4485.5,-157\"/>\n<text text-anchor=\"middle\" x=\"4405\" y=\"-141.8\" font-family=\"Helvetica,sans-Serif\" font-size=\"14.00\" fill=\"#000000\">Price &lt;= 137.5</text>\n<text text-anchor=\"middle\" x=\"4405\" y=\"-126.8\" font-family=\"Helvetica,sans-Serif\" font-size=\"14.00\" fill=\"#000000\">squared_error = 2.974</text>\n<text text-anchor=\"middle\" x=\"4405\" y=\"-111.8\" font-family=\"Helvetica,sans-Serif\" font-size=\"14.00\" fill=\"#000000\">samples = 39</text>\n<text text-anchor=\"middle\" x=\"4405\" y=\"-96.8\" font-family=\"Helvetica,sans-Serif\" font-size=\"14.00\" fill=\"#000000\">value = 5.468</text>\n</g>\n<!-- 52&#45;&gt;53 -->\n<g id=\"edge53\" class=\"edge\">\n<title>52&#45;&gt;53</title>\n<path fill=\"none\" stroke=\"#000000\" d=\"M4405,-192.9465C4405,-184.776 4405,-175.9318 4405,-167.3697\"/>\n<polygon fill=\"#000000\" stroke=\"#000000\" points=\"4408.5001,-167.13 4405,-157.13 4401.5001,-167.13 4408.5001,-167.13\"/>\n</g>\n<!-- 56 -->\n<g id=\"node57\" class=\"node\">\n<title>56</title>\n<polygon fill=\"none\" stroke=\"#000000\" points=\"4754.5,-157 4593.5,-157 4593.5,-89 4754.5,-89 4754.5,-157\"/>\n<text text-anchor=\"middle\" x=\"4674\" y=\"-141.8\" font-family=\"Helvetica,sans-Serif\" font-size=\"14.00\" fill=\"#000000\">Price &lt;= 136.5</text>\n<text text-anchor=\"middle\" x=\"4674\" y=\"-126.8\" font-family=\"Helvetica,sans-Serif\" font-size=\"14.00\" fill=\"#000000\">squared_error = 3.801</text>\n<text text-anchor=\"middle\" x=\"4674\" y=\"-111.8\" font-family=\"Helvetica,sans-Serif\" font-size=\"14.00\" fill=\"#000000\">samples = 75</text>\n<text text-anchor=\"middle\" x=\"4674\" y=\"-96.8\" font-family=\"Helvetica,sans-Serif\" font-size=\"14.00\" fill=\"#000000\">value = 7.122</text>\n</g>\n<!-- 52&#45;&gt;56 -->\n<g id=\"edge56\" class=\"edge\">\n<title>52&#45;&gt;56</title>\n<path fill=\"none\" stroke=\"#000000\" d=\"M4485.7089,-195.7966C4516.5636,-183.8676 4551.94,-170.1905 4583.638,-157.9355\"/>\n<polygon fill=\"#000000\" stroke=\"#000000\" points=\"4585.283,-161.052 4593.3481,-154.1814 4582.7588,-154.523 4585.283,-161.052\"/>\n</g>\n<!-- 54 -->\n<g id=\"node55\" class=\"node\">\n<title>54</title>\n<polygon fill=\"none\" stroke=\"#000000\" points=\"4396.5,-53 4235.5,-53 4235.5,0 4396.5,0 4396.5,-53\"/>\n<text text-anchor=\"middle\" x=\"4316\" y=\"-37.8\" font-family=\"Helvetica,sans-Serif\" font-size=\"14.00\" fill=\"#000000\">squared_error = 2.045</text>\n<text text-anchor=\"middle\" x=\"4316\" y=\"-22.8\" font-family=\"Helvetica,sans-Serif\" font-size=\"14.00\" fill=\"#000000\">samples = 35</text>\n<text text-anchor=\"middle\" x=\"4316\" y=\"-7.8\" font-family=\"Helvetica,sans-Serif\" font-size=\"14.00\" fill=\"#000000\">value = 5.781</text>\n</g>\n<!-- 53&#45;&gt;54 -->\n<g id=\"edge54\" class=\"edge\">\n<title>53&#45;&gt;54</title>\n<path fill=\"none\" stroke=\"#000000\" d=\"M4373.6219,-88.9777C4365.1766,-79.8207 4356.0389,-69.9129 4347.5825,-60.744\"/>\n<polygon fill=\"#000000\" stroke=\"#000000\" points=\"4350.0221,-58.2266 4340.6696,-53.2485 4344.8764,-62.9723 4350.0221,-58.2266\"/>\n</g>\n<!-- 55 -->\n<g id=\"node56\" class=\"node\">\n<title>55</title>\n<polygon fill=\"none\" stroke=\"#000000\" points=\"4575.5,-53 4414.5,-53 4414.5,0 4575.5,0 4575.5,-53\"/>\n<text text-anchor=\"middle\" x=\"4495\" y=\"-37.8\" font-family=\"Helvetica,sans-Serif\" font-size=\"14.00\" fill=\"#000000\">squared_error = 2.758</text>\n<text text-anchor=\"middle\" x=\"4495\" y=\"-22.8\" font-family=\"Helvetica,sans-Serif\" font-size=\"14.00\" fill=\"#000000\">samples = 4</text>\n<text text-anchor=\"middle\" x=\"4495\" y=\"-7.8\" font-family=\"Helvetica,sans-Serif\" font-size=\"14.00\" fill=\"#000000\">value = 2.732</text>\n</g>\n<!-- 53&#45;&gt;55 -->\n<g id=\"edge55\" class=\"edge\">\n<title>53&#45;&gt;55</title>\n<path fill=\"none\" stroke=\"#000000\" d=\"M4436.7306,-88.9777C4445.2708,-79.8207 4454.5113,-69.9129 4463.0626,-60.744\"/>\n<polygon fill=\"#000000\" stroke=\"#000000\" points=\"4465.7923,-62.9488 4470.0532,-53.2485 4460.6731,-58.1744 4465.7923,-62.9488\"/>\n</g>\n<!-- 57 -->\n<g id=\"node58\" class=\"node\">\n<title>57</title>\n<polygon fill=\"none\" stroke=\"#000000\" points=\"4754.5,-53 4593.5,-53 4593.5,0 4754.5,0 4754.5,-53\"/>\n<text text-anchor=\"middle\" x=\"4674\" y=\"-37.8\" font-family=\"Helvetica,sans-Serif\" font-size=\"14.00\" fill=\"#000000\">squared_error = 2.604</text>\n<text text-anchor=\"middle\" x=\"4674\" y=\"-22.8\" font-family=\"Helvetica,sans-Serif\" font-size=\"14.00\" fill=\"#000000\">samples = 52</text>\n<text text-anchor=\"middle\" x=\"4674\" y=\"-7.8\" font-family=\"Helvetica,sans-Serif\" font-size=\"14.00\" fill=\"#000000\">value = 7.749</text>\n</g>\n<!-- 56&#45;&gt;57 -->\n<g id=\"edge57\" class=\"edge\">\n<title>56&#45;&gt;57</title>\n<path fill=\"none\" stroke=\"#000000\" d=\"M4674,-88.9777C4674,-80.7364 4674,-71.887 4674,-63.5153\"/>\n<polygon fill=\"#000000\" stroke=\"#000000\" points=\"4677.5001,-63.2484 4674,-53.2485 4670.5001,-63.2485 4677.5001,-63.2484\"/>\n</g>\n<!-- 58 -->\n<g id=\"node59\" class=\"node\">\n<title>58</title>\n<polygon fill=\"none\" stroke=\"#000000\" points=\"4933.5,-53 4772.5,-53 4772.5,0 4933.5,0 4933.5,-53\"/>\n<text text-anchor=\"middle\" x=\"4853\" y=\"-37.8\" font-family=\"Helvetica,sans-Serif\" font-size=\"14.00\" fill=\"#000000\">squared_error = 3.609</text>\n<text text-anchor=\"middle\" x=\"4853\" y=\"-22.8\" font-family=\"Helvetica,sans-Serif\" font-size=\"14.00\" fill=\"#000000\">samples = 23</text>\n<text text-anchor=\"middle\" x=\"4853\" y=\"-7.8\" font-family=\"Helvetica,sans-Serif\" font-size=\"14.00\" fill=\"#000000\">value = 5.704</text>\n</g>\n<!-- 56&#45;&gt;58 -->\n<g id=\"edge58\" class=\"edge\">\n<title>56&#45;&gt;58</title>\n<path fill=\"none\" stroke=\"#000000\" d=\"M4737.1087,-88.9777C4755.8792,-78.8584 4776.3506,-67.8222 4794.7937,-57.8794\"/>\n<polygon fill=\"#000000\" stroke=\"#000000\" points=\"4796.5268,-60.9213 4803.6683,-53.095 4793.205,-54.7597 4796.5268,-60.9213\"/>\n</g>\n</g>\n</svg>\n"
          },
          "metadata": {},
          "execution_count": 22
        }
      ],
      "source": [
        "export_graphviz(regr, out_file=\"mytree1.dot\", feature_names=X_train.columns)\n",
        "with open(\"mytree1.dot\") as f:\n",
        "    dot_graph = f.read()\n",
        "graphviz.Source(dot_graph)"
      ]
    },
    {
      "cell_type": "markdown",
      "metadata": {
        "id": "OOdIrRASQX_P"
      },
      "source": [
        "Now let's see how it does on the test data:"
      ]
    },
    {
      "cell_type": "code",
      "execution_count": 23,
      "metadata": {
        "colab": {
          "base_uri": "https://localhost:8080/",
          "height": 297
        },
        "id": "ly2OAYVCQX_P",
        "outputId": "5603ded3-2e00-4db3-fb47-b174b063b33b"
      },
      "outputs": [
        {
          "output_type": "execute_result",
          "data": {
            "text/plain": [
              "4.473407470836212"
            ]
          },
          "metadata": {},
          "execution_count": 23
        },
        {
          "output_type": "display_data",
          "data": {
            "image/png": "[encoded data removed]",
            "text/plain": [
              "<Figure size 432x288 with 1 Axes>"
            ]
          },
          "metadata": {
            "needs_background": "light"
          }
        }
      ],
      "source": [
        "pred = regr.predict(X_test)\n",
        "\n",
        "plt.scatter(pred, y_test)\n",
        "plt.plot([0, 1], [0, 1], '--k', transform=plt.gca().transAxes)\n",
        "plt.xlabel('pred')\n",
        "plt.ylabel('y_test')\n",
        "\n",
        "mean_squared_error(y_test, pred)"
      ]
    },
    {
      "cell_type": "markdown",
      "metadata": {
        "id": "ou4lsU5KQX_P"
      },
      "source": [
        "The test set MSE associated with the regression tree is\n",
        "5.304. The square root of the MSE is therefore around 2.30, indicating\n",
        "that this model leads to test predictions that are within around 2.3 of\n",
        "the true sales price."
      ]
    },
    {
      "cell_type": "markdown",
      "metadata": {
        "id": "feyE0bKrQX_P"
      },
      "source": [
        "# Bagging and Random Forests\n",
        "\n",
        "Let's see if we can improve on this result using **bagging** and **random forests**. The exact results obtained in this section may\n",
        "depend on the version of ${\\tt python}$ and the version of the ${\\tt RandomForestRegressor}$ package\n",
        "installed on your computer, so don't stress out if you don't match up exactly with the book. Recall that **bagging** is simply a special case of\n",
        "a **random forest** with $m = p$. Therefore, the ${\\tt RandomForestRegressor()}$ function can\n",
        "be used to perform both random forests and bagging. Let's start with bagging:"
      ]
    },
    {
      "cell_type": "code",
      "execution_count": 24,
      "metadata": {
        "colab": {
          "base_uri": "https://localhost:8080/"
        },
        "id": "5f2qHO8DQX_P",
        "outputId": "fba8c385-ade3-4ec3-cc55-deaa4b68d7a3"
      },
      "outputs": [
        {
          "output_type": "execute_result",
          "data": {
            "text/plain": [
              "RandomForestRegressor(max_features=10, random_state=1)"
            ]
          },
          "metadata": {},
          "execution_count": 24
        }
      ],
      "source": [
        "# Bagging: using all features\n",
        "regr1 = RandomForestRegressor(max_features=10, random_state=1)\n",
        "regr1.fit(X_train, y_train)"
      ]
    },
    {
      "cell_type": "markdown",
      "metadata": {
        "id": "5CuE1JSLQX_Q"
      },
      "source": [
        "The argument ${\\tt max\\_features=10}$ indicates that all 10 predictors should be considered\n",
        "for each split of the tree -- in other words, that bagging should be done. How\n",
        "well does this bagged model perform on the test set?"
      ]
    },
    {
      "cell_type": "code",
      "execution_count": 25,
      "metadata": {
        "colab": {
          "base_uri": "https://localhost:8080/",
          "height": 297
        },
        "id": "U1tNVM_WQX_Q",
        "outputId": "0d6ef01b-cbdb-4bb4-bcb6-09858c97d58f"
      },
      "outputs": [
        {
          "output_type": "execute_result",
          "data": {
            "text/plain": [
              "2.1807790691250006"
            ]
          },
          "metadata": {},
          "execution_count": 25
        },
        {
          "output_type": "display_data",
          "data": {
            "image/png": "[encoded data removed]",
            "text/plain": [
              "<Figure size 432x288 with 1 Axes>"
            ]
          },
          "metadata": {
            "needs_background": "light"
          }
        }
      ],
      "source": [
        "pred = regr1.predict(X_test)\n",
        "plt.scatter(pred, y_test, label='medv')\n",
        "plt.plot([0, 1], [0, 1], '--k', transform=plt.gca().transAxes)\n",
        "plt.xlabel('pred')\n",
        "plt.ylabel('y_test')\n",
        "mean_squared_error(y_test, pred)"
      ]
    },
    {
      "cell_type": "markdown",
      "metadata": {
        "id": "nddPNiLJQX_Q"
      },
      "source": [
        "The test set MSE associated with the bagged regression tree is significantly lower than our single tree!"
      ]
    },
    {
      "cell_type": "markdown",
      "metadata": {
        "id": "1scDLfDsQX_Q"
      },
      "source": [
        "We can grow a random forest in exactly the same way, except that\n",
        "we'll use a smaller value of the ${\\tt max\\_features}$ argument. Here we'll\n",
        "use ${\\tt max\\_features = 8}$:"
      ]
    },
    {
      "cell_type": "code",
      "execution_count": 26,
      "metadata": {
        "colab": {
          "base_uri": "https://localhost:8080/"
        },
        "id": "XIKo6uEGQX_Q",
        "outputId": "5e054ccf-0a5e-4eb8-b367-a64d1e96c017"
      },
      "outputs": [
        {
          "output_type": "execute_result",
          "data": {
            "text/plain": [
              "2.2461984136249997"
            ]
          },
          "metadata": {},
          "execution_count": 26
        }
      ],
      "source": [
        "# Random forests: using 6 features\n",
        "regr2 = RandomForestRegressor(max_features=8, random_state=1)\n",
        "regr2.fit(X_train, y_train)\n",
        "\n",
        "pred = regr2.predict(X_test)\n",
        "mean_squared_error(y_test, pred)"
      ]
    },
    {
      "cell_type": "markdown",
      "metadata": {
        "id": "JTjfDYf6QX_R"
      },
      "source": [
        "The test set MSE is even lower; this indicates that random forests yielded an\n",
        "improvement over bagging in this case.\n",
        "\n",
        "Using the ${\\tt feature\\_importances\\_}$ attribute of the ${\\tt RandomForestRegressor}$, we can view the importance of each\n",
        "variable:"
      ]
    },
    {
      "cell_type": "code",
      "execution_count": 27,
      "metadata": {
        "colab": {
          "base_uri": "https://localhost:8080/",
          "height": 279
        },
        "id": "WyXTZ5QMQX_R",
        "outputId": "94c86334-dfff-4922-8b96-d5374a92ceea"
      },
      "outputs": [
        {
          "output_type": "display_data",
          "data": {
            "image/png": "[encoded data removed]",
            "text/plain": [
              "<Figure size 432x288 with 1 Axes>"
            ]
          },
          "metadata": {
            "needs_background": "light"
          }
        }
      ],
      "source": [
        "Importance = pd.DataFrame({'Importance':regr2.feature_importances_*100}, index=X.columns)\n",
        "Importance.sort_values(by='Importance', axis=0, ascending=True).plot(kind='barh', color='r', )\n",
        "plt.xlabel('Variable Importance')\n",
        "plt.gca().legend_ = None"
      ]
    },
    {
      "cell_type": "markdown",
      "metadata": {
        "id": "R3fKLYegQX_R"
      },
      "source": [
        "# Boosting\n",
        "\n",
        "Now we'll use the ${\\tt GradientBoostingRegressor}$ package to fit **boosted\n",
        "regression trees** to the above dataset. The\n",
        "argument ${\\tt n_estimators=500}$ indicates that we want 500 trees, and the option\n",
        "${\\tt interaction.depth=4}$ limits the depth of each tree:"
      ]
    },
    {
      "cell_type": "code",
      "execution_count": 28,
      "metadata": {
        "colab": {
          "base_uri": "https://localhost:8080/"
        },
        "id": "jEcDGwXGQX_R",
        "outputId": "c5081bbf-89b7-449a-9ba0-91316c80b825"
      },
      "outputs": [
        {
          "output_type": "execute_result",
          "data": {
            "text/plain": [
              "GradientBoostingRegressor(learning_rate=0.01, max_depth=4, n_estimators=500,\n",
              "                          random_state=1)"
            ]
          },
          "metadata": {},
          "execution_count": 28
        }
      ],
      "source": [
        "regr = GradientBoostingRegressor(n_estimators=500, learning_rate=0.01, max_depth=4, random_state=1)\n",
        "regr.fit(X_train, y_train)"
      ]
    },
    {
      "cell_type": "markdown",
      "metadata": {
        "id": "MahzdQRmQX_S"
      },
      "source": [
        "Let's check out the feature importances again:"
      ]
    },
    {
      "cell_type": "code",
      "execution_count": 29,
      "metadata": {
        "colab": {
          "base_uri": "https://localhost:8080/",
          "height": 279
        },
        "id": "3CZP7bQRQX_S",
        "outputId": "e6065f63-d5aa-4f74-b5a5-6da50850984f"
      },
      "outputs": [
        {
          "output_type": "display_data",
          "data": {
            "image/png": "[encoded data removed]",
            "text/plain": [
              "<Figure size 432x288 with 1 Axes>"
            ]
          },
          "metadata": {
            "needs_background": "light"
          }
        }
      ],
      "source": [
        "feature_importance = regr.feature_importances_*100\n",
        "rel_imp = pd.Series(feature_importance, index=X.columns).sort_values(inplace=False)\n",
        "rel_imp.T.plot(kind='barh', color='r', )\n",
        "plt.xlabel('Variable Importance')\n",
        "plt.gca().legend_ = None"
      ]
    },
    {
      "cell_type": "markdown",
      "metadata": {
        "id": "8G8Ywp17QX_S"
      },
      "source": [
        "We see that ${\\tt lstat}$ and ${\\tt rm}$ are again the most important variables by far. Now let's use the boosted model to predict ${\\tt medv}$ on the test set:"
      ]
    },
    {
      "cell_type": "code",
      "execution_count": 30,
      "metadata": {
        "colab": {
          "base_uri": "https://localhost:8080/"
        },
        "id": "gknjQpgiQX_S",
        "outputId": "368cd1cb-450c-4d94-e65f-a112ca641b7d"
      },
      "outputs": [
        {
          "output_type": "execute_result",
          "data": {
            "text/plain": [
              "2.033109917492922"
            ]
          },
          "metadata": {},
          "execution_count": 30
        }
      ],
      "source": [
        "mean_squared_error(y_test, regr.predict(X_test))"
      ]
    },
    {
      "cell_type": "markdown",
      "metadata": {
        "id": "SXHcaMxHQX_S"
      },
      "source": [
        "The test MSE obtained is similar to the test MSE for random forests\n",
        "and superior to that for bagging. If we want to, we can perform boosting\n",
        "with a different value of the shrinkage parameter $\\lambda$. Here we take $\\lambda = 0.2$:"
      ]
    },
    {
      "cell_type": "code",
      "execution_count": 31,
      "metadata": {
        "colab": {
          "base_uri": "https://localhost:8080/"
        },
        "id": "wqAss079QX_S",
        "outputId": "310639a7-9592-4549-e8c8-7e471bcb94c2"
      },
      "outputs": [
        {
          "output_type": "execute_result",
          "data": {
            "text/plain": [
              "2.138238655584959"
            ]
          },
          "metadata": {},
          "execution_count": 31
        }
      ],
      "source": [
        "regr2 = GradientBoostingRegressor(n_estimators=500, learning_rate=0.2, max_depth=4, random_state=1)\n",
        "regr2.fit(X_train, y_train)\n",
        "mean_squared_error(y_test, regr2.predict(X_test))"
      ]
    },
    {
      "cell_type": "markdown",
      "metadata": {
        "id": "2GgBQYgdQX_T"
      },
      "source": [
        "## Can you do Random Forest and Gradient Boosting tree for classification?"
      ]
    },
    {
      "cell_type": "code",
      "source": [
        ""
      ],
      "metadata": {
        "id": "rg5T9N0raP0Y"
      },
      "execution_count": 31,
      "outputs": []
    }
  ],
  "metadata": {
    "anaconda-cloud": {},
    "kernelspec": {
      "display_name": "Python 3",
      "language": "python",
      "name": "python3"
    },
    "language_info": {
      "codemirror_mode": {
        "name": "ipython",
        "version": 3
      },
      "file_extension": ".py",
      "mimetype": "text/x-python",
      "name": "python",
      "nbconvert_exporter": "python",
      "pygments_lexer": "ipython3",
      "version": "3.7.2"
    },
    "colab": {
      "name": "Tutorial3-part4 TreeBasedMethods_sklearn.ipynb",
      "provenance": [],
      "collapsed_sections": []
    }
  },
  "nbformat": 4,
  "nbformat_minor": 0
}