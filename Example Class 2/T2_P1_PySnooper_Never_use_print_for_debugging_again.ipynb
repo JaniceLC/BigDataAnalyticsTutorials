{
  "nbformat": 4,
  "nbformat_minor": 0,
  "metadata": {
    "colab": {
      "name": "T2_P1_PySnooper_Never_use_print_for_debugging_again.ipynb",
      "provenance": [],
      "collapsed_sections": []
    },
    "kernelspec": {
      "name": "python3",
      "display_name": "Python 3"
    },
    "language_info": {
      "name": "python"
    }
  },
  "cells": [
    {
      "cell_type": "code",
      "metadata": {
        "id": "mOKEOEc-c9OS"
      },
      "source": [
        ""
      ],
      "execution_count": null,
      "outputs": []
    },
    {
      "cell_type": "markdown",
      "metadata": {
        "id": "xF4krB6-dDx2"
      },
      "source": [
        "# PySnooper - Never use print for debugging again \n",
        "[**GitHub Documentation**](https://github.com/cool-RR/PySnooper)\n",
        "\n",
        "PySnooper is a poor man's debugger. If you've used Bash, it's like set -x for Python, except it's fancier.\n",
        "\n",
        "Your story: You're trying to figure out why your Python code isn't doing what you think it should be doing. You'd love to use a full-fledged debugger with breakpoints and watches, but you can't be bothered to set one up right now.\n",
        "\n",
        "You want to know which lines are running and which aren't, and what the values of the local variables are.\n",
        "\n",
        "Most people would use print lines, in strategic locations, some of them showing the values of variables.\n",
        "\n",
        "PySnooper lets you do the same, except instead of carefully crafting the right print lines, you just add one decorator line to the function you're interested in. You'll get a play-by-play log of your function, including which lines ran and when, and exactly when local variables were changed.\n",
        "\n",
        "What makes PySnooper stand out from all other code intelligence tools? You can use it in your shitty, sprawling enterprise codebase without having to do any setup. Just slap the decorator on, as shown below, and redirect the output to a dedicated log file by specifying its path as the first argument.\n",
        "\n",
        "## Installation\n",
        "\n",
        "**Installation with Pip**\n",
        "\n",
        "The best way to install **PySnooper** is with Pip:\n",
        "\n",
        "```console\n",
        "$ pip install pysnooper\n",
        "```\n",
        "\n",
        "**Other installation options**\n",
        "\n",
        "Conda with conda-forge channel:\n",
        "\n",
        "```console\n",
        "$ conda install -c conda-forge pysnooper\n",
        "```\n"
      ]
    },
    {
      "cell_type": "code",
      "metadata": {
        "colab": {
          "base_uri": "https://localhost:8080/"
        },
        "id": "PN9Vxpjxdijh",
        "outputId": "8b41afd0-0c22-4a8a-e1a0-8fdabaca585b"
      },
      "source": [
        "!pip install pysnooper"
      ],
      "execution_count": 1,
      "outputs": [
        {
          "output_type": "stream",
          "name": "stdout",
          "text": [
            "Collecting pysnooper\n",
            "  Downloading PySnooper-1.1.0-py2.py3-none-any.whl (14 kB)\n",
            "Installing collected packages: pysnooper\n",
            "Successfully installed pysnooper-1.1.0\n"
          ]
        }
      ]
    },
    {
      "cell_type": "markdown",
      "metadata": {
        "id": "5vGANU5EeDju"
      },
      "source": [
        "## Basic Example\n",
        "\n",
        "We're writing a function that converts a number to binary, by returning a list of bits. Let's snoop on it by adding the `@pysnooper.snoop()` decorator:"
      ]
    },
    {
      "cell_type": "code",
      "metadata": {
        "colab": {
          "base_uri": "https://localhost:8080/"
        },
        "id": "tPd0gZT9dkVw",
        "outputId": "a59f8f55-fc14-4727-9486-a3cab445b3fa"
      },
      "source": [
        "import pysnooper\n",
        "\n",
        "@pysnooper.snoop()\n",
        "def number_to_bits(number):\n",
        "    if number:\n",
        "        bits = []\n",
        "        while number:\n",
        "            number, remainder = divmod(number, 2)\n",
        "            bits.insert(0, remainder)\n",
        "        return bits\n",
        "    else:\n",
        "        return [0]\n",
        "\n",
        "number_to_bits(6)"
      ],
      "execution_count": 2,
      "outputs": [
        {
          "output_type": "stream",
          "name": "stderr",
          "text": [
            "\n",
            "PYDEV DEBUGGER WARNING:\n",
            "sys.settrace() should not be used when the debugger is being used.\n",
            "This may cause the debugger to stop working correctly.\n",
            "If this is needed, please check: \n",
            "http://pydev.blogspot.com/2007/06/why-cant-pydev-debugger-work-with.html\n",
            "to see how to restore the debug tracing back correctly.\n",
            "Call Location:\n",
            "  File \"/usr/local/lib/python3.7/dist-packages/pysnooper/tracer.py\", line 340, in __enter__\n",
            "    sys.settrace(self.trace)\n",
            "\n",
            "\u001b[33m\u001b[2mSource path:... \u001b[22m<ipython-input-2-d9086aeb58cb>\u001b[0m\n",
            "\u001b[32m\u001b[2mStarting var:.. \u001b[22mnumber = 6\u001b[0m\n",
            "\u001b[2m09:07:16.413251 call         4\u001b[0m def number_to_bits(number):\n",
            "\u001b[2m09:07:16.414475 line         5\u001b[0m     if number:\n",
            "\u001b[2m09:07:16.414781 line         6\u001b[0m         bits = []\n",
            "\u001b[32m\u001b[2mNew var:....... \u001b[22mbits = []\u001b[0m\n",
            "\u001b[2m09:07:16.415055 line         7\u001b[0m         while number:\n",
            "\u001b[2m09:07:16.415537 line         8\u001b[0m             number, remainder = divmod(number, 2)\n",
            "\u001b[32m\u001b[2mModified var:.. \u001b[22mnumber = 3\u001b[0m\n",
            "\u001b[32m\u001b[2mNew var:....... \u001b[22mremainder = 0\u001b[0m\n",
            "\u001b[2m09:07:16.415824 line         9\u001b[0m             bits.insert(0, remainder)\n",
            "\u001b[32m\u001b[2mModified var:.. \u001b[22mbits = [0]\u001b[0m\n",
            "\u001b[2m09:07:16.416531 line         7\u001b[0m         while number:\n",
            "\u001b[2m09:07:16.417040 line         8\u001b[0m             number, remainder = divmod(number, 2)\n",
            "\u001b[32m\u001b[2mModified var:.. \u001b[22mnumber = 1\u001b[0m\n",
            "\u001b[32m\u001b[2mModified var:.. \u001b[22mremainder = 1\u001b[0m\n",
            "\u001b[2m09:07:16.417230 line         9\u001b[0m             bits.insert(0, remainder)\n",
            "\u001b[32m\u001b[2mModified var:.. \u001b[22mbits = [1, 0]\u001b[0m\n",
            "\u001b[2m09:07:16.417588 line         7\u001b[0m         while number:\n",
            "\u001b[2m09:07:16.417872 line         8\u001b[0m             number, remainder = divmod(number, 2)\n",
            "\u001b[32m\u001b[2mModified var:.. \u001b[22mnumber = 0\u001b[0m\n",
            "\u001b[2m09:07:16.418025 line         9\u001b[0m             bits.insert(0, remainder)\n",
            "\u001b[32m\u001b[2mModified var:.. \u001b[22mbits = [1, 1, 0]\u001b[0m\n",
            "\u001b[2m09:07:16.418278 line         7\u001b[0m         while number:\n",
            "\u001b[2m09:07:16.418515 line        10\u001b[0m         return bits\n",
            "\u001b[2m09:07:16.418650 return      10\u001b[0m         return bits\n",
            "\u001b[36m\u001b[2mReturn value:.. \u001b[22m[1, 1, 0]\u001b[0m\n",
            "\n",
            "PYDEV DEBUGGER WARNING:\n",
            "sys.settrace() should not be used when the debugger is being used.\n",
            "This may cause the debugger to stop working correctly.\n",
            "If this is needed, please check: \n",
            "http://pydev.blogspot.com/2007/06/why-cant-pydev-debugger-work-with.html\n",
            "to see how to restore the debug tracing back correctly.\n",
            "Call Location:\n",
            "  File \"/usr/local/lib/python3.7/dist-packages/pysnooper/tracer.py\", line 346, in __exit__\n",
            "    sys.settrace(stack.pop())\n",
            "\n",
            "\u001b[33m\u001b[2mElapsed time: \u001b[22m00:00:00.009406\u001b[0m\n"
          ]
        },
        {
          "output_type": "execute_result",
          "data": {
            "text/plain": [
              "[1, 1, 0]"
            ]
          },
          "metadata": {},
          "execution_count": 2
        }
      ]
    },
    {
      "cell_type": "markdown",
      "metadata": {
        "id": "VB9MrtBtePpk"
      },
      "source": [
        "## More examples\n",
        "\n",
        "When calling the functions, PySnooper is also able to clearly show the hierachical relationships between two or more functoins. "
      ]
    },
    {
      "cell_type": "code",
      "metadata": {
        "id": "FKtDq7k7e1HO"
      },
      "source": [
        "@pysnooper.snoop()\n",
        "def two(x, y):\n",
        "    z = x + y\n",
        "    return z\n",
        "    \n",
        "@pysnooper.snoop()\n",
        "def one(number):\n",
        "    k = 0\n",
        "    while number:\n",
        "        k = two(k, number)\n",
        "        number -= 1\n",
        "    return number"
      ],
      "execution_count": 3,
      "outputs": []
    },
    {
      "cell_type": "code",
      "metadata": {
        "colab": {
          "base_uri": "https://localhost:8080/"
        },
        "id": "GEgHNI0ze_Pr",
        "outputId": "be030afc-c189-4fbc-b2fd-50b4c85bafb7"
      },
      "source": [
        "one(3)"
      ],
      "execution_count": 4,
      "outputs": [
        {
          "output_type": "stream",
          "name": "stderr",
          "text": [
            "\u001b[33m\u001b[2mSource path:... \u001b[22m<ipython-input-3-94a80f6770e5>\u001b[0m\n",
            "\u001b[32m\u001b[2mStarting var:.. \u001b[22mnumber = 3\u001b[0m\n",
            "\u001b[2m09:07:16.445779 call         7\u001b[0m def one(number):\n",
            "\u001b[2m09:07:16.447035 line         8\u001b[0m     k = 0\n",
            "\u001b[32m\u001b[2mNew var:....... \u001b[22mk = 0\u001b[0m\n",
            "\u001b[2m09:07:16.447346 line         9\u001b[0m     while number:\n",
            "\u001b[2m09:07:16.447920 line        10\u001b[0m         k = two(k, number)\n",
            "\u001b[33m\u001b[2m    Source path:... \u001b[22m<ipython-input-3-94a80f6770e5>\u001b[0m\n",
            "    \u001b[32m\u001b[2mStarting var:.. \u001b[22mx = 0\u001b[0m\n",
            "    \u001b[32m\u001b[2mStarting var:.. \u001b[22my = 3\u001b[0m\n",
            "    \u001b[2m09:07:16.448436 call         2\u001b[0m def two(x, y):\n",
            "    \u001b[2m09:07:16.449426 line         3\u001b[0m     z = x + y\n",
            "    \u001b[32m\u001b[2mNew var:....... \u001b[22mz = 3\u001b[0m\n",
            "    \u001b[2m09:07:16.449715 line         4\u001b[0m     return z\n",
            "    \u001b[2m09:07:16.450289 return       4\u001b[0m     return z\n",
            "    \u001b[36m\u001b[2mReturn value:.. \u001b[22m3\u001b[0m\n",
            "    \u001b[33m\u001b[2mElapsed time: \u001b[22m00:00:00.002741\u001b[0m\n",
            "\u001b[32m\u001b[2mModified var:.. \u001b[22mk = 3\u001b[0m\n",
            "\u001b[2m09:07:16.451594 line        11\u001b[0m         number -= 1\n",
            "\u001b[32m\u001b[2mModified var:.. \u001b[22mnumber = 2\u001b[0m\n",
            "\u001b[2m09:07:16.453997 line         9\u001b[0m     while number:\n",
            "\u001b[2m09:07:16.454807 line        10\u001b[0m         k = two(k, number)\n",
            "    \u001b[32m\u001b[2mStarting var:.. \u001b[22mx = 3\u001b[0m\n",
            "    \u001b[32m\u001b[2mStarting var:.. \u001b[22my = 2\u001b[0m\n",
            "    \u001b[2m09:07:16.455340 call         2\u001b[0m def two(x, y):\n",
            "    \u001b[2m09:07:16.456137 line         3\u001b[0m     z = x + y\n",
            "    \u001b[32m\u001b[2mNew var:....... \u001b[22mz = 5\u001b[0m\n",
            "    \u001b[2m09:07:16.456427 line         4\u001b[0m     return z\n",
            "    \u001b[2m09:07:16.456993 return       4\u001b[0m     return z\n",
            "    \u001b[36m\u001b[2mReturn value:.. \u001b[22m5\u001b[0m\n",
            "    \u001b[33m\u001b[2mElapsed time: \u001b[22m00:00:00.002515\u001b[0m\n",
            "\u001b[32m\u001b[2mModified var:.. \u001b[22mk = 5\u001b[0m\n",
            "\u001b[2m09:07:16.458011 line        11\u001b[0m         number -= 1\n",
            "\u001b[32m\u001b[2mModified var:.. \u001b[22mnumber = 1\u001b[0m\n",
            "\u001b[2m09:07:16.458529 line         9\u001b[0m     while number:\n",
            "\u001b[2m09:07:16.459087 line        10\u001b[0m         k = two(k, number)\n",
            "    \u001b[32m\u001b[2mStarting var:.. \u001b[22mx = 5\u001b[0m\n",
            "    \u001b[32m\u001b[2mStarting var:.. \u001b[22my = 1\u001b[0m\n",
            "    \u001b[2m09:07:16.459470 call         2\u001b[0m def two(x, y):\n",
            "    \u001b[2m09:07:16.459919 line         3\u001b[0m     z = x + y\n",
            "    \u001b[32m\u001b[2mNew var:....... \u001b[22mz = 6\u001b[0m\n",
            "    \u001b[2m09:07:16.460071 line         4\u001b[0m     return z\n",
            "    \u001b[2m09:07:16.460337 return       4\u001b[0m     return z\n",
            "    \u001b[36m\u001b[2mReturn value:.. \u001b[22m6\u001b[0m\n",
            "    \u001b[33m\u001b[2mElapsed time: \u001b[22m00:00:00.001323\u001b[0m\n",
            "\u001b[32m\u001b[2mModified var:.. \u001b[22mk = 6\u001b[0m\n",
            "\u001b[2m09:07:16.460895 line        11\u001b[0m         number -= 1\n",
            "\u001b[32m\u001b[2mModified var:.. \u001b[22mnumber = 0\u001b[0m\n",
            "\u001b[2m09:07:16.461176 line         9\u001b[0m     while number:\n",
            "\u001b[2m09:07:16.461422 line        12\u001b[0m     return number\n",
            "\u001b[2m09:07:16.461558 return      12\u001b[0m     return number\n",
            "\u001b[36m\u001b[2mReturn value:.. \u001b[22m0\u001b[0m\n",
            "\u001b[33m\u001b[2mElapsed time: \u001b[22m00:00:00.016332\u001b[0m\n"
          ]
        },
        {
          "output_type": "execute_result",
          "data": {
            "text/plain": [
              "0"
            ]
          },
          "metadata": {},
          "execution_count": 4
        }
      ]
    },
    {
      "cell_type": "markdown",
      "metadata": {
        "id": "5hTRsYtte-b4"
      },
      "source": [
        ""
      ]
    },
    {
      "cell_type": "markdown",
      "metadata": {
        "id": "WQ7C0yQHePvs"
      },
      "source": [
        ""
      ]
    },
    {
      "cell_type": "markdown",
      "metadata": {
        "id": "xHZbqNTDeP1u"
      },
      "source": [
        "# Some Other Features (Optional)#\n",
        "\n",
        "If stderr is not easily accessible for you, you can redirect the output to a file:\n",
        "\n",
        "```python\n",
        "@pysnooper.snoop('/my/log/file.log')\n",
        "```\n",
        "\n",
        "You can also pass a stream or a callable instead, and they'll be used.\n",
        "\n",
        "See values of some expressions that aren't local variables:\n",
        "\n",
        "```python\n",
        "@pysnooper.snoop(watch=('foo.bar', 'self.x[\"whatever\"]'))\n",
        "```\n",
        "\n",
        "Show snoop lines for functions that your function calls:\n",
        "\n",
        "```python\n",
        "@pysnooper.snoop(depth=2)\n",
        "```\n",
        "\n",
        "**See [Advanced Usage](https://github.com/cool-RR/PySnooper/blob/master/ADVANCED_USAGE.md) for more options.** "
      ]
    },
    {
      "cell_type": "markdown",
      "metadata": {
        "id": "VvI4MPZafuCf"
      },
      "source": [
        "# Advanced Usage [Optional!] \n",
        "\n",
        "Use `watch_explode` to expand values to see all their attributes or items of lists/dictionaries:\n",
        "\n",
        "```python\n",
        "@pysnooper.snoop(watch_explode=('foo', 'self'))\n",
        "```\n",
        "\n",
        "`watch_explode` will automatically guess how to expand the expression passed to it based on its class. You can be more specific by using one of the following classes:\n",
        "\n",
        "```python\n",
        "import pysnooper\n",
        "\n",
        "@pysnooper.snoop(watch=(\n",
        "    pysnooper.Attrs('x'),    # attributes\n",
        "    pysnooper.Keys('y'),     # mapping (e.g. dict) items\n",
        "    pysnooper.Indices('z'),  # sequence (e.g. list/tuple) items\n",
        "))\n",
        "```\n",
        "\n",
        "Exclude specific keys/attributes/indices with the `exclude` parameter, e.g. `Attrs('x', exclude=('_foo', '_bar'))`.\n",
        "\n",
        "Add a slice after `Indices` to only see the values within that slice, e.g. `Indices('z')[-3:]`.\n",
        "\n",
        "```console\n",
        "$ export PYSNOOPER_DISABLED=1 # This makes PySnooper not do any snooping\n",
        "```\n",
        "\n",
        "This will output lines like:\n",
        "\n",
        "```\n",
        "Modified var:.. foo[2] = 'whatever'\n",
        "New var:....... self.baz = 8\n",
        "```\n",
        "\n",
        "Start all snoop lines with a prefix, to grep for them easily:\n",
        "\n",
        "```python\n",
        "@pysnooper.snoop(prefix='ZZZ ')\n",
        "```\n",
        "\n",
        "Remove all machine-related data (paths, timestamps, memory addresses) to compare with other traces easily:\n",
        "\n",
        "```python\n",
        "@pysnooper.snoop(normalize=True)\n",
        "```\n",
        "\n",
        "On multi-threaded apps identify which thread are snooped in output:\n",
        "\n",
        "```python\n",
        "@pysnooper.snoop(thread_info=True)\n",
        "```\n",
        "\n",
        "PySnooper supports decorating generators.\n",
        "\n",
        "If you decorate a class with `snoop`, it'll automatically apply the decorator to all the methods. (Not including properties and other special cases.)\n",
        "\n",
        "You can also customize the repr of an object:\n",
        "\n",
        "\n"
      ]
    },
    {
      "cell_type": "code",
      "metadata": {
        "colab": {
          "base_uri": "https://localhost:8080/"
        },
        "id": "xsy12lzrdvGE",
        "outputId": "4d4242de-3aaa-4169-b6be-7aac4ee7a7af"
      },
      "source": [
        "import numpy\n",
        "def large(l):\n",
        "    return isinstance(l, list) and len(l) > 5\n",
        " \n",
        "def print_list_size(l):\n",
        "    return 'list(size={})'.format(len(l))\n",
        " \n",
        "def print_ndarray(a):\n",
        "    return 'ndarray(shape={}, dtype={})'.format(a.shape, a.dtype)\n",
        " \n",
        "@pysnooper.snoop(custom_repr=((large, print_list_size), (numpy.ndarray, print_ndarray)))\n",
        "def sum_to_x(x):\n",
        "    l = list(range(x))\n",
        "    a = numpy.zeros((10,10))\n",
        "    return sum(l)\n",
        " \n",
        "sum_to_x(10000)"
      ],
      "execution_count": 5,
      "outputs": [
        {
          "output_type": "stream",
          "name": "stderr",
          "text": [
            "\u001b[33m\u001b[2mSource path:... \u001b[22m<ipython-input-5-0347b903ac08>\u001b[0m\n",
            "\u001b[32m\u001b[2mStarting var:.. \u001b[22mx = 10000\u001b[0m\n",
            "\u001b[2m09:07:16.482398 call        12\u001b[0m def sum_to_x(x):\n",
            "\u001b[2m09:07:16.484122 line        13\u001b[0m     l = list(range(x))\n",
            "\u001b[32m\u001b[2mNew var:....... \u001b[22ml = list(size=10000)\u001b[0m\n",
            "\u001b[2m09:07:16.484905 line        14\u001b[0m     a = numpy.zeros((10,10))\n",
            "\u001b[32m\u001b[2mNew var:....... \u001b[22ma = ndarray(shape=(10, 10), dtype=float64)\u001b[0m\n",
            "\u001b[2m09:07:16.485288 line        15\u001b[0m     return sum(l)\n",
            "\u001b[2m09:07:16.485762 return      15\u001b[0m     return sum(l)\n",
            "\u001b[36m\u001b[2mReturn value:.. \u001b[22m49995000\u001b[0m\n",
            "\u001b[33m\u001b[2mElapsed time: \u001b[22m00:00:00.004114\u001b[0m\n"
          ]
        },
        {
          "output_type": "execute_result",
          "data": {
            "text/plain": [
              "49995000"
            ]
          },
          "metadata": {},
          "execution_count": 5
        }
      ]
    },
    {
      "cell_type": "markdown",
      "metadata": {
        "id": "epSIakuyiXzh"
      },
      "source": [
        "You will get `l = list(size=10000)` for the list, and `a = ndarray(shape=(10, 10), dtype=float64)` for the ndarray.\n",
        "The `custom_repr` are matched in order, if one condition matches, no further conditions will be checked.\n"
      ]
    },
    {
      "cell_type": "markdown",
      "metadata": {
        "id": "5r0p4f4IiSYl"
      },
      "source": [
        "\n",
        "Variables and exceptions get truncated to 100 characters by default. You\n",
        "can customize that:\n",
        "\n",
        "```python\n",
        "    @pysnooper.snoop(max_variable_length=200)\n",
        "```\n",
        "\n",
        "You can also use `max_variable_length=None` to never truncate them.\n",
        "\n",
        "Use `relative_time=True` to show timestamps relative to start time rather than\n",
        "wall time."
      ]
    },
    {
      "cell_type": "code",
      "metadata": {
        "id": "ikyDp3vgh_OW"
      },
      "source": [
        ""
      ],
      "execution_count": 5,
      "outputs": []
    }
  ]
}