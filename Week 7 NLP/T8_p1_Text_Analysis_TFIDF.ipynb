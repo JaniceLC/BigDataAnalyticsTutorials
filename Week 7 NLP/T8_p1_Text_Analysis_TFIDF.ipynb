{
  "nbformat": 4,
  "nbformat_minor": 0,
  "metadata": {
    "kernelspec": {
      "display_name": "Python 3",
      "language": "python",
      "name": "python3"
    },
    "language_info": {
      "codemirror_mode": {
        "name": "ipython",
        "version": 3
      },
      "file_extension": ".py",
      "mimetype": "text/x-python",
      "name": "python",
      "nbconvert_exporter": "python",
      "pygments_lexer": "ipython3",
      "version": "3.7.2"
    },
    "colab": {
      "provenance": []
    }
  },
  "cells": [
    {
      "cell_type": "markdown",
      "metadata": {
        "id": "U74ZDvl4ppwD"
      },
      "source": [
        "# TF-IDF"
      ]
    },
    {
      "cell_type": "markdown",
      "metadata": {
        "id": "Qf5JJOpLppwM"
      },
      "source": [
        "## What is TF-IDF?"
      ]
    },
    {
      "cell_type": "markdown",
      "metadata": {
        "id": "x76P5KeUppwM"
      },
      "source": [
        "TF-IDF stands for \"Term Frequency, Inverse Document Frequency.\" It's a way to score the importance of words (or \"terms\") in a document based on how frequently they appear across multiple documents."
      ]
    },
    {
      "cell_type": "markdown",
      "metadata": {
        "id": "bZPg9TJTppwN"
      },
      "source": [
        "* If a word appears frequently in a document, it's important. Give the word a high score.\n",
        "* But if a word appears in many documents, it's not a unique identifier. Give the word a low score.\n",
        "\n",
        "Therefore, common words like \"the\" and \"for,\" which appear in many documents, will be scaled down. Words that appear frequently in a single document will be scaled up."
      ]
    },
    {
      "cell_type": "markdown",
      "metadata": {
        "id": "1e5BfspcppwO"
      },
      "source": [
        "## Term Frequency"
      ]
    },
    {
      "cell_type": "markdown",
      "metadata": {
        "id": "GcU-k03ZppwP"
      },
      "source": [
        "This measures how frequently a word occurs in a document. This highly depends on the length of the document and the generality of word, for example a very common word such as “was” can appear multiple times in a document and with the length of the document the count increases, so to normalise the value, we divide the the frequency with the total number of words in the document.<br>\n",
        "So, in worst case if the term doesn’t exist in the document, then the TF value will be zero and in other extreme case, if all the words in the document are same, then it will be one. The final value of the normalised TF value will be in the range of [0 to 1]. 0, 1 inclusive.<br>"
      ]
    },
    {
      "cell_type": "markdown",
      "metadata": {
        "id": "r_TYqt_QppwQ"
      },
      "source": [
        "                  tf(t,d)  =  frequency that term t appears in document d\n",
        "\n",
        "In Our lecture note, term frequency is calculated as\n",
        "$$ tf(t,d)  = \\log{(1 + \\text{raw counts that term t appears in document d})}$$"
      ]
    },
    {
      "cell_type": "markdown",
      "metadata": {
        "id": "1A_deKLdppwQ"
      },
      "source": [
        "## Document Frequency\n",
        "This measures the importance of document in whole set of corpus, this is very similar to TF. The only difference is that TF is frequency counter for a term t in document d, where as DF id the count of occurrences of term t in the document set D. we consider one occurrence if the term consists in the document at least once, we do not need to know the number of times the term is present."
      ]
    },
    {
      "cell_type": "markdown",
      "metadata": {
        "id": "0zdUSEfvppwR"
      },
      "source": [
        "                     df(t) = no. of documents in D containing term t\n",
        "\n",
        "\n",
        "\n",
        "\n",
        "\n",
        "\n"
      ]
    },
    {
      "cell_type": "markdown",
      "metadata": {
        "id": "y4v1yHiPppwR"
      },
      "source": [
        "## Inverse Document Frequency\n",
        "IDF is the inverse of the document frequency which measures the informativeness of term t. When we calculate IDF, it will be very low for the most occurring words such as stop words. This finally gives what we want, a relative weightage."
      ]
    },
    {
      "cell_type": "markdown",
      "metadata": {
        "id": "FrsnUkpUppwS"
      },
      "source": [
        "$$idf(t) = \\frac{D}{df(t)}$$"
      ]
    },
    {
      "cell_type": "markdown",
      "metadata": {
        "id": "hKWyTAToppwT"
      },
      "source": [
        "Now there are few other problems with the IDF, in case of a large corpus, say 10,000, the IDF value explodes. So to dampen the effect we take log of IDF. In worst case, there could be no document which has 0 occurrence, and we cannot divide by 0. so to smoothen the effect we generally add 1 to the denominator."
      ]
    },
    {
      "cell_type": "markdown",
      "metadata": {
        "id": "HFVsXmVXppwT"
      },
      "source": [
        "$$idf(t) = log\\frac{D}{df(t) + 1}$$"
      ]
    },
    {
      "cell_type": "markdown",
      "metadata": {
        "id": "T8wwHBmBppwU"
      },
      "source": [
        "## TF-IDF\n",
        "Finally, by taking a multiplicative value of TF and IDF, we get the TF-IDF score, there are many different variations of TF-IDF but for now let us concentrate on the this basic version."
      ]
    },
    {
      "cell_type": "markdown",
      "metadata": {
        "id": "BBdNm3vbppwV"
      },
      "source": [
        "$$ \\operatorname{TF-IDF}(t, d) = tf(t, d) * idf(t) $$"
      ]
    },
    {
      "cell_type": "code",
      "metadata": {
        "colab": {
          "base_uri": "https://localhost:8080/"
        },
        "id": "jxu3UFeoqdyv",
        "outputId": "5706b2cb-c4cf-4050-cfd5-a457e8ac5d83"
      },
      "source": [
        "import nltk\n",
        "nltk.download('stopwords')"
      ],
      "execution_count": null,
      "outputs": [
        {
          "output_type": "stream",
          "name": "stderr",
          "text": [
            "[nltk_data] Downloading package stopwords to /root/nltk_data...\n",
            "[nltk_data]   Unzipping corpora/stopwords.zip.\n"
          ]
        },
        {
          "output_type": "execute_result",
          "data": {
            "text/plain": [
              "True"
            ]
          },
          "metadata": {},
          "execution_count": 1
        }
      ]
    },
    {
      "cell_type": "code",
      "metadata": {
        "scrolled": false,
        "id": "arULaTOcppwW"
      },
      "source": [
        "import re # Regular expression operations \n",
        "from nltk.corpus import stopwords\n",
        "from nltk.tokenize import word_tokenize, sent_tokenize\n",
        "import math\n",
        "import operator\n",
        "import statistics\n",
        "from string import punctuation\n",
        "stop_words = set(stopwords.words('english') + list(punctuation))\n",
        "from nltk.stem.porter import PorterStemmer\n",
        "ps = PorterStemmer()"
      ],
      "execution_count": null,
      "outputs": []
    },
    {
      "cell_type": "code",
      "metadata": {
        "id": "4sMwcRtOppwW"
      },
      "source": [
        "def get_text_from_file(fname):\n",
        "    \"\"\"\n",
        "    Get file from text doc\n",
        "    \"\"\"\n",
        "    f=open(fname,'r')\n",
        "    text=f.readlines()\n",
        "    text=''.join(text) \n",
        "    # converting the list to type str\n",
        "    return text"
      ],
      "execution_count": null,
      "outputs": []
    },
    {
      "cell_type": "markdown",
      "source": [
        "### Regular Expression Syntax\n",
        "A regular expression (or RE) specifies a set of strings that matches it; the functions in this module let you check if a particular string matches a given regular expression (or if a given regular expression matches a particular string, which comes down to the same thing).\n",
        "https://docs.python.org/3/library/re.html\n",
        "\n",
        "```\n",
        "The \\s metacharacter matches whitespace character.\n",
        "\n",
        "Whitespace characters can be:\n",
        "\n",
        "A space character\n",
        "A tab character\n",
        "A carriage return character\n",
        "A new line character\n",
        "A vertical tab character\n",
        "A form feed character\n",
        "\n",
        "```"
      ],
      "metadata": {
        "id": "PRm-91_fD4wF"
      }
    },
    {
      "cell_type": "code",
      "source": [
        "pip install pysnooper"
      ],
      "metadata": {
        "colab": {
          "base_uri": "https://localhost:8080/"
        },
        "id": "-vpA3ULDELQQ",
        "outputId": "bdba3eed-b748-4f78-930f-40a7424ef726"
      },
      "execution_count": null,
      "outputs": [
        {
          "output_type": "stream",
          "name": "stdout",
          "text": [
            "Looking in indexes: https://pypi.org/simple, https://us-python.pkg.dev/colab-wheels/public/simple/\n",
            "Collecting pysnooper\n",
            "  Downloading PySnooper-1.1.1-py2.py3-none-any.whl (14 kB)\n",
            "Installing collected packages: pysnooper\n",
            "Successfully installed pysnooper-1.1.1\n"
          ]
        }
      ]
    },
    {
      "cell_type": "code",
      "metadata": {
        "id": "dOi9RNo7ppwX"
      },
      "source": [
        "import pysnooper\n",
        "# @pysnooper.snoop()\n",
        "def remove_string_special_characters(s):\n",
        "    \"\"\"\n",
        "    This function removes special characters from within a string.\n",
        "    parameters: \n",
        "        s(str): single input string.\n",
        "    return: \n",
        "        stripped(str): A string with special characters removed.\n",
        "    \"\"\"\n",
        "    # Replace special character with ' '\n",
        "    # Translation for the regex\n",
        "    # Match all characters that DO NOT (^) match (\\w alphanumeric characters) \n",
        "    # and \\s (white space and tab) and - (hyphen) \n",
        "    stripped = re.sub('[^\\w\\s]', '', s) \n",
        "    stripped = re.sub('_', '', stripped)\n",
        "    # Change any whitespace to one space\n",
        "    stripped = re.sub('\\s+', ' ', stripped)\n",
        "    # Remove start and end white spaces\n",
        "    stripped = stripped.strip()\n",
        "    return stripped"
      ],
      "execution_count": null,
      "outputs": []
    },
    {
      "cell_type": "code",
      "metadata": {
        "id": "GV1CZBeippwY"
      },
      "source": [
        "def count_words(text):\n",
        "    \"\"\"This function returns the \n",
        "    total number of words in the input text.\n",
        "    \"\"\"\n",
        "    count = 0\n",
        "    words = word_tokenize(text)\n",
        "    count = len(words)\n",
        "    return count"
      ],
      "execution_count": null,
      "outputs": []
    },
    {
      "cell_type": "code",
      "metadata": {
        "id": "RPzN0bqAppwZ"
      },
      "source": [
        "def get_doc(text_sents_clean):\n",
        "    \"\"\"\n",
        "    this function splits the text into sentences and\n",
        "    considering each sentence as a document, calculate the \n",
        "    total word count of each.\n",
        "    \"\"\"\n",
        "    doc_info = []\n",
        "    i = 0\n",
        "    for sent in text_sents_clean:\n",
        "        count = count_words(sent)\n",
        "        temp = {'doc_id' : i, 'doc_length' : count}\n",
        "        doc_info.append(temp)\n",
        "        i += 1 \n",
        "    return doc_info"
      ],
      "execution_count": null,
      "outputs": []
    },
    {
      "cell_type": "code",
      "metadata": {
        "id": "w3PA2_R-ppwZ"
      },
      "source": [
        "def create_freq_dict(sents):\n",
        "    \"\"\"\n",
        "    This function creates a frequency dictionary\n",
        "    of each document that contains words other than\n",
        "    stop words.\n",
        "    \"\"\"\n",
        "    i = 0\n",
        "    freqDict_list = []\n",
        "    # each sentence is considered as a document. \n",
        "    for sent in sents: \n",
        "        freq_dict = {}\n",
        "        words = word_tokenize(sent)\n",
        "        if len(words) == 0:\n",
        "            temp = {'doc_id' : i, 'freq_dict': freq_dict}\n",
        "        else:\n",
        "            for word in words:\n",
        "                word = word.lower()\n",
        "                # Stemming programs are commonly referred to as stemming algorithms or stemmers.\n",
        "                # A stemming algorithm reduces the words “chocolates”, “chocolatey”, “choco” to the root word, “chocolate” \n",
        "                # and “retrieval”, “retrieved”, “retrieves” reduce to the stem “retrieve”.\n",
        "                word = ps.stem(word)\n",
        "                if word not in stop_words:\n",
        "                    if word in freq_dict:\n",
        "                        freq_dict[word] += 1\n",
        "                    else:\n",
        "                        freq_dict[word] = 1\n",
        "                    temp = {'doc_id' : i, 'freq_dict': freq_dict}\n",
        "        i += 1\n",
        "        freqDict_list.append(temp)\n",
        "    return freqDict_list\n"
      ],
      "execution_count": null,
      "outputs": []
    },
    {
      "cell_type": "code",
      "metadata": {
        "id": "BspSMj4Hppwa"
      },
      "source": [
        "def global_frequency(text_sents_clean):\n",
        "    \"\"\"\n",
        "    This function returns a dictionary with the frequency \n",
        "    count of every word in the text\n",
        "    \"\"\"\n",
        "    freq_table = {}\n",
        "    text = ' '.join(text_sents_clean) #join the cleaned sentences to get the text \n",
        "    words = word_tokenize(text)\n",
        "    for word in words:\n",
        "        word = word.lower()\n",
        "        word = ps.stem(word)\n",
        "        if word not in stop_words:\n",
        "            if word in freq_table:\n",
        "                freq_table[word] += 1\n",
        "            else:\n",
        "                freq_table[word] = 1\n",
        "    return freq_table"
      ],
      "execution_count": null,
      "outputs": []
    },
    {
      "cell_type": "code",
      "metadata": {
        "id": "gctSTi3oppwb"
      },
      "source": [
        "def get_keywords(text_sents_clean):\n",
        "    \"\"\"\n",
        "    This function gets the top 5 most\n",
        "    frequently occuring words in the whole text\n",
        "    and stores them as keywords\n",
        "    \"\"\"\n",
        "    freq_table = global_frequency(text_sents_clean)\n",
        "    #sort in descending order\n",
        "    freq_table_sorted = sorted(freq_table.items(), key = operator.itemgetter(1), reverse = True) \n",
        "    keywords = []\n",
        "    for i in range(0, 5):  #taking first 5 most frequent words\n",
        "        keywords.append(freq_table_sorted[i][0])\n",
        "    return keywords"
      ],
      "execution_count": null,
      "outputs": []
    },
    {
      "cell_type": "code",
      "metadata": {
        "id": "Xjk-kV6dppwb"
      },
      "source": [
        "def computeTF(doc_info, freqDict_list):\n",
        "    \"\"\"\n",
        "    tf = log(frequency of the term in the doc/total number of terms in the doc)\n",
        "    \"\"\"\n",
        "    TF_scores = []\n",
        "    \n",
        "    for tempDict in freqDict_list:\n",
        "        id = tempDict['doc_id']\n",
        "        for k in tempDict['freq_dict']:\n",
        "            temp = {'doc_id' : id,\n",
        "                    'TF_score' : math.log(tempDict['freq_dict'][k] + 1, 10), \n",
        "                   'key' : k}\n",
        "            # if we use frequency, 'TF_score' : tempDict['freq_dict'][k]/doc_info[id]['doc_length'],\n",
        "\n",
        "            TF_scores.append(temp)\n",
        "    return TF_scores"
      ],
      "execution_count": null,
      "outputs": []
    },
    {
      "cell_type": "code",
      "metadata": {
        "id": "bKABmsSuppwc"
      },
      "source": [
        "def computeIDF(doc_info, freqDict_list):\n",
        "    \"\"\"\n",
        "    idf = log(total number of docs/(1 + number of docs with term in it))\n",
        "    \"\"\"\n",
        "    IDF_scores = []\n",
        "    counter = 0\n",
        "    for dict in freqDict_list:\n",
        "        for k in dict['freq_dict'].keys():\n",
        "            count = sum([k in tempDict['freq_dict'] for tempDict in freqDict_list])\n",
        "            temp = {'doc_id' : counter, 'IDF_score' : math.log(len(doc_info)/(count+1), 10), 'key' : k}\n",
        "    \n",
        "            IDF_scores.append(temp)\n",
        "        counter += 1\n",
        "       \n",
        "    return IDF_scores"
      ],
      "execution_count": null,
      "outputs": []
    },
    {
      "cell_type": "markdown",
      "metadata": {
        "id": "P-8055Ctppwc"
      },
      "source": [
        "Before computing the word frequency, we shall clean the data by removing punctuation \n",
        "and special characters.\n"
      ]
    },
    {
      "cell_type": "code",
      "source": [
        "from google.colab import drive\n",
        "\n",
        "drive.mount('/content/gdrive')"
      ],
      "metadata": {
        "colab": {
          "base_uri": "https://localhost:8080/"
        },
        "id": "ZIkHGZDw_x37",
        "outputId": "de8d8d62-c856-41fc-c777-5e8cdfc65b32"
      },
      "execution_count": null,
      "outputs": [
        {
          "output_type": "stream",
          "name": "stdout",
          "text": [
            "Drive already mounted at /content/gdrive; to attempt to forcibly remount, call drive.mount(\"/content/gdrive\", force_remount=True).\n"
          ]
        }
      ]
    },
    {
      "cell_type": "code",
      "source": [
        "cd gdrive/MyDrive/STAT4609_2021/'week8_NLP Basic NLP'"
      ],
      "metadata": {
        "colab": {
          "base_uri": "https://localhost:8080/"
        },
        "id": "hwMOg7MJAOU9",
        "outputId": "5f2e8924-5e8e-485a-96d4-355bc04f7d70"
      },
      "execution_count": null,
      "outputs": [
        {
          "output_type": "stream",
          "name": "stdout",
          "text": [
            "[Errno 2] No such file or directory: 'gdrive/MyDrive/STAT4609_2021/week8_NLP Basic NLP'\n",
            "/content\n"
          ]
        }
      ]
    },
    {
      "cell_type": "code",
      "metadata": {
        "colab": {
          "base_uri": "https://localhost:8080/",
          "height": 157
        },
        "id": "k2BRrIBEppwd",
        "outputId": "1ab4cb7d-50c5-454f-b501-64efed99f9a0"
      },
      "source": [
        "nltk.download('punkt')\n",
        "text = get_text_from_file('3lpigs.txt')\n",
        "text"
      ],
      "execution_count": null,
      "outputs": [
        {
          "output_type": "stream",
          "name": "stderr",
          "text": [
            "[nltk_data] Downloading package punkt to /root/nltk_data...\n",
            "[nltk_data]   Package punkt is already up-to-date!\n"
          ]
        },
        {
          "output_type": "execute_result",
          "data": {
            "text/plain": [
              "'                  THE THREE LITTLE PIGS\\n\\n   Once upon a time . . . there were three little pigs, who left their mummy\\nand daddy to see the world.\\n   All summer long, they roamed through the woods and over the plains,playing\\ngames and having fun. None were happier than the three little pigs, and they\\neasily made friends with everyone. Wherever they went, they were given a warm \\nwelcome, but as summer drew to a close, they realized that folk were drifting\\nback to their usual jobs, and preparing for winter. Autumn came and it began\\nto rain. The three little pigs started to feel they needed a real home. Sadly\\nthey knew that the fun was over now and they must set to work like the others,\\nor they\\'d be left in the cold and rain, with no roof over their heads. They\\ntalked about what to do, but each decided for himself. The laziest little pig\\nsaid he\\'d build a straw hut.\\n   \"It wlll only take a day,\\' he said. The others disagreed.\\n   \"It\\'s too fragile,\" they said disapprovingly, but he refused to listen. Not\\nquite so lazy, the second little pig went in search of planks of seasoned\\nwood.\\n   \"Clunk! Clunk! Clunk!\" It took him two days to nail them together. But the\\nthird little pig did not like the wooden house.\\n   \"That\\'s not the way to build a house!\" he said. \"It takes time, patience \\nand hard work to buiid a house that is strong enough to stand up to wind, \\nrain, and snow, and most of all, protect us from the wolf!\"\\n   The days went by, and the wisest little pig\\'s house took shape, brick by\\nbrick. From time to time, his brothers visited him, saying with a chuckle:\\n   \"Why are you working so hard? Why don\\'t you come and play?\" But the\\nstubborn bricklayer pig just said \"no\".\\n   \"I shall finish my house first. It must be solid and sturdy. And then I\\'ll\\ncome and play!\" he said. \"I shall not be foolish like you! For he who laughs\\nlast, laughs longest!\"\\n   It was the wisest little pig that found the tracks of a big wolf in the\\nneighbourhood.\\n   The little pigs rushed home in alarm. Along came the wolf, scowling \\nfiercely at the laziest pig\\'s straw hut.\\n   \"Come out!\" ordered the wolf, his mouth watering. I want to speak to you!\"\\n   \"I\\'d rather stay where I am!\" replied the little pig in a tiny voice.\\n   \"I\\'ll make you come out!\" growled the wolf angrily, and puffing out his\\nchest, he took a very deep breath. Then he blew wlth all his might, right onto\\nthe house. And all the straw the silly pig had heaped against some thin poles,\\nfell down in the great blast. Excited by his own cleverness, the wolf did not\\nnotice that the little pig had slithered out from underneath the heap of\\nstraw, and was dashing towards his brother\\'s wooden house. When he realized \\nthat the little pig was escaping, the wolf grew wild with rage.\\n   \"Come back!\" he roared, trying to catch the pig as he ran into the wooden \\nhouse. The other little pig greeted his brother, shaking like a leaf.\\n   \"I hope this house won\\'t fall down! Let\\'s lean against the door so he can\\'t\\nbreak in!\"\\n   Outside, the wolf could hear the little pigs\\' words. Starving as he was, at\\nthe idea of a two-course meal, he rained blows on the door.\\n   \"Open up! Open up! I only want to speak to you!\"\\n   Inside, the two brothers wept in fear and did their best to hold the door\\nfast against the blows. Then the furious wolf braced himself a new effort: he\\ndrew in a really enormous breath, and went ... WHOOOOO! The wooden house\\ncollapsed like a pack of cards.\\n   Luckily, the wisest little pig had been watching the scene from the window\\nof his own brick house, and he rapidly opened the door to his fleeing \\nbrothers. And not a moment too soon, for the wolf was already hammering \\nfuriously on the door. This time, the wolf had grave doubts. This house had a\\nmuch more solid air than the others. He blew once, he blew again and then for\\na third time. But all was in vain. For the house did not budge an lnch. The\\nthree little pigs watched him and their fear began to fade. Quite exhausted by\\nhis efforts, the wolf decided to try one of his tricks. He scrambled up a\\nnearby ladder, on to the roof to have a look at the chimney. However, the\\nwisest little pig had seen thls ploy, and he quickly said:\\n   \"Quick! Light the fire!\" With his long legs thrust down the chimney, the\\nwolf was not sure if he should slide down the black hole. It wouldn\\'tbe easy\\nto get in, but the sound of the little pigs\\' voices below only made him feel\\nhungrier.\\n   \"I\\'m dying of hunger! I\\'m goin to try and get down.\" And he let himself \\ndrop. But landing was rather hot, too hot! The wolf landed in the fire, stunned\\nby his fall.\\n   The flames licked his hairy coat and his tail became a flaring torch.\\n   \"Never again! Never again will I go down a chimneyl\" he squealed, as he\\ntried to put out the flames in his tail. Then he ran away as fast as he could.\\n   The three happy little pigs, dancing round and round the yard, began to \\nsing:\\n   \"Tra-la-la! Tra-la-la! The wicked black wolf will never come back...!\"\\n   From that terrible day on, the wisest little pig\\'s brothers set to work\\nwith a will. In less than no time, up went the two new brick houses. The wolf\\ndid return once to roam in the neighbourhood, but when he caught sight of\\nthree chimneys, he remembered the terrible pain of a burnt tail, and he left\\nfor good.\\n   Now safe and happy, the wisest little pig called to his brothers:\\n   \"No more work! Come on, let\\'s go and play!\"\\n'"
            ],
            "application/vnd.google.colaboratory.intrinsic+json": {
              "type": "string"
            }
          },
          "metadata": {},
          "execution_count": 33
        }
      ]
    },
    {
      "cell_type": "code",
      "source": [
        "#Return a sentence-tokenized copy of *text*, \n",
        "# using NLTK's recommended sentence tokenizer\n",
        "text_sents = sent_tokenize(text)\n",
        "text_sents_clean = [remove_string_special_characters(s) for s in text_sents] "
      ],
      "metadata": {
        "id": "JLClylsTDRkk"
      },
      "execution_count": null,
      "outputs": []
    },
    {
      "cell_type": "code",
      "source": [
        "text_sents[0:3]"
      ],
      "metadata": {
        "colab": {
          "base_uri": "https://localhost:8080/"
        },
        "id": "9gpWe142Crzr",
        "outputId": "25ebcafd-a0e0-4865-ced9-84675d1e4a3f"
      },
      "execution_count": null,
      "outputs": [
        {
          "output_type": "execute_result",
          "data": {
            "text/plain": [
              "['                  THE THREE LITTLE PIGS\\n\\n   Once upon a time .', '.', '.']"
            ]
          },
          "metadata": {},
          "execution_count": 35
        }
      ]
    },
    {
      "cell_type": "code",
      "source": [
        "text_sents_clean[0:3]"
      ],
      "metadata": {
        "colab": {
          "base_uri": "https://localhost:8080/"
        },
        "id": "iDDK4LtSCqS0",
        "outputId": "8940f872-4183-4260-e7bb-c88661dc5b86"
      },
      "execution_count": null,
      "outputs": [
        {
          "output_type": "execute_result",
          "data": {
            "text/plain": [
              "['THE THREE LITTLE PIGS Once upon a time', '', '']"
            ]
          },
          "metadata": {},
          "execution_count": 36
        }
      ]
    },
    {
      "cell_type": "code",
      "source": [
        "doc_info = get_doc(text_sents_clean)\n",
        "doc_info[0:6]"
      ],
      "metadata": {
        "colab": {
          "base_uri": "https://localhost:8080/"
        },
        "id": "i97ya44MC1nx",
        "outputId": "3a5ecd02-b0ac-490e-88b2-3896199b5c56"
      },
      "execution_count": null,
      "outputs": [
        {
          "output_type": "execute_result",
          "data": {
            "text/plain": [
              "[{'doc_id': 0, 'doc_length': 8},\n",
              " {'doc_id': 1, 'doc_length': 0},\n",
              " {'doc_id': 2, 'doc_length': 0},\n",
              " {'doc_id': 3, 'doc_length': 15},\n",
              " {'doc_id': 4, 'doc_length': 16},\n",
              " {'doc_id': 5, 'doc_length': 15}]"
            ]
          },
          "metadata": {},
          "execution_count": 37
        }
      ]
    },
    {
      "cell_type": "code",
      "metadata": {
        "scrolled": false,
        "id": "l-qaVD_Sppwe",
        "colab": {
          "base_uri": "https://localhost:8080/"
        },
        "outputId": "ece7ad03-2046-4189-ef51-b6dbf7ea063b"
      },
      "source": [
        "# Term Counts in Each Documents\n",
        "freqDict_list = create_freq_dict(text_sents_clean)\n",
        "freqDict_list[0]"
      ],
      "execution_count": null,
      "outputs": [
        {
          "output_type": "execute_result",
          "data": {
            "text/plain": [
              "{'doc_id': 0,\n",
              " 'freq_dict': {'three': 1,\n",
              "  'littl': 1,\n",
              "  'pig': 1,\n",
              "  'onc': 1,\n",
              "  'upon': 1,\n",
              "  'time': 1}}"
            ]
          },
          "metadata": {},
          "execution_count": 38
        }
      ]
    },
    {
      "cell_type": "code",
      "source": [
        "TF_scores = computeTF(doc_info, freqDict_list)\n",
        "IDF_scores = computeIDF(doc_info, freqDict_list)\n"
      ],
      "metadata": {
        "id": "iS1z_04DHi88"
      },
      "execution_count": null,
      "outputs": []
    },
    {
      "cell_type": "code",
      "metadata": {
        "colab": {
          "base_uri": "https://localhost:8080/"
        },
        "id": "0zICKCI9GqM2",
        "outputId": "b42ea134-4019-43e4-a4fa-1a55fdd7b238"
      },
      "source": [
        "TF_scores[54:56]"
      ],
      "execution_count": null,
      "outputs": [
        {
          "output_type": "execute_result",
          "data": {
            "text/plain": [
              "[{'doc_id': 8, 'TF_score': 0.30102999566398114, 'key': 'feel'},\n",
              " {'doc_id': 8, 'TF_score': 0.30102999566398114, 'key': 'need'}]"
            ]
          },
          "metadata": {},
          "execution_count": 41
        }
      ]
    },
    {
      "cell_type": "code",
      "metadata": {
        "colab": {
          "base_uri": "https://localhost:8080/"
        },
        "id": "o8LQUzOgHEmZ",
        "outputId": "8692f05e-a98f-450d-b22c-23883c2b12d7"
      },
      "source": [
        "IDF_scores[54:56]"
      ],
      "execution_count": null,
      "outputs": [
        {
          "output_type": "execute_result",
          "data": {
            "text/plain": [
              "[{'doc_id': 8, 'IDF_score': 1.4866665726258925, 'key': 'feel'},\n",
              " {'doc_id': 8, 'IDF_score': 1.6627578316815739, 'key': 'need'}]"
            ]
          },
          "metadata": {},
          "execution_count": 42
        }
      ]
    },
    {
      "cell_type": "code",
      "metadata": {
        "scrolled": true,
        "id": "dCuVkAP-ppwf"
      },
      "source": [
        "def computeTFIDF(TF_scores, IDF_scores):\n",
        "    \"\"\"\n",
        "    TFIDF is computed by multiplying the coressponding\n",
        "    TF and IDF values of each term. \n",
        "    \"\"\"\n",
        "    TFIDF_scores = [] \n",
        "    for i in range(len(TF_scores)):\n",
        "        temp = {'doc_id' : TF_scores[i]['doc_id'],\n",
        "                        'TFIDF_score' : IDF_scores[i]['IDF_score']*TF_scores[i]['TF_score'],\n",
        "                       'key' : IDF_scores[i]['key']}\n",
        "        TFIDF_scores.append(temp)\n",
        "    return TFIDF_scores\n",
        "TFIDF_scores = computeTFIDF(TF_scores, IDF_scores)"
      ],
      "execution_count": null,
      "outputs": []
    },
    {
      "cell_type": "markdown",
      "metadata": {
        "id": "GzwwCcqHppwi"
      },
      "source": [
        "## sklearn package can avoid these computing\n",
        "\n",
        "Using the ```tfidf = TfidfVectorizer()\n",
        " default settings, TfidfTransformer(norm='l2', use_idf=True, smooth_idf=True, sublinear_tf=False)```\n",
        " the term frequency, the number of times a term occurs in a given document, is multiplied with idf component, which is computed as\n",
        "$$ \\text{idf}(t) = \\log{\\frac{1 + D}{1+\\text{df}(t)}} + 1. $$\n",
        "\n",
        "With ```smooth_idf=False```, the “1” count is added to the idf instead of the idf’s denominator:\n",
        "\n",
        "$$\\text{idf}(t) = \\log{\\frac{D}{\\text{df}(t)}} + 1. $$\n",
        "\n",
        "\n",
        "If set ```sublinear_tf = True```, ```tf``` would be replaced with ```1 + log(tf)```.\n",
        "\n"
      ]
    },
    {
      "cell_type": "markdown",
      "metadata": {
        "id": "MPZecErzppwj"
      },
      "source": [
        "https://scikit-learn.org/stable/modules/generated/sklearn.feature_extraction.text.TfidfVectorizer.html"
      ]
    },
    {
      "cell_type": "code",
      "metadata": {
        "id": "gW45fNqwppwk"
      },
      "source": [
        "# Load libraries\n",
        "import numpy as np\n",
        "from sklearn.feature_extraction.text import TfidfVectorizer\n",
        "import pandas as pd"
      ],
      "execution_count": null,
      "outputs": []
    },
    {
      "cell_type": "code",
      "metadata": {
        "id": "Q-L0Lz3Dppwk"
      },
      "source": [
        "docA = \"The car is driven on the road\"\n",
        "docB = \"The truck is driven on the highway\"\n",
        "\n"
      ],
      "execution_count": null,
      "outputs": []
    },
    {
      "cell_type": "code",
      "metadata": {
        "id": "n5O0n5nmppwk"
      },
      "source": [
        "tfidf = TfidfVectorizer()"
      ],
      "execution_count": null,
      "outputs": []
    },
    {
      "cell_type": "code",
      "metadata": {
        "id": "T0M1KhTlppwl"
      },
      "source": [
        "feature_matrix = tfidf.fit_transform([docA, docB])\n"
      ],
      "execution_count": null,
      "outputs": []
    },
    {
      "cell_type": "code",
      "metadata": {
        "colab": {
          "base_uri": "https://localhost:8080/"
        },
        "id": "xn1mRfEmppwl",
        "outputId": "e300f5af-fb82-4131-fecd-5901cf65b02e"
      },
      "source": [
        "feature_matrix.toarray().shape"
      ],
      "execution_count": null,
      "outputs": [
        {
          "output_type": "execute_result",
          "data": {
            "text/plain": [
              "(2, 8)"
            ]
          },
          "metadata": {},
          "execution_count": 48
        }
      ]
    },
    {
      "cell_type": "code",
      "metadata": {
        "colab": {
          "base_uri": "https://localhost:8080/"
        },
        "id": "VHTa7Pkcppwl",
        "outputId": "64ee908a-3dae-4f21-cef7-95df60e1acda"
      },
      "source": [
        "tfidf.get_feature_names_out()"
      ],
      "execution_count": null,
      "outputs": [
        {
          "output_type": "execute_result",
          "data": {
            "text/plain": [
              "array(['car', 'driven', 'highway', 'is', 'on', 'road', 'the', 'truck'],\n",
              "      dtype=object)"
            ]
          },
          "metadata": {},
          "execution_count": 51
        }
      ]
    },
    {
      "cell_type": "code",
      "metadata": {
        "colab": {
          "base_uri": "https://localhost:8080/",
          "height": 112
        },
        "id": "WubJWvUJppwm",
        "outputId": "561dec43-bb2e-4fb9-e02e-8d9c087b0985"
      },
      "source": [
        "pd.DataFrame(feature_matrix.toarray(), columns=tfidf.get_feature_names_out())"
      ],
      "execution_count": null,
      "outputs": [
        {
          "output_type": "execute_result",
          "data": {
            "text/plain": [
              "        car   driven   highway       is       on      road      the     truck\n",
              "0  0.424717  0.30219  0.000000  0.30219  0.30219  0.424717  0.60438  0.000000\n",
              "1  0.000000  0.30219  0.424717  0.30219  0.30219  0.000000  0.60438  0.424717"
            ],
            "text/html": [
              "\n",
              "  <div id=\"df-5605be1c-b775-4c07-9dfc-f104b30cc22b\">\n",
              "    <div class=\"colab-df-container\">\n",
              "      <div>\n",
              "<style scoped>\n",
              "    .dataframe tbody tr th:only-of-type {\n",
              "        vertical-align: middle;\n",
              "    }\n",
              "\n",
              "    .dataframe tbody tr th {\n",
              "        vertical-align: top;\n",
              "    }\n",
              "\n",
              "    .dataframe thead th {\n",
              "        text-align: right;\n",
              "    }\n",
              "</style>\n",
              "<table border=\"1\" class=\"dataframe\">\n",
              "  <thead>\n",
              "    <tr style=\"text-align: right;\">\n",
              "      <th></th>\n",
              "      <th>car</th>\n",
              "      <th>driven</th>\n",
              "      <th>highway</th>\n",
              "      <th>is</th>\n",
              "      <th>on</th>\n",
              "      <th>road</th>\n",
              "      <th>the</th>\n",
              "      <th>truck</th>\n",
              "    </tr>\n",
              "  </thead>\n",
              "  <tbody>\n",
              "    <tr>\n",
              "      <th>0</th>\n",
              "      <td>0.424717</td>\n",
              "      <td>0.30219</td>\n",
              "      <td>0.000000</td>\n",
              "      <td>0.30219</td>\n",
              "      <td>0.30219</td>\n",
              "      <td>0.424717</td>\n",
              "      <td>0.60438</td>\n",
              "      <td>0.000000</td>\n",
              "    </tr>\n",
              "    <tr>\n",
              "      <th>1</th>\n",
              "      <td>0.000000</td>\n",
              "      <td>0.30219</td>\n",
              "      <td>0.424717</td>\n",
              "      <td>0.30219</td>\n",
              "      <td>0.30219</td>\n",
              "      <td>0.000000</td>\n",
              "      <td>0.60438</td>\n",
              "      <td>0.424717</td>\n",
              "    </tr>\n",
              "  </tbody>\n",
              "</table>\n",
              "</div>\n",
              "      <button class=\"colab-df-convert\" onclick=\"convertToInteractive('df-5605be1c-b775-4c07-9dfc-f104b30cc22b')\"\n",
              "              title=\"Convert this dataframe to an interactive table.\"\n",
              "              style=\"display:none;\">\n",
              "        \n",
              "  <svg xmlns=\"http://www.w3.org/2000/svg\" height=\"24px\"viewBox=\"0 0 24 24\"\n",
              "       width=\"24px\">\n",
              "    <path d=\"M0 0h24v24H0V0z\" fill=\"none\"/>\n",
              "    <path d=\"M18.56 5.44l.94 2.06.94-2.06 2.06-.94-2.06-.94-.94-2.06-.94 2.06-2.06.94zm-11 1L8.5 8.5l.94-2.06 2.06-.94-2.06-.94L8.5 2.5l-.94 2.06-2.06.94zm10 10l.94 2.06.94-2.06 2.06-.94-2.06-.94-.94-2.06-.94 2.06-2.06.94z\"/><path d=\"M17.41 7.96l-1.37-1.37c-.4-.4-.92-.59-1.43-.59-.52 0-1.04.2-1.43.59L10.3 9.45l-7.72 7.72c-.78.78-.78 2.05 0 2.83L4 21.41c.39.39.9.59 1.41.59.51 0 1.02-.2 1.41-.59l7.78-7.78 2.81-2.81c.8-.78.8-2.07 0-2.86zM5.41 20L4 18.59l7.72-7.72 1.47 1.35L5.41 20z\"/>\n",
              "  </svg>\n",
              "      </button>\n",
              "      \n",
              "  <style>\n",
              "    .colab-df-container {\n",
              "      display:flex;\n",
              "      flex-wrap:wrap;\n",
              "      gap: 12px;\n",
              "    }\n",
              "\n",
              "    .colab-df-convert {\n",
              "      background-color: #E8F0FE;\n",
              "      border: none;\n",
              "      border-radius: 50%;\n",
              "      cursor: pointer;\n",
              "      display: none;\n",
              "      fill: #1967D2;\n",
              "      height: 32px;\n",
              "      padding: 0 0 0 0;\n",
              "      width: 32px;\n",
              "    }\n",
              "\n",
              "    .colab-df-convert:hover {\n",
              "      background-color: #E2EBFA;\n",
              "      box-shadow: 0px 1px 2px rgba(60, 64, 67, 0.3), 0px 1px 3px 1px rgba(60, 64, 67, 0.15);\n",
              "      fill: #174EA6;\n",
              "    }\n",
              "\n",
              "    [theme=dark] .colab-df-convert {\n",
              "      background-color: #3B4455;\n",
              "      fill: #D2E3FC;\n",
              "    }\n",
              "\n",
              "    [theme=dark] .colab-df-convert:hover {\n",
              "      background-color: #434B5C;\n",
              "      box-shadow: 0px 1px 3px 1px rgba(0, 0, 0, 0.15);\n",
              "      filter: drop-shadow(0px 1px 2px rgba(0, 0, 0, 0.3));\n",
              "      fill: #FFFFFF;\n",
              "    }\n",
              "  </style>\n",
              "\n",
              "      <script>\n",
              "        const buttonEl =\n",
              "          document.querySelector('#df-5605be1c-b775-4c07-9dfc-f104b30cc22b button.colab-df-convert');\n",
              "        buttonEl.style.display =\n",
              "          google.colab.kernel.accessAllowed ? 'block' : 'none';\n",
              "\n",
              "        async function convertToInteractive(key) {\n",
              "          const element = document.querySelector('#df-5605be1c-b775-4c07-9dfc-f104b30cc22b');\n",
              "          const dataTable =\n",
              "            await google.colab.kernel.invokeFunction('convertToInteractive',\n",
              "                                                     [key], {});\n",
              "          if (!dataTable) return;\n",
              "\n",
              "          const docLinkHtml = 'Like what you see? Visit the ' +\n",
              "            '<a target=\"_blank\" href=https://colab.research.google.com/notebooks/data_table.ipynb>data table notebook</a>'\n",
              "            + ' to learn more about interactive tables.';\n",
              "          element.innerHTML = '';\n",
              "          dataTable['output_type'] = 'display_data';\n",
              "          await google.colab.output.renderOutput(dataTable, element);\n",
              "          const docLink = document.createElement('div');\n",
              "          docLink.innerHTML = docLinkHtml;\n",
              "          element.appendChild(docLink);\n",
              "        }\n",
              "      </script>\n",
              "    </div>\n",
              "  </div>\n",
              "  "
            ]
          },
          "metadata": {},
          "execution_count": 52
        }
      ]
    },
    {
      "cell_type": "markdown",
      "metadata": {
        "id": "b9FH4fK2r7tc"
      },
      "source": [
        "## A another example"
      ]
    },
    {
      "cell_type": "code",
      "metadata": {
        "id": "b2QpOVibr99Y"
      },
      "source": [
        "document1 = \"\"\"Python is a 2000 made-for-TV horror movie directed by Richard Clabaugh. The film features several \n",
        "cult favorite actors, including William Zabka of The Karate Kid fame, Wil Wheaton, Casper Van Dien, Jenny McCarthy, Keith Coogan, Robert Englund (best known for his role as Freddy Krueger in the\n",
        "A Nightmare on Elm Street series of films), Dana Barron, David Bowe, and Sean\n",
        "Whalen. The film concerns a genetically engineered snake, a python, that\n",
        "escapes and unleashes itself on a small town. It includes the classic final\n",
        "girl scenario evident in films like Friday the 13th. It was filmed in Los Angeles,\n",
        " California and Malibu, California. Python was followed by two sequels: Python\n",
        " II (2002) and Boa vs. Python (2004), both also made-for-TV films.\"\"\"\n",
        "\n",
        "\n",
        "document2 = \"\"\"Python, from the Greek word (πύθων/πύθωνας), is a genus of\n",
        "nonvenomous pythons[2] found in Africa and Asia. Currently, 7 species are\n",
        "recognised.[2] A member of this genus, P. reticulatus, is among the longest\n",
        "snakes known.\"\"\"\n",
        "\n",
        "document3 = \"\"\"The Colt Python is a .357 Magnum caliber revolver formerly\n",
        "manufactured by Colt's Manufacturing Company of Hartford, Connecticut.\n",
        "It is sometimes referred to as a \"Combat Magnum\".[1] It was first introduced\n",
        "in 1955, the same year as Smith &amp; Wesson's M29 .44 Magnum. The now discontinued\n",
        "Colt Python targeted the premium revolver market segment. Some firearm\n",
        "collectors and writers such as Jeff Cooper, Ian V. Hogg, Chuck Hawks, Leroy\n",
        "Thompson, Renee Smeets and Martin Dougherty have described the Python as the\n",
        "finest production revolver ever made.\"\"\"\n"
      ],
      "execution_count": null,
      "outputs": []
    },
    {
      "cell_type": "markdown",
      "metadata": {
        "id": "hBbkC-Gi7XCP"
      },
      "source": [
        "Using the ```tfidf = TfidfVectorizer()\n",
        " default settings, TfidfTransformer(norm='l2', use_idf=True, smooth_idf=True, sublinear_tf=False)```\n",
        " the term frequency, the number of times a term occurs in a given document, is multiplied with idf component, which is computed as\n",
        "$$ \\text{idf}(t) = \\log{\\frac{1 + D}{1+\\text{df}(t)}} + 1. $$\n",
        "\n",
        "With ```smooth_idf=False```, the “1” count is added to the idf instead of the idf’s denominator:\n",
        "\n",
        "$$\\text{idf}(t) = \\log{\\frac{D}{\\text{df}(t)}} + 1. $$\n",
        "\n",
        "\n",
        "If set ```sublinear_tf = True```, ```tf``` would be replaced with ```1 + log(tf)```.\n"
      ]
    },
    {
      "cell_type": "code",
      "metadata": {
        "id": "wf8o1J7fr-mk",
        "colab": {
          "base_uri": "https://localhost:8080/"
        },
        "outputId": "1ab4a1f6-d596-47e2-a173-3431c0a4c911"
      },
      "source": [
        "tfidf = TfidfVectorizer(smooth_idf=False)\n",
        "feature_matrix = tfidf.fit_transform([document1, document2, document3])\n",
        "feature_matrix.toarray().shape"
      ],
      "execution_count": null,
      "outputs": [
        {
          "output_type": "execute_result",
          "data": {
            "text/plain": [
              "(3, 168)"
            ]
          },
          "metadata": {},
          "execution_count": 54
        }
      ]
    },
    {
      "cell_type": "code",
      "metadata": {
        "id": "5Mj8mWBYsNSm",
        "colab": {
          "base_uri": "https://localhost:8080/",
          "height": 173
        },
        "outputId": "359121a0-5eae-4397-8a96-be64c1188dbc"
      },
      "source": [
        "df_tf_idf = pd.DataFrame(feature_matrix.toarray(), columns=tfidf.get_feature_names_out())\n",
        "df_tf_idf"
      ],
      "execution_count": null,
      "outputs": [
        {
          "output_type": "execute_result",
          "data": {
            "text/plain": [
              "     13th      1955    2000    2002    2004       357        44  actors  \\\n",
              "0  0.0849  0.000000  0.0849  0.0849  0.0849  0.000000  0.000000  0.0849   \n",
              "1  0.0000  0.000000  0.0000  0.0000  0.0000  0.000000  0.000000  0.0000   \n",
              "2  0.0000  0.100098  0.0000  0.0000  0.0000  0.100098  0.100098  0.0000   \n",
              "\n",
              "     africa    also  ...  whalen  wheaton     wil  william      word  \\\n",
              "0  0.000000  0.0849  ...  0.0849   0.0849  0.0849   0.0849  0.000000   \n",
              "1  0.189476  0.0000  ...  0.0000   0.0000  0.0000   0.0000  0.189476   \n",
              "2  0.000000  0.0000  ...  0.0000   0.0000  0.0000   0.0000  0.000000   \n",
              "\n",
              "    writers      year   zabka     πύθων   πύθωνας  \n",
              "0  0.000000  0.000000  0.0849  0.000000  0.000000  \n",
              "1  0.000000  0.000000  0.0000  0.189476  0.189476  \n",
              "2  0.100098  0.100098  0.0000  0.000000  0.000000  \n",
              "\n",
              "[3 rows x 168 columns]"
            ],
            "text/html": [
              "\n",
              "  <div id=\"df-7fc11548-6b99-4393-a812-16638681825b\">\n",
              "    <div class=\"colab-df-container\">\n",
              "      <div>\n",
              "<style scoped>\n",
              "    .dataframe tbody tr th:only-of-type {\n",
              "        vertical-align: middle;\n",
              "    }\n",
              "\n",
              "    .dataframe tbody tr th {\n",
              "        vertical-align: top;\n",
              "    }\n",
              "\n",
              "    .dataframe thead th {\n",
              "        text-align: right;\n",
              "    }\n",
              "</style>\n",
              "<table border=\"1\" class=\"dataframe\">\n",
              "  <thead>\n",
              "    <tr style=\"text-align: right;\">\n",
              "      <th></th>\n",
              "      <th>13th</th>\n",
              "      <th>1955</th>\n",
              "      <th>2000</th>\n",
              "      <th>2002</th>\n",
              "      <th>2004</th>\n",
              "      <th>357</th>\n",
              "      <th>44</th>\n",
              "      <th>actors</th>\n",
              "      <th>africa</th>\n",
              "      <th>also</th>\n",
              "      <th>...</th>\n",
              "      <th>whalen</th>\n",
              "      <th>wheaton</th>\n",
              "      <th>wil</th>\n",
              "      <th>william</th>\n",
              "      <th>word</th>\n",
              "      <th>writers</th>\n",
              "      <th>year</th>\n",
              "      <th>zabka</th>\n",
              "      <th>πύθων</th>\n",
              "      <th>πύθωνας</th>\n",
              "    </tr>\n",
              "  </thead>\n",
              "  <tbody>\n",
              "    <tr>\n",
              "      <th>0</th>\n",
              "      <td>0.0849</td>\n",
              "      <td>0.000000</td>\n",
              "      <td>0.0849</td>\n",
              "      <td>0.0849</td>\n",
              "      <td>0.0849</td>\n",
              "      <td>0.000000</td>\n",
              "      <td>0.000000</td>\n",
              "      <td>0.0849</td>\n",
              "      <td>0.000000</td>\n",
              "      <td>0.0849</td>\n",
              "      <td>...</td>\n",
              "      <td>0.0849</td>\n",
              "      <td>0.0849</td>\n",
              "      <td>0.0849</td>\n",
              "      <td>0.0849</td>\n",
              "      <td>0.000000</td>\n",
              "      <td>0.000000</td>\n",
              "      <td>0.000000</td>\n",
              "      <td>0.0849</td>\n",
              "      <td>0.000000</td>\n",
              "      <td>0.000000</td>\n",
              "    </tr>\n",
              "    <tr>\n",
              "      <th>1</th>\n",
              "      <td>0.0000</td>\n",
              "      <td>0.000000</td>\n",
              "      <td>0.0000</td>\n",
              "      <td>0.0000</td>\n",
              "      <td>0.0000</td>\n",
              "      <td>0.000000</td>\n",
              "      <td>0.000000</td>\n",
              "      <td>0.0000</td>\n",
              "      <td>0.189476</td>\n",
              "      <td>0.0000</td>\n",
              "      <td>...</td>\n",
              "      <td>0.0000</td>\n",
              "      <td>0.0000</td>\n",
              "      <td>0.0000</td>\n",
              "      <td>0.0000</td>\n",
              "      <td>0.189476</td>\n",
              "      <td>0.000000</td>\n",
              "      <td>0.000000</td>\n",
              "      <td>0.0000</td>\n",
              "      <td>0.189476</td>\n",
              "      <td>0.189476</td>\n",
              "    </tr>\n",
              "    <tr>\n",
              "      <th>2</th>\n",
              "      <td>0.0000</td>\n",
              "      <td>0.100098</td>\n",
              "      <td>0.0000</td>\n",
              "      <td>0.0000</td>\n",
              "      <td>0.0000</td>\n",
              "      <td>0.100098</td>\n",
              "      <td>0.100098</td>\n",
              "      <td>0.0000</td>\n",
              "      <td>0.000000</td>\n",
              "      <td>0.0000</td>\n",
              "      <td>...</td>\n",
              "      <td>0.0000</td>\n",
              "      <td>0.0000</td>\n",
              "      <td>0.0000</td>\n",
              "      <td>0.0000</td>\n",
              "      <td>0.000000</td>\n",
              "      <td>0.100098</td>\n",
              "      <td>0.100098</td>\n",
              "      <td>0.0000</td>\n",
              "      <td>0.000000</td>\n",
              "      <td>0.000000</td>\n",
              "    </tr>\n",
              "  </tbody>\n",
              "</table>\n",
              "<p>3 rows × 168 columns</p>\n",
              "</div>\n",
              "      <button class=\"colab-df-convert\" onclick=\"convertToInteractive('df-7fc11548-6b99-4393-a812-16638681825b')\"\n",
              "              title=\"Convert this dataframe to an interactive table.\"\n",
              "              style=\"display:none;\">\n",
              "        \n",
              "  <svg xmlns=\"http://www.w3.org/2000/svg\" height=\"24px\"viewBox=\"0 0 24 24\"\n",
              "       width=\"24px\">\n",
              "    <path d=\"M0 0h24v24H0V0z\" fill=\"none\"/>\n",
              "    <path d=\"M18.56 5.44l.94 2.06.94-2.06 2.06-.94-2.06-.94-.94-2.06-.94 2.06-2.06.94zm-11 1L8.5 8.5l.94-2.06 2.06-.94-2.06-.94L8.5 2.5l-.94 2.06-2.06.94zm10 10l.94 2.06.94-2.06 2.06-.94-2.06-.94-.94-2.06-.94 2.06-2.06.94z\"/><path d=\"M17.41 7.96l-1.37-1.37c-.4-.4-.92-.59-1.43-.59-.52 0-1.04.2-1.43.59L10.3 9.45l-7.72 7.72c-.78.78-.78 2.05 0 2.83L4 21.41c.39.39.9.59 1.41.59.51 0 1.02-.2 1.41-.59l7.78-7.78 2.81-2.81c.8-.78.8-2.07 0-2.86zM5.41 20L4 18.59l7.72-7.72 1.47 1.35L5.41 20z\"/>\n",
              "  </svg>\n",
              "      </button>\n",
              "      \n",
              "  <style>\n",
              "    .colab-df-container {\n",
              "      display:flex;\n",
              "      flex-wrap:wrap;\n",
              "      gap: 12px;\n",
              "    }\n",
              "\n",
              "    .colab-df-convert {\n",
              "      background-color: #E8F0FE;\n",
              "      border: none;\n",
              "      border-radius: 50%;\n",
              "      cursor: pointer;\n",
              "      display: none;\n",
              "      fill: #1967D2;\n",
              "      height: 32px;\n",
              "      padding: 0 0 0 0;\n",
              "      width: 32px;\n",
              "    }\n",
              "\n",
              "    .colab-df-convert:hover {\n",
              "      background-color: #E2EBFA;\n",
              "      box-shadow: 0px 1px 2px rgba(60, 64, 67, 0.3), 0px 1px 3px 1px rgba(60, 64, 67, 0.15);\n",
              "      fill: #174EA6;\n",
              "    }\n",
              "\n",
              "    [theme=dark] .colab-df-convert {\n",
              "      background-color: #3B4455;\n",
              "      fill: #D2E3FC;\n",
              "    }\n",
              "\n",
              "    [theme=dark] .colab-df-convert:hover {\n",
              "      background-color: #434B5C;\n",
              "      box-shadow: 0px 1px 3px 1px rgba(0, 0, 0, 0.15);\n",
              "      filter: drop-shadow(0px 1px 2px rgba(0, 0, 0, 0.3));\n",
              "      fill: #FFFFFF;\n",
              "    }\n",
              "  </style>\n",
              "\n",
              "      <script>\n",
              "        const buttonEl =\n",
              "          document.querySelector('#df-7fc11548-6b99-4393-a812-16638681825b button.colab-df-convert');\n",
              "        buttonEl.style.display =\n",
              "          google.colab.kernel.accessAllowed ? 'block' : 'none';\n",
              "\n",
              "        async function convertToInteractive(key) {\n",
              "          const element = document.querySelector('#df-7fc11548-6b99-4393-a812-16638681825b');\n",
              "          const dataTable =\n",
              "            await google.colab.kernel.invokeFunction('convertToInteractive',\n",
              "                                                     [key], {});\n",
              "          if (!dataTable) return;\n",
              "\n",
              "          const docLinkHtml = 'Like what you see? Visit the ' +\n",
              "            '<a target=\"_blank\" href=https://colab.research.google.com/notebooks/data_table.ipynb>data table notebook</a>'\n",
              "            + ' to learn more about interactive tables.';\n",
              "          element.innerHTML = '';\n",
              "          dataTable['output_type'] = 'display_data';\n",
              "          await google.colab.output.renderOutput(dataTable, element);\n",
              "          const docLink = document.createElement('div');\n",
              "          docLink.innerHTML = docLinkHtml;\n",
              "          element.appendChild(docLink);\n",
              "        }\n",
              "      </script>\n",
              "    </div>\n",
              "  </div>\n",
              "  "
            ]
          },
          "metadata": {},
          "execution_count": 56
        }
      ]
    },
    {
      "cell_type": "code",
      "source": [],
      "metadata": {
        "id": "9VU7-XTlKaI0"
      },
      "execution_count": null,
      "outputs": []
    }
  ]
}