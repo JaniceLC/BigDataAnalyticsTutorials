{
  "nbformat": 4,
  "nbformat_minor": 0,
  "metadata": {
    "kernelspec": {
      "display_name": "Python 3",
      "language": "python",
      "name": "python3"
    },
    "language_info": {
      "codemirror_mode": {
        "name": "ipython",
        "version": 3
      },
      "file_extension": ".py",
      "mimetype": "text/x-python",
      "name": "python",
      "nbconvert_exporter": "python",
      "pygments_lexer": "ipython3",
      "version": "3.7.2"
    },
    "colab": {
      "provenance": []
    }
  },
  "cells": [
    {
      "cell_type": "markdown",
      "metadata": {
        "id": "KbfGai6NW0jS"
      },
      "source": [
        "\n",
        "\n",
        "# NetworkX\n",
        "NetworkX is a Python language software package for the creation, manipulation, and study of the structure, dynamics, and functions of complex networks.\n",
        "\n",
        "In this tutorial, I will show how to calculate the properties of graphs using NetworkX. Since graph is a new topic for student, we could also go through the source codes of some algorithms, including "
      ]
    },
    {
      "cell_type": "markdown",
      "metadata": {
        "id": "qMDbxVLCW0jT"
      },
      "source": [
        "NetworkX is a Python language software package for the creation, manipulation, and study of the structure, dynamics, and functions of complex networks."
      ]
    },
    {
      "cell_type": "markdown",
      "metadata": {
        "id": "qlBEX9vUW0jU"
      },
      "source": [
        "## Features\n",
        "\n",
        "* Python language data structures for graphs, digraphs, and multigraphs.\n",
        "* Many standard graph algorithms\n",
        "* Network structure and analysis measures\n",
        "* Generators for classic graphs, random graphs, and synthetic networks\n",
        "* Nodes can be \"anything\" (e.g. text, images, XML records)\n",
        "* Edges can hold arbitrary data (e.g. weights, time-series)\n",
        "* Open source BSD license\n",
        "* Well tested: more than 1800 unit tests, >90% code coverage\n",
        "* Additional benefits from Python: fast prototyping, easy to teach, multi-platform"
      ]
    },
    {
      "cell_type": "markdown",
      "metadata": {
        "id": "fmEwvWLwW0jU"
      },
      "source": [
        "## This tutorial\n",
        "* Nodes\n",
        "* Edges\n",
        "* Draw Graphs\n",
        "* Calulations of degree\n",
        "* Betweenness centrality\n",
        "* Closeness centrality\n",
        "* Eigenvector centrality"
      ]
    },
    {
      "cell_type": "markdown",
      "metadata": {
        "id": "zy8TEdKVW0jV"
      },
      "source": [
        "### Creating a Graph\n",
        "Graph is just a collection of nodes(vertices) with edges(links, etc.) <br>\n",
        "In NetworkX, nodes can be any hashable obejct: string, image, XML object, another Graph, customized node object. Flexibility boosts efficiency!<br>\n",
        "You can draw basic graphs using Matplotlib (which is included in Anaconda already) or use Graphviz instead.<br>\n",
        "See https://networkx.github.io/documentation/latest/reference/drawing.html for more details."
      ]
    },
    {
      "cell_type": "code",
      "metadata": {
        "id": "DBmY8wqvW0jV"
      },
      "source": [
        "# Simple example\n",
        "import networkx as nx     # nx can be seemed as an alias of networkx module\n",
        "import numpy as np\n",
        "import matplotlib.pyplot as plt\n",
        "%matplotlib inline"
      ],
      "execution_count": 1,
      "outputs": []
    },
    {
      "cell_type": "code",
      "metadata": {
        "colab": {
          "base_uri": "https://localhost:8080/"
        },
        "id": "jb0oZZR8W0jV",
        "outputId": "6cdebebd-e6c7-4591-88b3-cdd81673bec5"
      },
      "source": [
        "G = nx.Graph()            # create an empty graph with no nodes and no edges\n",
        "print(G.nodes(), G.edges())"
      ],
      "execution_count": 2,
      "outputs": [
        {
          "output_type": "stream",
          "name": "stdout",
          "text": [
            "[] []\n"
          ]
        }
      ]
    },
    {
      "cell_type": "markdown",
      "metadata": {
        "id": "Ell8KBmYW0jW"
      },
      "source": [
        "### Nodes\n",
        "Adding node and nodes using add_node and add_nodes_from."
      ]
    },
    {
      "cell_type": "code",
      "metadata": {
        "colab": {
          "base_uri": "https://localhost:8080/",
          "height": 266
        },
        "id": "BW0qg33TW0jW",
        "outputId": "802fb651-8a05-4b22-e809-d039e7639e31"
      },
      "source": [
        "G.add_node(11)    # add a single node\n",
        "print(G.nodes())\n",
        "nx.draw_networkx(G, with_labels=True)"
      ],
      "execution_count": 3,
      "outputs": [
        {
          "output_type": "stream",
          "name": "stdout",
          "text": [
            "[11]\n"
          ]
        },
        {
          "output_type": "display_data",
          "data": {
            "text/plain": [
              "<Figure size 432x288 with 1 Axes>"
            ],
            "image/png": "[encoded data removed]"
          },
          "metadata": {}
        }
      ]
    },
    {
      "cell_type": "code",
      "metadata": {
        "colab": {
          "base_uri": "https://localhost:8080/",
          "height": 284
        },
        "id": "AQDo3ePDW0jW",
        "outputId": "32554f72-82b6-41b8-f3b5-f98dddc76975"
      },
      "source": [
        "G.add_nodes_from([12,13])    # add a list of nodes\n",
        "nx.draw_networkx(G, with_labels=True)\n",
        "print(G.nodes())\n",
        "print('number of nodes in the graph:', G.number_of_nodes())"
      ],
      "execution_count": 4,
      "outputs": [
        {
          "output_type": "stream",
          "name": "stdout",
          "text": [
            "[11, 12, 13]\n",
            "number of nodes in the graph: 3\n"
          ]
        },
        {
          "output_type": "display_data",
          "data": {
            "text/plain": [
              "<Figure size 432x288 with 1 Axes>"
            ],
            "image/png": "[encoded data removed]"
          },
          "metadata": {}
        }
      ]
    },
    {
      "cell_type": "markdown",
      "metadata": {
        "id": "oKZeRhy4W0jX"
      },
      "source": [
        "### Edges"
      ]
    },
    {
      "cell_type": "code",
      "metadata": {
        "colab": {
          "base_uri": "https://localhost:8080/",
          "height": 266
        },
        "id": "2GDr5YZSW0jX",
        "outputId": "9cfbf5b6-f278-488e-d4e5-a22ead22486c"
      },
      "source": [
        "G.clear()\n",
        "G.add_nodes_from([1,2,3])\n",
        "G.add_edge(1,2)\n",
        "print(G.nodes(), G.edges())\n",
        "nx.draw_networkx(G, with_labels=True)"
      ],
      "execution_count": 5,
      "outputs": [
        {
          "output_type": "stream",
          "name": "stdout",
          "text": [
            "[1, 2, 3] [(1, 2)]\n"
          ]
        },
        {
          "output_type": "display_data",
          "data": {
            "text/plain": [
              "<Figure size 432x288 with 1 Axes>"
            ],
            "image/png": "[encoded data removed]"
          },
          "metadata": {}
        }
      ]
    },
    {
      "cell_type": "code",
      "metadata": {
        "colab": {
          "base_uri": "https://localhost:8080/",
          "height": 284
        },
        "id": "zXj5VXilW0jX",
        "outputId": "808808fb-3b60-4493-c356-6391a46b78ba"
      },
      "source": [
        "G.remove_edge(1,2)\n",
        "print(G.edges())\n",
        "G.add_edges_from([(2,3), (1,3)]) # add edges from a edge list\n",
        "print(G.edges())\n",
        "nx.draw_networkx(G, with_labels=True)"
      ],
      "execution_count": 6,
      "outputs": [
        {
          "output_type": "stream",
          "name": "stdout",
          "text": [
            "[]\n",
            "[(1, 3), (2, 3)]\n"
          ]
        },
        {
          "output_type": "display_data",
          "data": {
            "text/plain": [
              "<Figure size 432x288 with 1 Axes>"
            ],
            "image/png": "[encoded data removed]"
          },
          "metadata": {}
        }
      ]
    },
    {
      "cell_type": "markdown",
      "metadata": {
        "id": "_g-0b-1mW0jY"
      },
      "source": [
        "Same code convention applies for remove_node(), remove_nodes_from().."
      ]
    },
    {
      "cell_type": "code",
      "metadata": {
        "colab": {
          "base_uri": "https://localhost:8080/",
          "height": 266
        },
        "id": "f3SNLkTaW0jY",
        "outputId": "63e34e60-2653-4f15-bfea-51c9685e75ea"
      },
      "source": [
        "G.clear()\n",
        "G=nx.path_graph(5) # 0 -> 1 -> 2 -> 3 -> 4\n",
        "print(G.nodes())\n",
        "G.edges()\n",
        "nx.draw_networkx(G, with_labels=True)"
      ],
      "execution_count": 7,
      "outputs": [
        {
          "output_type": "stream",
          "name": "stdout",
          "text": [
            "[0, 1, 2, 3, 4]\n"
          ]
        },
        {
          "output_type": "display_data",
          "data": {
            "text/plain": [
              "<Figure size 432x288 with 1 Axes>"
            ],
            "image/png": "[encoded data removed]"
          },
          "metadata": {}
        }
      ]
    },
    {
      "cell_type": "code",
      "metadata": {
        "colab": {
          "base_uri": "https://localhost:8080/",
          "height": 248
        },
        "id": "vjeAiT0JW0jY",
        "outputId": "c49d49d7-70ee-4df0-8f10-44d1e92fb60d"
      },
      "source": [
        "G.clear()\n",
        "G = nx.complete_graph ('ABCDE')\n",
        "nx.draw_networkx(G, with_labels=True)"
      ],
      "execution_count": 8,
      "outputs": [
        {
          "output_type": "display_data",
          "data": {
            "text/plain": [
              "<Figure size 432x288 with 1 Axes>"
            ],
            "image/png": "[encoded data removed]"
          },
          "metadata": {}
        }
      ]
    },
    {
      "cell_type": "code",
      "metadata": {
        "colab": {
          "base_uri": "https://localhost:8080/",
          "height": 248
        },
        "id": "4t83MKMxW0jY",
        "outputId": "e52610a9-2d69-4907-c69b-2376d77fa5b2"
      },
      "source": [
        "G.clear()\n",
        "G=nx.path_graph(5) # 0 -> 1 -> 2 -> 3 -> 4\n",
        "G.add_node(\"ABCDE\")  # add one node called \"ABCDE\"\n",
        "G.add_nodes_from(\"ABCDE\") # add 5 nodes: 'A', 'B', 'C', 'D', 'E', since string \"ABCDE\" in python is actually a list ['A', 'B', 'C', 'D', 'E']\n",
        "nx.draw_networkx(G, with_labels=True)"
      ],
      "execution_count": 9,
      "outputs": [
        {
          "output_type": "display_data",
          "data": {
            "text/plain": [
              "<Figure size 432x288 with 1 Axes>"
            ],
            "image/png": "[encoded data removed]"
          },
          "metadata": {}
        }
      ]
    },
    {
      "cell_type": "code",
      "metadata": {
        "colab": {
          "base_uri": "https://localhost:8080/"
        },
        "id": "FfwSecYnW0jY",
        "outputId": "d839c7ec-a53b-41ac-8763-5bbe6d80299c"
      },
      "source": [
        "print('nodes in the graph:', G.nodes())\n",
        "print('number of nodes in the graph:', G.number_of_nodes())"
      ],
      "execution_count": 10,
      "outputs": [
        {
          "output_type": "stream",
          "name": "stdout",
          "text": [
            "nodes in the graph: [0, 1, 2, 3, 4, 'ABCDE', 'A', 'B', 'C', 'D', 'E']\n",
            "number of nodes in the graph: 11\n"
          ]
        }
      ]
    },
    {
      "cell_type": "code",
      "metadata": {
        "colab": {
          "base_uri": "https://localhost:8080/"
        },
        "id": "xi_7oUHPW0jZ",
        "outputId": "ebc31b4a-bb57-4f81-c727-5c7ec5f26e1a"
      },
      "source": [
        "print('edges in the graph:', G.edges())\n",
        "print('number of edges in the graph:', G.number_of_edges())"
      ],
      "execution_count": 11,
      "outputs": [
        {
          "output_type": "stream",
          "name": "stdout",
          "text": [
            "edges in the graph: [(0, 1), (1, 2), (2, 3), (3, 4)]\n",
            "number of edges in the graph: 4\n"
          ]
        }
      ]
    },
    {
      "cell_type": "markdown",
      "metadata": {
        "id": "uLl8liVlW0jZ"
      },
      "source": [
        "### Graph From Adjacency Matrix\n",
        "Given an adjacency matrix generate a networkx graph [[0, 1, 1], [1, 0, 0], [0, 1, 0]]"
      ]
    },
    {
      "cell_type": "code",
      "metadata": {
        "id": "15hKUMmEW0jZ"
      },
      "source": [
        "adj = np.array([[0, 1, 1],\n",
        "              [1, 0, 1],\n",
        "              [1, 1, 0]])\n",
        "G = nx.Graph(np.array(A))"
      ],
      "execution_count": 26,
      "outputs": []
    },
    {
      "cell_type": "code",
      "metadata": {
        "colab": {
          "base_uri": "https://localhost:8080/"
        },
        "id": "BgvE1c-AW0jZ",
        "outputId": "e15ecda8-a346-4eaf-c0c3-839b33c111ff"
      },
      "source": [
        "adj"
      ],
      "execution_count": 27,
      "outputs": [
        {
          "output_type": "execute_result",
          "data": {
            "text/plain": [
              "array([[0, 1, 1],\n",
              "       [1, 0, 1],\n",
              "       [1, 1, 0]])"
            ]
          },
          "metadata": {},
          "execution_count": 27
        }
      ]
    },
    {
      "cell_type": "code",
      "metadata": {
        "colab": {
          "base_uri": "https://localhost:8080/",
          "height": 248
        },
        "id": "agf1-8X9W0ja",
        "outputId": "c5385c00-fa31-450e-fc26-b3b154ca4651"
      },
      "source": [
        "import matplotlib.pyplot as plt\n",
        "%matplotlib inline\n",
        "nx.draw_networkx(G, with_labels=True)\n",
        "plt.show()"
      ],
      "execution_count": 28,
      "outputs": [
        {
          "output_type": "display_data",
          "data": {
            "text/plain": [
              "<Figure size 432x288 with 1 Axes>"
            ],
            "image/png": "[encoded data removed]"
          },
          "metadata": {}
        }
      ]
    },
    {
      "cell_type": "code",
      "metadata": {
        "id": "KL7CiYVnW0ja"
      },
      "source": [
        "G.clear()\n",
        "G.add_nodes_from([0, 1, 2, 3, 4, 5])\n",
        "G.add_edges_from([(1, 2), (1, 3), (1, 5), (2, 4), (3, 4), (3, 5)])"
      ],
      "execution_count": 29,
      "outputs": []
    },
    {
      "cell_type": "code",
      "metadata": {
        "colab": {
          "base_uri": "https://localhost:8080/",
          "height": 248
        },
        "id": "N47R21yVW0ja",
        "outputId": "b7fb4168-0bde-4f07-f8a4-37840f2eccc4"
      },
      "source": [
        "nx.draw_networkx(G, with_labels=True)"
      ],
      "execution_count": 30,
      "outputs": [
        {
          "output_type": "display_data",
          "data": {
            "text/plain": [
              "<Figure size 432x288 with 1 Axes>"
            ],
            "image/png": "[encoded data removed]"
          },
          "metadata": {}
        }
      ]
    },
    {
      "cell_type": "markdown",
      "metadata": {
        "id": "El8CcWYWW0ja"
      },
      "source": [
        "### Degree\n",
        "How many direct links a node has to other nodes <br>\n",
        "In the case of a directed network it is possible to calculate both indegree (incoming connections) and outdegree (outoing connections)."
      ]
    },
    {
      "cell_type": "code",
      "metadata": {
        "colab": {
          "base_uri": "https://localhost:8080/"
        },
        "id": "s8Ck54IQW0ja",
        "outputId": "1f88bff3-dc63-447e-95b5-204101ea3951"
      },
      "source": [
        "G.degree()"
      ],
      "execution_count": 31,
      "outputs": [
        {
          "output_type": "execute_result",
          "data": {
            "text/plain": [
              "DegreeView({0: 0, 1: 3, 2: 2, 3: 3, 4: 2, 5: 2})"
            ]
          },
          "metadata": {},
          "execution_count": 31
        }
      ]
    },
    {
      "cell_type": "code",
      "metadata": {
        "colab": {
          "base_uri": "https://localhost:8080/"
        },
        "id": "gnQqg3ooW0jb",
        "outputId": "c543262a-2d85-40f9-9df8-03035f737822"
      },
      "source": [
        "nx.shortest_path (G, 2, 5)"
      ],
      "execution_count": 32,
      "outputs": [
        {
          "output_type": "execute_result",
          "data": {
            "text/plain": [
              "[2, 1, 5]"
            ]
          },
          "metadata": {},
          "execution_count": 32
        }
      ]
    },
    {
      "cell_type": "markdown",
      "metadata": {
        "id": "OPBMQyQ8W0jb"
      },
      "source": [
        "## Calculations of multiple centrality"
      ]
    },
    {
      "cell_type": "markdown",
      "metadata": {
        "id": "jNx1-A8TW0jb"
      },
      "source": [
        "### Degree Centrality\n",
        "\n",
        "* **Definition**: Degree centrality assigns an importance score based purely on the number of links held by each node.\n",
        "\n",
        "* **What it tells us**: How many direct, ‘one hop’ connections each node has to other nodes within the network.\n",
        "\n",
        "* **When to use it**: For finding very connected individuals, popular individuals, individuals who are likely to hold most information or individuals who can quickly connect with the wider network.\n",
        "\n",
        "* **A bit more detail**: Degree centrality is the simplest measure of node connectivity. Sometimes it’s useful to look at in-degree (number of inbound links) and out-degree (number of outbound links) as distinct measures, for example when looking at transactional data or account activity.\n",
        "\n",
        "https://networkx.github.io/documentation/networkx-1.9/reference/generated/networkx.algorithms.centrality.degree_centrality.html"
      ]
    },
    {
      "cell_type": "code",
      "metadata": {
        "colab": {
          "base_uri": "https://localhost:8080/"
        },
        "id": "lXW5xM3hW0jb",
        "outputId": "3d048aa8-48f3-466b-af3c-157d34a27e41"
      },
      "source": [
        "nx.degree_centrality(G)"
      ],
      "execution_count": 33,
      "outputs": [
        {
          "output_type": "execute_result",
          "data": {
            "text/plain": [
              "{0: 0.0, 1: 0.6000000000000001, 2: 0.4, 3: 0.6000000000000001, 4: 0.4, 5: 0.4}"
            ]
          },
          "metadata": {},
          "execution_count": 33
        }
      ]
    },
    {
      "cell_type": "markdown",
      "metadata": {
        "id": "z1wx8AplW0jb"
      },
      "source": [
        "### Betweenness Centrality\n",
        "\n",
        "* **Definition**: Betweenness centrality measures the number of times a node lies on the shortest path between other nodes.\n",
        "$$c_B(v_i) = \\frac{2}{(n-1)(n-2)}\\sum_{j\\neq i}\\sum_{k\\neq i, k> j}\\frac{g_{jk}(y_i)}{g_{jk}}$$\n",
        "$g_{jk}$ = number of shortest paths joining vertices $v_j$ and $v_k$<br>\n",
        "$g_{jk}(v_i)$ = number of such paths that go throgh $v_j$\n",
        "\n",
        "* **What it tells us**: This measure shows which nodes act as ‘bridges’ between nodes in a network. It does this by identifying all the shortest paths and then counting how many times each node falls on one， which indicates the ability of node to control information between other nodes\n",
        "\n",
        "* **When to use it**: For finding the individuals who influence the flow around a system.\n",
        "\n",
        "* **A bit more detail**: Betweenness is useful for analyzing communication dynamics, but should be used with care. A high betweenness count could indicate someone holds authority over, or controls collaboration between, disparate clusters in a network; or indicate they are on the periphery of both clusters. A node may not be locally central, but may still have a high betweeness centrality\n",
        "\n",
        "https://networkx.github.io/documentation/networkx-1.10/reference/generated/networkx.algorithms.centrality.betweenness_centrality.html"
      ]
    },
    {
      "cell_type": "code",
      "metadata": {
        "colab": {
          "base_uri": "https://localhost:8080/"
        },
        "id": "36JhWIaUW0jc",
        "outputId": "9f715aa9-b39a-4b60-8b61-a4401090559a"
      },
      "source": [
        "nx.betweenness_centrality(G)"
      ],
      "execution_count": 34,
      "outputs": [
        {
          "output_type": "execute_result",
          "data": {
            "text/plain": [
              "{0: 0.0,\n",
              " 1: 0.15000000000000002,\n",
              " 2: 0.05,\n",
              " 3: 0.15000000000000002,\n",
              " 4: 0.05,\n",
              " 5: 0.0}"
            ]
          },
          "metadata": {},
          "execution_count": 34
        }
      ]
    },
    {
      "cell_type": "markdown",
      "metadata": {
        "id": "Q21at4EEW0jc"
      },
      "source": [
        "### Closeness Centrality\n",
        "\n",
        "* **Definition**: Closeness is the sum of shortest paths of a node to other nodes in the network. It measure scores each node based on their ‘closeness’ to all other nodes within the network.\n",
        "$$c_c(v_i) = \\frac{n-1}{\\sum_{j\\neq i}d(v_i, v_j)}$$ where $d(v_i, v_j)$ is the length of shortest path between $i$ and $j$\n",
        "\n",
        "* **What it tells us**: This measure calculates the shortest paths between all nodes, then assigns each node a score based on its sum of shortest paths. It indicates how quickly a node can interact with other nodes\n",
        "\n",
        "* **When to use it**: For finding the individuals who are best placed to influence the entire network most quickly.\n",
        "\n",
        "* **A bit more detail**: Closeness centrality can help find good ‘broadcasters’, but in a highly connected network you will often find all nodes have a similar score. What may be more useful is using Closeness to find influencers within a single cluster.\n",
        "\n",
        "https://networkx.github.io/documentation/networkx-1.10/reference/generated/networkx.algorithms.centrality.closeness_centrality.html"
      ]
    },
    {
      "cell_type": "code",
      "metadata": {
        "id": "3-h3VlWgW0jc",
        "outputId": "03c57b50-b584-454c-c3a0-024852aaba56",
        "colab": {
          "base_uri": "https://localhost:8080/"
        }
      },
      "source": [
        "nx.closeness_centrality(G)"
      ],
      "execution_count": 35,
      "outputs": [
        {
          "output_type": "execute_result",
          "data": {
            "text/plain": [
              "{0: 0.0,\n",
              " 1: 0.6400000000000001,\n",
              " 2: 0.5333333333333333,\n",
              " 3: 0.6400000000000001,\n",
              " 4: 0.5333333333333333,\n",
              " 5: 0.5333333333333333}"
            ]
          },
          "metadata": {},
          "execution_count": 35
        }
      ]
    },
    {
      "cell_type": "markdown",
      "metadata": {
        "id": "eYaeHUu-W0jc"
      },
      "source": [
        "### Eigenvector Centrality\n",
        "* **Definition**: Like degree centrality, EigenCentrality measures a node’s influence based on the number of links it has to other nodes within the network. EigenCentrality then goes a step further by also taking into account how well connected a node is, and how many links their connections have, and so on through the network.\n",
        "\n",
        "* **What it tells us**: By calculating the extended connections of a node, EigenCentrality can identify nodes with influence over the whole network, not just those directly connected to it.\n",
        "\n",
        "* **When to use it**: EigenCentrality is a good ‘all-round’ SNA score, handy for understanding human social networks, but also for understanding networks like malware propagation.\n",
        "\n",
        "* **A bit more detail**: KeyLines calculates each node’s EigenCentrality by converging on an eigenvector using the power iteration method. Learn more.\n",
        "\n",
        "https://networkx.github.io/documentation/networkx-1.9/reference/generated/networkx.algorithms.centrality.eigenvector_centrality.html#networkx.algorithms.centrality.eigenvector_centrality"
      ]
    },
    {
      "cell_type": "code",
      "metadata": {
        "id": "SnvTArdtW0jd",
        "outputId": "e78b1145-0dda-4a21-976d-4809ecbdf430",
        "colab": {
          "base_uri": "https://localhost:8080/"
        }
      },
      "source": [
        "nx.eigenvector_centrality(G)"
      ],
      "execution_count": 36,
      "outputs": [
        {
          "output_type": "execute_result",
          "data": {
            "text/plain": [
              "{0: 3.397608522718058e-09,\n",
              " 1: 0.5298986664246759,\n",
              " 2: 0.3577526299856115,\n",
              " 3: 0.5298986664246759,\n",
              " 4: 0.35775262998561147,\n",
              " 5: 0.4271310315575966}"
            ]
          },
          "metadata": {},
          "execution_count": 36
        }
      ]
    },
    {
      "cell_type": "code",
      "metadata": {
        "id": "XvTWaPDKW0jd",
        "outputId": "02ae79c7-cb21-4e15-c5c4-d49929ef6a68",
        "colab": {
          "base_uri": "https://localhost:8080/",
          "height": 248
        }
      },
      "source": [
        "A = np.array([[0, 0, 0, 0, 0, 0],\n",
        "                [0, 0, 1, 1, 0, 1],\n",
        "                [0, 1, 0, 0, 1, 0],\n",
        "                [0, 1, 0, 0, 1, 1],\n",
        "                [0, 0, 1, 1, 0, 0],\n",
        "                [0, 1, 0, 1, 0, 0]])\n",
        "G = nx.Graph(A)\n",
        "nx.draw_networkx(G, with_labels=True)\n",
        "plt.show()"
      ],
      "execution_count": 42,
      "outputs": [
        {
          "output_type": "display_data",
          "data": {
            "text/plain": [
              "<Figure size 432x288 with 1 Axes>"
            ],
            "image/png": "[encoded data removed]"
          },
          "metadata": {}
        }
      ]
    },
    {
      "cell_type": "code",
      "metadata": {
        "id": "XNk8jePjW0jd"
      },
      "source": [
        "from numpy import linalg as LA"
      ],
      "execution_count": 43,
      "outputs": []
    },
    {
      "cell_type": "code",
      "metadata": {
        "id": "0Mgsh2bNW0je"
      },
      "source": [
        "w, v = LA.eig(A)"
      ],
      "execution_count": 44,
      "outputs": []
    },
    {
      "cell_type": "code",
      "metadata": {
        "id": "PT3szHAuW0je",
        "outputId": "adef3eb8-998a-4176-d7b7-41752b6be176",
        "colab": {
          "base_uri": "https://localhost:8080/"
        }
      },
      "source": [
        "w"
      ],
      "execution_count": 45,
      "outputs": [
        {
          "output_type": "execute_result",
          "data": {
            "text/plain": [
              "array([-1.17008649e+00,  6.88892183e-01,  2.48119430e+00, -2.00000000e+00,\n",
              "        2.25371043e-32,  0.00000000e+00])"
            ]
          },
          "metadata": {},
          "execution_count": 45
        }
      ]
    },
    {
      "cell_type": "code",
      "metadata": {
        "id": "htUJv_VJW0je",
        "outputId": "12b506c7-5b77-4c6d-c7d9-826139ef49de",
        "colab": {
          "base_uri": "https://localhost:8080/"
        }
      },
      "source": [
        "np.round(v, 4)"
      ],
      "execution_count": 46,
      "outputs": [
        {
          "output_type": "execute_result",
          "data": {
            "text/plain": [
              "array([[ 0.    ,  0.    ,  0.    ,  0.    ,  0.    ,  1.    ],\n",
              "       [-0.4325, -0.1793, -0.5299, -0.5   ,  0.5   ,  0.    ],\n",
              "       [ 0.1993,  0.5765, -0.3578,  0.5   ,  0.5   ,  0.    ],\n",
              "       [-0.4325, -0.1793, -0.5299,  0.5   , -0.5   ,  0.    ],\n",
              "       [ 0.1993,  0.5765, -0.3578, -0.5   , -0.5   ,  0.    ],\n",
              "       [ 0.7392, -0.5207, -0.4271, -0.    , -0.    ,  0.    ]])"
            ]
          },
          "metadata": {},
          "execution_count": 46
        }
      ]
    },
    {
      "cell_type": "markdown",
      "metadata": {
        "id": "RH3D-wmkW0je"
      },
      "source": [
        "## Directed Graph"
      ]
    },
    {
      "cell_type": "code",
      "metadata": {
        "id": "0V1YBP8tW0je"
      },
      "source": [
        "DG = nx.DiGraph()"
      ],
      "execution_count": 47,
      "outputs": []
    },
    {
      "cell_type": "code",
      "metadata": {
        "id": "-52bkn1-W0jf"
      },
      "source": [
        "DG.add_nodes_from(['v1', 'v2', 'v3', 'v4'])\n",
        "DG.add_edges_from([('v1', 'v2'), ('v1', 'v3'), ('v1', 'v4'),\n",
        "                 ('v2', 'v3'), ('v2', 'v4'), \n",
        "                 ('v3', 'v1'), ('v3', 'v4'),\n",
        "                 ('v4', 'v1')])"
      ],
      "execution_count": 48,
      "outputs": []
    },
    {
      "cell_type": "code",
      "metadata": {
        "id": "P9NddQqlW0jf",
        "outputId": "7055d4ad-af68-4003-a8db-63f471348d64",
        "colab": {
          "base_uri": "https://localhost:8080/",
          "height": 248
        }
      },
      "source": [
        "nx.draw_networkx(DG, with_labels=True)\n",
        "plt.show()"
      ],
      "execution_count": 49,
      "outputs": [
        {
          "output_type": "display_data",
          "data": {
            "text/plain": [
              "<Figure size 432x288 with 1 Axes>"
            ],
            "image/png": "[encoded data removed]"
          },
          "metadata": {}
        }
      ]
    },
    {
      "cell_type": "code",
      "metadata": {
        "id": "5Ms4YNaVW0jf",
        "outputId": "24a2541f-f353-4b34-89bc-c96d94bfdb33",
        "colab": {
          "base_uri": "https://localhost:8080/"
        }
      },
      "source": [
        "DG.degree()"
      ],
      "execution_count": 50,
      "outputs": [
        {
          "output_type": "execute_result",
          "data": {
            "text/plain": [
              "DiDegreeView({'v1': 5, 'v2': 3, 'v3': 4, 'v4': 4})"
            ]
          },
          "metadata": {},
          "execution_count": 50
        }
      ]
    },
    {
      "cell_type": "code",
      "metadata": {
        "id": "ywFO6OTTW0jf",
        "outputId": "fab392f0-a6ae-4915-ad48-56ca6f5923c9",
        "colab": {
          "base_uri": "https://localhost:8080/"
        }
      },
      "source": [
        "DG.in_degree()"
      ],
      "execution_count": 51,
      "outputs": [
        {
          "output_type": "execute_result",
          "data": {
            "text/plain": [
              "InDegreeView({'v1': 2, 'v2': 1, 'v3': 2, 'v4': 3})"
            ]
          },
          "metadata": {},
          "execution_count": 51
        }
      ]
    },
    {
      "cell_type": "code",
      "metadata": {
        "id": "PvHvcMPUW0jg",
        "outputId": "f27a9e82-5320-45f9-ee66-bfc21cefa8b8",
        "colab": {
          "base_uri": "https://localhost:8080/"
        }
      },
      "source": [
        "DG.out_degree()"
      ],
      "execution_count": 52,
      "outputs": [
        {
          "output_type": "execute_result",
          "data": {
            "text/plain": [
              "OutDegreeView({'v1': 3, 'v2': 2, 'v3': 2, 'v4': 1})"
            ]
          },
          "metadata": {},
          "execution_count": 52
        }
      ]
    },
    {
      "cell_type": "code",
      "source": [],
      "metadata": {
        "id": "TsQa6X0kggxO"
      },
      "execution_count": null,
      "outputs": []
    }
  ]
}