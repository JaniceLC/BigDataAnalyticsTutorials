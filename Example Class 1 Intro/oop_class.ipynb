{
  "nbformat": 4,
  "nbformat_minor": 0,
  "metadata": {
    "colab": {
      "name": "oop_class.ipynb",
      "provenance": [],
      "collapsed_sections": []
    },
    "kernelspec": {
      "name": "python3",
      "display_name": "Python 3"
    },
    "language_info": {
      "name": "python"
    }
  },
  "cells": [
    {
      "cell_type": "code",
      "execution_count": null,
      "metadata": {
        "id": "p3R3EjPNgQbN"
      },
      "outputs": [],
      "source": [
        ""
      ]
    },
    {
      "cell_type": "markdown",
      "source": [
        "# Object-Oriented Programming (OOP) in Python 3\n",
        "\n",
        "Object-oriented programming (OOP) is a method of structuring a program by bundling related properties and behaviors into individual objects. In this tutorial, you’ll learn the basics of object-oriented programming in Python.\n",
        "\n",
        "Conceptually, objects are like the components of a system. Think of a program as a factory assembly line of sorts. At each step of the assembly line a system component processes some material, ultimately transforming raw material into a finished product.\n",
        "\n",
        "An object contains data, like the raw or preprocessed materials at each step on an assembly line, and behavior, like the action each assembly line component performs.\n",
        "\n",
        "In this tutorial, you’ll learn how to:\n",
        "\n",
        "- Create a class, which is like a blueprint for creating an object\n",
        "- Use classes to create new objects\n",
        "- Model systems with class inheritance\n",
        "\n",
        "\n",
        "## What is Object-Oriented Programming in Python? \n",
        "\n",
        "\n",
        "Object-oriented programming is a programming paradigm that provides a means of structuring programs so that properties and behaviors are bundled into individual **objects**.\n",
        "\n",
        "For instance, an object could represent a person with properties like a name, age, and address and behaviors such as walking, talking, breathing, and running. Or it could represent an email with properties like a recipient list, subject, and body and behaviors like adding attachments and sending.\n",
        "\n",
        "Put another way, object-oriented programming is an approach for modeling concrete, real-world things, like cars, as well as relations between things, like companies and employees, students and teachers, and so on. OOP models real-world entities as software objects that have some data associated with them and can perform certain functions.\n",
        "\n",
        "For comparison, another common programming paradigm is procedural programming, which structures a program like a recipe in that it provides a set of steps, in the form of functions and code blocks, that flow sequentially in order to complete a task.\n",
        "\n",
        "\n",
        "The key takeaway is that objects are at the center of object-oriented programming in Python, not only representing the data, as in procedural programming, but in the overall structure of the program as well.\n",
        "\n"
      ],
      "metadata": {
        "id": "vkyiRRzdgdN1"
      }
    },
    {
      "cell_type": "markdown",
      "source": [
        "## Define a Class in Python\n",
        "\n",
        "Primitive data structures—like numbers, strings, and lists—are designed to represent simple pieces of information, such as the cost of an apple, the name of a poem, or your favorite colors, respectively. What if you want to represent something more complex?\n",
        "\n",
        "For example, let’s say you want to track employees in an organization. You need to store some basic information about each employee, such as their name, age, position, and the year they started working.\n",
        "\n",
        "One way to do this is to represent each employee as a list:\n",
        "\n",
        "\n"
      ],
      "metadata": {
        "id": "n2siLGfzk0f1"
      }
    },
    {
      "cell_type": "code",
      "source": [
        "kirk = [\"James Kirk\", 34, \"Captain\", 2265]\n",
        "spock = [\"Spock\", 35, \"Science Officer\", 2254]\n",
        "mccoy = [\"Leonard McCoy\", \"Chief Medical Officer\", 2266]"
      ],
      "metadata": {
        "id": "JsK0vHO3kzZT"
      },
      "execution_count": 1,
      "outputs": []
    },
    {
      "cell_type": "markdown",
      "source": [
        "There are a number of issues with this approach. \n",
        "e.g. \n",
        "\n",
        "- if you would like to reference the name of ```kirk```, will you remember which the index is  the employee's name? \n",
        "- what about the missing entity? \n",
        "  - it can introduce errors if not every employee has the same number of elements in the list. In the mccoy list above, the age is missing, so mccoy[1] will return \"Chief Medical Officer\" instead of Dr. McCoy’s age.\n",
        "\n",
        "\n",
        "A great way to make this type of code more manageable and more maintainable is to use classes.\n",
        "\n",
        "### Classes vs Instances\n",
        "Classes are used to create user-defined data structures. Classes define functions called methods, which identify the behaviors and actions that an object created from the class can perform with its data.\n",
        "\n",
        "In this tutorial, you’ll create a Dog class that stores some information about the characteristics and behaviors that an individual dog can have.\n",
        "\n",
        "A class is a blueprint for how something should be defined. It doesn’t actually contain any data. The Dog class specifies that a name and an age are necessary for defining a dog, but it doesn’t contain the name or age of any specific dog.\n",
        "\n",
        "While the class is the blueprint, an instance is an object that is built from a class and contains real data. An instance of the Dog class is not a blueprint anymore. It’s an actual dog with a name, like Miles, who’s four years old.\n",
        "\n",
        "Put another way, a class is like a form or questionnaire. An instance is like a form that has been filled out with information. Just like many people can fill out the same form with their own unique information, many instances can be created from a single class.\n",
        "\n"
      ],
      "metadata": {
        "id": "NKpfhKVkkzjr"
      }
    },
    {
      "cell_type": "markdown",
      "source": [
        "\n",
        "### How to Define a Class\n",
        "All class definitions start with the class keyword, which is followed by the name of the class and a colon. Any code that is indented below the class definition is considered part of the class’s body.\n",
        "\n",
        "Here’s an example of a Dog class:\n",
        "\n",
        "\n",
        "\n",
        "\n"
      ],
      "metadata": {
        "id": "OpbCSLQXxEv-"
      }
    },
    {
      "cell_type": "code",
      "source": [
        "class Dog:\n",
        "  pass\n"
      ],
      "metadata": {
        "id": "kmkS5H-Bghk9"
      },
      "execution_count": 2,
      "outputs": []
    },
    {
      "cell_type": "markdown",
      "source": [
        "The body of the Dog class consists of a single statement: the pass keyword. pass is often used as a placeholder indicating where code will eventually go. It allows you to run this code without Python throwing an error.\n",
        "\n",
        "\n",
        "\n",
        "\n",
        "> Note: Python Class names are written in ```CapitalizedWords``` notation by convention. For example, a class for a specific breed of dog like the Jack Russell Terrier would be written as ```JackRussellTerrier```.\n",
        "\n",
        "The Dog class isn’t very interesting right now, so let’s spruce it up a bit by defining some properties that all Dog objects should have. There are a number of properties that we can choose from, including name, age, coat color, and breed. To keep things simple, we’ll just use name and age.\n",
        "\n",
        "The properties that all Dog objects must have are defined in a method called ```.__init__()```. Every time a new Dog object is created, ```.__init__()``` sets the initial state of the object by assigning the values of the object’s properties. That is, ```.__init__()``` initializes each new instance of the class.\n",
        "\n",
        "\n",
        "You can give ```.__init__()``` any number of parameters, but the first parameter will always be a variable called self. When a new class instance is created, the instance is automatically passed to the self parameter in ```.__init__()``` so that new attributes can be defined on the object.\n",
        "\n",
        "Let’s update the Dog class with an ```.__init__()``` method that creates ```name``` and ```age``` attributes:\n",
        "\n"
      ],
      "metadata": {
        "id": "SOGvhJOOsGda"
      }
    },
    {
      "cell_type": "code",
      "source": [
        "class Dog:\n",
        "    def __init__(self, name, age):\n",
        "        self.name = name\n",
        "        self.age = age"
      ],
      "metadata": {
        "id": "OEZhnhBdsGBk"
      },
      "execution_count": 3,
      "outputs": []
    },
    {
      "cell_type": "markdown",
      "source": [
        "Notice that the .__init__() method’s signature is indented four spaces. The body of the method is indented by eight spaces. This indentation is vitally important. It tells Python that the .__init__() method belongs to the Dog class.\n",
        "\n",
        "In the body of ```.__init__()```, there are two statements using the self variable:\n",
        "\n",
        "  - self.name = name creates an attribute called name and assigns to it the value of the name parameter.\n",
        "  - self.age = age creates an attribute called age and assigns to it the value of the age parameter.\n",
        "\n",
        "Attributes created in ```.__init__()``` are called **instance attributes**. **An instance attribute’s value is specific to a particular instance of the class.** All Dog objects have a name and an age, but the values for the name and age attributes will vary depending on the Dog instance.\n",
        "\n",
        "On the other hand, **class attributes are attributes that have the same value for all class instances.** You can define a class attribute by assigning a value to a variable name outside of ```.__init__()```.\n",
        "\n",
        "For example, the following Dog class has a class attribute called species with the value \"Canis familiaris\":\n"
      ],
      "metadata": {
        "id": "GuPSCNALt9KH"
      }
    },
    {
      "cell_type": "code",
      "source": [
        "class Dog:\n",
        "    # Class attribute\n",
        "    species = \"Canis familiaris\"\n",
        "    def __init__(self, name, age):\n",
        "        self.name = name\n",
        "        self.age = age"
      ],
      "metadata": {
        "id": "QsAAH1azsAzw"
      },
      "execution_count": 4,
      "outputs": []
    },
    {
      "cell_type": "markdown",
      "source": [
        "Class attributes are defined directly beneath the first line of the class name and are indented by four spaces. They must always be assigned an initial value. When an instance of the class is created, class attributes are automatically created and assigned to their initial values.\n",
        "\n",
        "Use class attributes to define properties that should have the same value for every class instance. Use instance attributes for properties that vary from one instance to another.\n",
        "\n",
        "Now that we have a Dog class, let’s create some dogs!\n",
        "\n",
        "\n"
      ],
      "metadata": {
        "id": "jqGdlflnvlP2"
      }
    },
    {
      "cell_type": "markdown",
      "source": [
        "## Instantiate an Object in Python"
      ],
      "metadata": {
        "id": "O8MqDvQ8w1_x"
      }
    },
    {
      "cell_type": "markdown",
      "source": [
        "###  Class and Instance Attributes\n",
        "\n",
        "To instantiate objects of this Dog class, you need to provide values for the name and age. If you don’t, then Python raises a TypeError:\n",
        "\n"
      ],
      "metadata": {
        "id": "hY-A75LmzW6_"
      }
    },
    {
      "cell_type": "code",
      "source": [
        "Dog()"
      ],
      "metadata": {
        "colab": {
          "base_uri": "https://localhost:8080/",
          "height": 165
        },
        "id": "mDu8YzO2R36k",
        "outputId": "a7f2a3c2-69dd-4b8d-f9f2-8be7eb77915e"
      },
      "execution_count": 5,
      "outputs": [
        {
          "output_type": "error",
          "ename": "TypeError",
          "evalue": "ignored",
          "traceback": [
            "\u001b[0;31m---------------------------------------------------------------------------\u001b[0m",
            "\u001b[0;31mTypeError\u001b[0m                                 Traceback (most recent call last)",
            "\u001b[0;32m<ipython-input-5-2dced99f65a6>\u001b[0m in \u001b[0;36m<module>\u001b[0;34m()\u001b[0m\n\u001b[0;32m----> 1\u001b[0;31m \u001b[0mDog\u001b[0m\u001b[0;34m(\u001b[0m\u001b[0;34m)\u001b[0m\u001b[0;34m\u001b[0m\u001b[0;34m\u001b[0m\u001b[0m\n\u001b[0m",
            "\u001b[0;31mTypeError\u001b[0m: __init__() missing 2 required positional arguments: 'name' and 'age'"
          ]
        }
      ]
    },
    {
      "cell_type": "markdown",
      "source": [
        "To pass arguments to the name and age parameters, put values into the parentheses after the class name:"
      ],
      "metadata": {
        "id": "jHq88CBG7SHN"
      }
    },
    {
      "cell_type": "code",
      "source": [
        "buddy = Dog(\"Buddy\", 9)\n",
        "miles = Dog(\"Miles\", 4)"
      ],
      "metadata": {
        "id": "MSTrAQwh7S_M"
      },
      "execution_count": 6,
      "outputs": []
    },
    {
      "cell_type": "markdown",
      "source": [
        "This creates two new Dog instances—one for a nine-year-old dog named Buddy and one for a four-year-old dog named Miles.\n",
        "\n",
        "The Dog class’s ```.__init__()``` method has three parameters, so** why are only two arguments passed to it in the example?**\n",
        "\n",
        "> **When you instantiate a Dog object, Python creates a new instance and passes it to the first parameter of ```.__init__()```. This essentially removes the self parameter, so you only need to worry about the name and age parameters.** \n",
        "\n",
        "After you create the Dog instances, you can access their instance attributes using dot notation:\n"
      ],
      "metadata": {
        "id": "TL1Jpdxk7a-e"
      }
    },
    {
      "cell_type": "code",
      "source": [
        "buddy.name"
      ],
      "metadata": {
        "colab": {
          "base_uri": "https://localhost:8080/",
          "height": 35
        },
        "id": "iSaAGxjE71zB",
        "outputId": "a8cfe67b-a1f6-45ac-b977-bd1550e3e686"
      },
      "execution_count": 7,
      "outputs": [
        {
          "output_type": "execute_result",
          "data": {
            "application/vnd.google.colaboratory.intrinsic+json": {
              "type": "string"
            },
            "text/plain": [
              "'Buddy'"
            ]
          },
          "metadata": {},
          "execution_count": 7
        }
      ]
    },
    {
      "cell_type": "code",
      "source": [
        "buddy.age"
      ],
      "metadata": {
        "colab": {
          "base_uri": "https://localhost:8080/"
        },
        "id": "05w35xtH75BB",
        "outputId": "ef4a249d-8567-4013-e2b2-e240034ff5a0"
      },
      "execution_count": 8,
      "outputs": [
        {
          "output_type": "execute_result",
          "data": {
            "text/plain": [
              "9"
            ]
          },
          "metadata": {},
          "execution_count": 8
        }
      ]
    },
    {
      "cell_type": "code",
      "source": [
        "miles.name"
      ],
      "metadata": {
        "colab": {
          "base_uri": "https://localhost:8080/",
          "height": 35
        },
        "id": "CL05vygm79rx",
        "outputId": "ff996957-958c-4a44-8214-5d012ab71f7a"
      },
      "execution_count": 9,
      "outputs": [
        {
          "output_type": "execute_result",
          "data": {
            "application/vnd.google.colaboratory.intrinsic+json": {
              "type": "string"
            },
            "text/plain": [
              "'Miles'"
            ]
          },
          "metadata": {},
          "execution_count": 9
        }
      ]
    },
    {
      "cell_type": "code",
      "source": [
        "miles.age"
      ],
      "metadata": {
        "colab": {
          "base_uri": "https://localhost:8080/"
        },
        "id": "dG_2VUEp7_W1",
        "outputId": "506ea4e0-e464-45c1-9b58-2c7c99e19a74"
      },
      "execution_count": 10,
      "outputs": [
        {
          "output_type": "execute_result",
          "data": {
            "text/plain": [
              "4"
            ]
          },
          "metadata": {},
          "execution_count": 10
        }
      ]
    },
    {
      "cell_type": "markdown",
      "source": [
        "You can access class attributes the same way. "
      ],
      "metadata": {
        "id": "NfOCa8ze8BP8"
      }
    },
    {
      "cell_type": "code",
      "source": [
        "buddy.species"
      ],
      "metadata": {
        "colab": {
          "base_uri": "https://localhost:8080/",
          "height": 35
        },
        "id": "3EP8g2Aj8GwG",
        "outputId": "3bb06fe4-bb0d-42e4-ef63-041fbc23b1f8"
      },
      "execution_count": 11,
      "outputs": [
        {
          "output_type": "execute_result",
          "data": {
            "application/vnd.google.colaboratory.intrinsic+json": {
              "type": "string"
            },
            "text/plain": [
              "'Canis familiaris'"
            ]
          },
          "metadata": {},
          "execution_count": 11
        }
      ]
    },
    {
      "cell_type": "markdown",
      "source": [
        "One of the biggest advantages of using classes to organize data is that instances are guaranteed to have the attributes you expect. All Dog instances have .species, .name, and .age attributes, so you can use those attributes with confidence knowing that they will always return a value.\n",
        "\n",
        "Although the attributes are guaranteed to exist, their values can be changed dynamically:\n",
        "\n"
      ],
      "metadata": {
        "id": "Ql6yCj5v_bzt"
      }
    },
    {
      "cell_type": "code",
      "source": [
        "buddy.age=10\n",
        "buddy.age"
      ],
      "metadata": {
        "colab": {
          "base_uri": "https://localhost:8080/"
        },
        "id": "Mq1_4an3_dDq",
        "outputId": "5ca4d6fd-c8dd-4563-dd5e-6331cdcd714b"
      },
      "execution_count": 12,
      "outputs": [
        {
          "output_type": "execute_result",
          "data": {
            "text/plain": [
              "10"
            ]
          },
          "metadata": {},
          "execution_count": 12
        }
      ]
    },
    {
      "cell_type": "code",
      "source": [
        "miles.species = \"Felis silvestris\"\n",
        "miles.species"
      ],
      "metadata": {
        "colab": {
          "base_uri": "https://localhost:8080/",
          "height": 35
        },
        "id": "cVbNdeDQ_hRh",
        "outputId": "8e7d217a-70fa-451a-ab42-f94f5e344b98"
      },
      "execution_count": 13,
      "outputs": [
        {
          "output_type": "execute_result",
          "data": {
            "application/vnd.google.colaboratory.intrinsic+json": {
              "type": "string"
            },
            "text/plain": [
              "'Felis silvestris'"
            ]
          },
          "metadata": {},
          "execution_count": 13
        }
      ]
    },
    {
      "cell_type": "markdown",
      "source": [
        "In this example, you change the .age attribute of the buddy object to 10. Then you change the .species attribute of the miles object to \"Norwegian Forest\", which is a species of cat. That makes Miles a pretty strange dog, but it is valid Python!\n",
        "\n",
        "The key takeaway here is that custom objects are mutable by default. An object is mutable if it can be altered dynamically. For example, lists and dictionaries are mutable, but strings and tuples are immutable."
      ],
      "metadata": {
        "id": "Nl8KnqG-_vD0"
      }
    },
    {
      "cell_type": "markdown",
      "source": [
        "### Instance Methods \n",
        "Instance methods are functions that are defined inside a class and can only be called from an instance of that class. Just like ```.__init__()```, an instance method’s first parameter is always ```self```.\n"
      ],
      "metadata": {
        "id": "n9I5cjl_za4u"
      }
    },
    {
      "cell_type": "code",
      "source": [
        "class Dog:\n",
        "    species = \"Canis familiaris\"\n",
        "\n",
        "    def __init__(self, name, age):\n",
        "        self.name = name\n",
        "        self.age = age\n",
        "\n",
        "    # Instance method\n",
        "    def description(self):\n",
        "        return f\"{self.name} is {self.age} years old\"\n",
        "\n",
        "    # Another instance method\n",
        "    def speak(self, sound):\n",
        "        return f\"{self.name} says {sound}\""
      ],
      "metadata": {
        "id": "bZEL2gEBAxgM"
      },
      "execution_count": 14,
      "outputs": []
    },
    {
      "cell_type": "markdown",
      "source": [
        "This Dog class has two instance methods:\n",
        "\n",
        "- ```.description()``` returns a string displaying the name and age of the dog.\n",
        "- ```.speak()``` has one parameter called sound and returns a string containing the dog’s name and the sound the dog makes."
      ],
      "metadata": {
        "id": "XkBu6S_e7Rn9"
      }
    },
    {
      "cell_type": "code",
      "source": [
        "miles = Dog('Miles', 4) \n",
        "miles.description()"
      ],
      "metadata": {
        "colab": {
          "base_uri": "https://localhost:8080/",
          "height": 35
        },
        "id": "If4ZHpOQBYf_",
        "outputId": "6a36b2e0-1ec3-4bb1-e505-beec8024d940"
      },
      "execution_count": 15,
      "outputs": [
        {
          "output_type": "execute_result",
          "data": {
            "application/vnd.google.colaboratory.intrinsic+json": {
              "type": "string"
            },
            "text/plain": [
              "'Miles is 4 years old'"
            ]
          },
          "metadata": {},
          "execution_count": 15
        }
      ]
    },
    {
      "cell_type": "code",
      "source": [
        "miles.speak(\"Woof Woof\")"
      ],
      "metadata": {
        "colab": {
          "base_uri": "https://localhost:8080/",
          "height": 35
        },
        "id": "0Zm-9mUjBgmG",
        "outputId": "e66974dc-6820-4f42-8887-1d4d00b92ebc"
      },
      "execution_count": 16,
      "outputs": [
        {
          "output_type": "execute_result",
          "data": {
            "application/vnd.google.colaboratory.intrinsic+json": {
              "type": "string"
            },
            "text/plain": [
              "'Miles says Woof Woof'"
            ]
          },
          "metadata": {},
          "execution_count": 16
        }
      ]
    },
    {
      "cell_type": "code",
      "source": [
        "miles.speak(\"Bow Wow\")"
      ],
      "metadata": {
        "colab": {
          "base_uri": "https://localhost:8080/",
          "height": 35
        },
        "id": "WhvL3feUBlGt",
        "outputId": "2cf342ee-35d0-4e83-8d16-84faed23bffe"
      },
      "execution_count": 17,
      "outputs": [
        {
          "output_type": "execute_result",
          "data": {
            "application/vnd.google.colaboratory.intrinsic+json": {
              "type": "string"
            },
            "text/plain": [
              "'Miles says Bow Wow'"
            ]
          },
          "metadata": {},
          "execution_count": 17
        }
      ]
    },
    {
      "cell_type": "markdown",
      "source": [
        "In the above Dog class, .description() returns a string containing information about the Dog instance miles. When writing your own classes, it’s a good idea to have a method that returns a string containing useful information about an instance of the class.** However, .description() isn’t the most Pythonic way of doing this.**\n",
        "\n",
        "When you create a list object, you can use print() to display a string that looks like the list:\n",
        "\n"
      ],
      "metadata": {
        "id": "ZhRhlqfbBW2Q"
      }
    },
    {
      "cell_type": "code",
      "source": [
        "names = [\"Fletcher\", \"David\", \"Dan\"]\n",
        "print(names)"
      ],
      "metadata": {
        "colab": {
          "base_uri": "https://localhost:8080/"
        },
        "id": "j3hVMhTlB4iV",
        "outputId": "37d11360-0174-4847-fc6a-b50432c2f8cf"
      },
      "execution_count": 18,
      "outputs": [
        {
          "output_type": "stream",
          "name": "stdout",
          "text": [
            "['Fletcher', 'David', 'Dan']\n"
          ]
        }
      ]
    },
    {
      "cell_type": "code",
      "source": [
        "print(miles)"
      ],
      "metadata": {
        "colab": {
          "base_uri": "https://localhost:8080/"
        },
        "id": "OB8wv0opB8zD",
        "outputId": "8ad3bfcf-2328-47f4-8355-8cdd3166c97a"
      },
      "execution_count": 19,
      "outputs": [
        {
          "output_type": "stream",
          "name": "stdout",
          "text": [
            "<__main__.Dog object at 0x7fc8743c3b10>\n"
          ]
        }
      ]
    },
    {
      "cell_type": "markdown",
      "source": [
        "When you print(miles), you get a cryptic looking message telling you that miles is a Dog object at the memory address 0x7f2c1d3ba3d0. This message isn’t very helpful. You can change what gets printed by defining a special instance method called ```.__str__()```.\n",
        "\n",
        "In the editor window, change the name of the Dog class’s ```.description()``` method to ```.__str__()```:\n",
        "\n"
      ],
      "metadata": {
        "id": "UhdVB2BTCCnP"
      }
    },
    {
      "cell_type": "code",
      "source": [
        "class Dog:\n",
        "    species = \"Canis familiaris\"\n",
        "\n",
        "    def __init__(self, name, age):\n",
        "        self.name = name\n",
        "        self.age = age\n",
        "    # Leave other parts of Dog class as-is\n",
        "    #  Replace .description() with __str__()\n",
        "    def __str__(self):\n",
        "        return f\"{self.name} is {self.age} years old\"\n",
        "\n",
        "    # Another instance method\n",
        "    def speak(self, sound):\n",
        "        return f\"{self.name} says {sound}\""
      ],
      "metadata": {
        "id": "FbgXc08PClwV"
      },
      "execution_count": 20,
      "outputs": []
    },
    {
      "cell_type": "code",
      "source": [
        "miles = Dog(\"Miles\", 4)\n",
        "print(miles)"
      ],
      "metadata": {
        "colab": {
          "base_uri": "https://localhost:8080/"
        },
        "id": "S8CjvUHaC3AP",
        "outputId": "7c3e0afc-2b1b-4734-9844-a5c07763aaeb"
      },
      "execution_count": 21,
      "outputs": [
        {
          "output_type": "stream",
          "name": "stdout",
          "text": [
            "Miles is 4 years old\n"
          ]
        }
      ]
    },
    {
      "cell_type": "markdown",
      "source": [
        "Methods like ```.__init__()``` and ```.__str__()``` are called dunder methods because they begin and end with double underscores. There are many dunder methods that you can use to customize classes in Python. Although too advanced a topic for a beginninger, understanding dunder methods is an important part of mastering object-oriented programming in Python.\n",
        "\n",
        "In the next section, you’ll see how to take your knowledge one step further and create classes from other classes.\n",
        "\n"
      ],
      "metadata": {
        "id": "prchnVqcCjLO"
      }
    },
    {
      "cell_type": "markdown",
      "source": [
        "### Check Your Understanding: Create a Car Class \n",
        "> ```.color```, which stores the name of the car’s color as a string\n",
        "\n",
        "> ```.mileage```, which stores the number of miles on the car as an integer\n",
        "\n",
        "Then instantiate two Car objects—a blue car with 20,000 miles and a red car with 30,000 miles—and print out their colors and mileage. Your output should look like this:\n",
        "\n",
        "> The blue car has 20,000 miles.\n",
        "The red car has 30,000 miles.\n",
        "\n",
        "-"
      ],
      "metadata": {
        "id": "E23fwqeGzhQ5"
      }
    },
    {
      "cell_type": "markdown",
      "source": [
        "## Inherit From Other Classes in Python\n",
        "**Inheritance** is the process by which one class takes on the \n",
        "attributes and methods of another. Newly formed classes are called child classes, and the classes that child classes are derived from are called parent classes.\n",
        "\n",
        "Child classes can override or extend the attributes and methods of parent classes. In other words, child classes inherit all of the parent’s attributes and methods but can also specify attributes and methods that are unique to themselves.\n",
        "\n",
        "Although the analogy isn’t perfect, you can think of object inheritance sort of like genetic inheritance.\n",
        "\n",
        "You may have inherited your hair color from your mother. It’s an attribute you were born with. Let’s say you decide to color your hair purple. Assuming your mother doesn’t have purple hair, you’ve just overridden the hair color attribute that you inherited from your mom.\n",
        "\n",
        "You also inherit, in a sense, your language from your parents. If your parents speak English, then you’ll also speak English. Now imagine you decide to learn a second language, like German. In this case you’ve extended your attributes because you’ve added an attribute that your parents don’t have.\n"
      ],
      "metadata": {
        "id": "weei-DGnR6jV"
      }
    },
    {
      "cell_type": "markdown",
      "source": [
        "### Dog Park Example\n",
        "Pretend for a moment that you’re at a dog park. There are many dogs of different breeds at the park, all engaging in various dog behaviors.\n",
        "\n",
        "Suppose now that you want to model the dog park with Python classes. The Dog class that you wrote in the previous section can distinguish dogs by name and age but not by breed.\n",
        "\n",
        "You could modify the Dog class in the editor window by adding a ```.breed``` attribute:\n",
        "\n",
        "> *The instance methods defined earlier are omitted here because they aren’t important for this discussion.*"
      ],
      "metadata": {
        "id": "EqqLQrEcSa-X"
      }
    },
    {
      "cell_type": "code",
      "source": [
        "class Dog:\n",
        "    species = \"Canis familiaris\"\n",
        "\n",
        "    def __init__(self, name, age, breed):\n",
        "        self.name = name\n",
        "        self.age = age\n",
        "        self.breed = breed \n",
        "    def __str__(self):\n",
        "        return f\"{self.name} is {self.age} years old\"\n",
        "\n",
        "    # Another instance method\n",
        "    def speak(self, sound):\n",
        "        return f\"{self.name} says {sound}\""
      ],
      "metadata": {
        "id": "in1PISpFeNa6"
      },
      "execution_count": 22,
      "outputs": []
    },
    {
      "cell_type": "code",
      "source": [
        "miles = Dog(\"Miles\", 4, \"Jack Russell Terrier\")\n",
        "buddy = Dog(\"Buddy\", 9, \"Dachshund\")\n",
        "jack = Dog(\"Jack\", 3, \"Bulldog\")\n",
        "jim = Dog(\"Jim\", 5, \"Bulldog\")"
      ],
      "metadata": {
        "id": "ZShGtN5cf3jn"
      },
      "execution_count": 23,
      "outputs": []
    },
    {
      "cell_type": "markdown",
      "source": [
        "Each breed of dog has slightly different behaviors. For example, bulldogs have a low bark that sounds like woof, but dachshunds have a higher-pitched bark that sounds more like yap.\n",
        "\n",
        "Using just the Dog class, you must supply a string for the sound argument of .speak() every time you call it on a Dog instance:"
      ],
      "metadata": {
        "id": "y4DKykq5gJi3"
      }
    },
    {
      "cell_type": "code",
      "source": [
        "buddy.speak(\"Yap\")"
      ],
      "metadata": {
        "colab": {
          "base_uri": "https://localhost:8080/",
          "height": 35
        },
        "id": "s44M2-AJgIau",
        "outputId": "2df7adcf-7601-4e46-e811-40bcf2485eaa"
      },
      "execution_count": 24,
      "outputs": [
        {
          "output_type": "execute_result",
          "data": {
            "application/vnd.google.colaboratory.intrinsic+json": {
              "type": "string"
            },
            "text/plain": [
              "'Buddy says Yap'"
            ]
          },
          "metadata": {},
          "execution_count": 24
        }
      ]
    },
    {
      "cell_type": "code",
      "source": [
        "jim.speak(\"Woof\")"
      ],
      "metadata": {
        "colab": {
          "base_uri": "https://localhost:8080/",
          "height": 35
        },
        "id": "kjGj7kb_gMZ9",
        "outputId": "dab77e11-b558-4386-8016-06b1cdb63023"
      },
      "execution_count": 25,
      "outputs": [
        {
          "output_type": "execute_result",
          "data": {
            "application/vnd.google.colaboratory.intrinsic+json": {
              "type": "string"
            },
            "text/plain": [
              "'Jim says Woof'"
            ]
          },
          "metadata": {},
          "execution_count": 25
        }
      ]
    },
    {
      "cell_type": "code",
      "source": [
        "jack.speak(\"Woof\")"
      ],
      "metadata": {
        "colab": {
          "base_uri": "https://localhost:8080/",
          "height": 35
        },
        "id": "wMTaV0LugPvy",
        "outputId": "5ff63ddc-e4d4-48ff-ed44-d7910f190e4e"
      },
      "execution_count": 26,
      "outputs": [
        {
          "output_type": "execute_result",
          "data": {
            "application/vnd.google.colaboratory.intrinsic+json": {
              "type": "string"
            },
            "text/plain": [
              "'Jack says Woof'"
            ]
          },
          "metadata": {},
          "execution_count": 26
        }
      ]
    },
    {
      "cell_type": "markdown",
      "source": [
        "Passing a string to every call to ```.speak()``` is repetitive and inconvenient. Moreover, the string representing the sound that each Dog instance makes should be determined by its .breed attribute, but here you have to manually pass the correct string to ```.speak()``` every time it’s called.\n",
        "\n",
        "You can simplify the experience of working with the Dog class by creating a child class for each breed of dog. This allows you to extend the functionality that each child class inherits, including specifying a default argument for ```.speak()```."
      ],
      "metadata": {
        "id": "Pk57_ebygWgI"
      }
    },
    {
      "cell_type": "markdown",
      "source": [
        "### Parent Classes vs Child Classes\n",
        "Remember, **to create a child class, you create new class with its own name and then put the name of the parent class in parentheses. **\n",
        "\n"
      ],
      "metadata": {
        "id": "Nj4jzwCiSeLG"
      }
    },
    {
      "cell_type": "code",
      "source": [
        "class Dog:\n",
        "    species = \"Canis familiaris\"\n",
        "\n",
        "    def __init__(self, name, age):\n",
        "        self.name = name\n",
        "        self.age = age\n",
        "    # Leave other parts of Dog class as-is\n",
        "    #  Replace .description() with __str__()\n",
        "    def __str__(self):\n",
        "        return f\"{self.name} is {self.age} years old\"\n",
        "\n",
        "    # Another instance method\n",
        "    def speak(self, sound):\n",
        "        return f\"{self.name} says {sound}\""
      ],
      "metadata": {
        "id": "7F_VOSO7hDbM"
      },
      "execution_count": 27,
      "outputs": []
    },
    {
      "cell_type": "code",
      "source": [
        "\n",
        "class JackRussellTerrier(Dog):\n",
        "    pass\n",
        "\n",
        "class Dachshund(Dog):\n",
        "    pass\n",
        "\n",
        "class Bulldog(Dog):\n",
        "    pass"
      ],
      "metadata": {
        "id": "uHmh00MQgvcf"
      },
      "execution_count": 28,
      "outputs": []
    },
    {
      "cell_type": "code",
      "source": [
        "miles = JackRussellTerrier(\"Miles\", 4)\n",
        "buddy = Dachshund(\"Buddy\", 9)\n",
        "jack = Bulldog(\"Jack\", 3)\n",
        "jim = Bulldog(\"Jim\", 5)"
      ],
      "metadata": {
        "id": "w1FIGrYfgnYj"
      },
      "execution_count": 29,
      "outputs": []
    },
    {
      "cell_type": "code",
      "source": [
        "type(miles)"
      ],
      "metadata": {
        "colab": {
          "base_uri": "https://localhost:8080/"
        },
        "id": "xIsC4DDFhTes",
        "outputId": "94248048-9698-416e-d026-4a7280eb45f1"
      },
      "execution_count": 30,
      "outputs": [
        {
          "output_type": "execute_result",
          "data": {
            "text/plain": [
              "__main__.JackRussellTerrier"
            ]
          },
          "metadata": {},
          "execution_count": 30
        }
      ]
    },
    {
      "cell_type": "code",
      "source": [
        "isinstance(miles, Dog)"
      ],
      "metadata": {
        "colab": {
          "base_uri": "https://localhost:8080/"
        },
        "id": "a78JePFohSG6",
        "outputId": "dfa56ef7-7ed8-4ba6-d817-bb4b96cac5dc"
      },
      "execution_count": 31,
      "outputs": [
        {
          "output_type": "execute_result",
          "data": {
            "text/plain": [
              "True"
            ]
          },
          "metadata": {},
          "execution_count": 31
        }
      ]
    },
    {
      "cell_type": "markdown",
      "source": [
        "Notice that ```isinstance()``` takes two arguments, an object and a class. In the example above, ```isinstance()``` checks if miles is an instance of the Dog class and returns True.\n",
        "\n",
        "The ```miles```, ```buddy```, ```jack```, and ```jim``` objects are all ```Dog``` instances, but ```miles``` is not a Bulldog instance, and ```jack``` is not a ```Dachshund``` instance:"
      ],
      "metadata": {
        "id": "Jtj39VQJJBA3"
      }
    },
    {
      "cell_type": "code",
      "source": [
        "isinstance(miles, Bulldog)"
      ],
      "metadata": {
        "colab": {
          "base_uri": "https://localhost:8080/"
        },
        "id": "YtNvh6ZtJR1O",
        "outputId": "3a592178-4fa3-4d29-d2ef-b0dc69ac629b"
      },
      "execution_count": 32,
      "outputs": [
        {
          "output_type": "execute_result",
          "data": {
            "text/plain": [
              "False"
            ]
          },
          "metadata": {},
          "execution_count": 32
        }
      ]
    },
    {
      "cell_type": "code",
      "source": [
        "isinstance(jack, Dachshund)"
      ],
      "metadata": {
        "colab": {
          "base_uri": "https://localhost:8080/"
        },
        "id": "a_8g8MVFJTAf",
        "outputId": "ecdfcf65-1eca-4fe0-e338-7ee962babb5e"
      },
      "execution_count": 33,
      "outputs": [
        {
          "output_type": "execute_result",
          "data": {
            "text/plain": [
              "False"
            ]
          },
          "metadata": {},
          "execution_count": 33
        }
      ]
    },
    {
      "cell_type": "markdown",
      "source": [
        "More generally, all objects created from a child class are instances of the parent class, although they may not be instances of other child classes.\n",
        "\n",
        "Now that you’ve created child classes for some different breeds of dogs, let’s give each breed its own sound.\n",
        "\n"
      ],
      "metadata": {
        "id": "-KQUdJiCJYSg"
      }
    },
    {
      "cell_type": "markdown",
      "source": [
        "### Extend the Functionality of a Parent Class\n",
        "\n",
        "Since different breeds of dogs have slightly different barks, you want to provide a default value for the sound argument of their respective ```.speak()``` methods. To do this, you need to override ```.speak()``` in the class definition for each breed.\n",
        "\n",
        "To override a method defined on the parent class, you define a method with the same name on the child class. Here’s what that looks like for the ```JackRussellTerrier``` class:\n"
      ],
      "metadata": {
        "id": "HR5uYN71SeTb"
      }
    },
    {
      "cell_type": "code",
      "source": [
        "class JackRussellTerrier(Dog):\n",
        "    def speak(self, sound=\"Arf\"):\n",
        "        \"\"\"\n",
        "        Now .speak() is defined on the JackRussellTerrier class\n",
        "        with the default argument for sound set to \"Arf\".\n",
        "        \"\"\"\n",
        "        return f\"{self.name} says {sound}\""
      ],
      "metadata": {
        "id": "rF2ZAnBEkDXQ"
      },
      "execution_count": 34,
      "outputs": []
    },
    {
      "cell_type": "code",
      "source": [
        "miles = JackRussellTerrier(\"Miles\", 4)\n",
        "miles.speak()"
      ],
      "metadata": {
        "colab": {
          "base_uri": "https://localhost:8080/",
          "height": 35
        },
        "id": "84-r0a_vkSfb",
        "outputId": "c41fa552-3fe0-4694-f3b5-76a201e8417d"
      },
      "execution_count": 35,
      "outputs": [
        {
          "output_type": "execute_result",
          "data": {
            "application/vnd.google.colaboratory.intrinsic+json": {
              "type": "string"
            },
            "text/plain": [
              "'Miles says Arf'"
            ]
          },
          "metadata": {},
          "execution_count": 35
        }
      ]
    },
    {
      "cell_type": "markdown",
      "source": [
        "Sometimes dogs make different barks, so if Miles gets angry and growls, you can still call .speak() with a different sound:\n",
        "\n"
      ],
      "metadata": {
        "id": "v3mX2zxlkWCf"
      }
    },
    {
      "cell_type": "code",
      "source": [
        "miles.speak(\"Grrr\")"
      ],
      "metadata": {
        "colab": {
          "base_uri": "https://localhost:8080/",
          "height": 35
        },
        "id": "oEZUuLNnkXAn",
        "outputId": "1643ce8e-dfb2-4f12-c075-8d9fe4aeb31b"
      },
      "execution_count": 36,
      "outputs": [
        {
          "output_type": "execute_result",
          "data": {
            "application/vnd.google.colaboratory.intrinsic+json": {
              "type": "string"
            },
            "text/plain": [
              "'Miles says Grrr'"
            ]
          },
          "metadata": {},
          "execution_count": 36
        }
      ]
    },
    {
      "cell_type": "markdown",
      "source": [
        "One thing to keep in mind about class inheritance is that changes to the parent class automatically propagate to child classes. This occurs as long as the attribute or method being changed isn’t overridden in the child class.\n",
        "\n"
      ],
      "metadata": {
        "id": "LzuVXzWvkiCG"
      }
    },
    {
      "cell_type": "markdown",
      "source": [
        "### Check Your Understanding\n",
        "Exercise: Class Inheritance\n",
        "\n",
        "Create a ```GoldenRetriever``` class that inherits from the Dog class. Give the sound argument of ```GoldenRetriever.speak()``` a default value of \"Bark\". Use the following code for your parent Dog class:\n",
        "\n",
        "```\n",
        "class Dog:\n",
        "    species = \"Canis familiaris\"\n",
        "\n",
        "    def __init__(self, name, age):\n",
        "        self.name = name\n",
        "        self.age = age\n",
        "\n",
        "    def __str__(self):\n",
        "        return f\"{self.name} is {self.age} years old\"\n",
        "\n",
        "    def speak(self, sound):\n",
        "        return f\"{self.name} says {sound}\"\n",
        "```"
      ],
      "metadata": {
        "id": "cKt6iwlYSegd"
      }
    },
    {
      "cell_type": "markdown",
      "source": [
        "## Conclusion\n",
        "In this tutorial, you learned about object-oriented programming (OOP) in Python. Most modern programming languages, such as Java, C#, and C++, follow OOP principles, so the knowledge you gained here will be applicable no matter where your programming career takes you.\n",
        "\n",
        "In this tutorial, you learned how to:\n",
        "\n",
        "- Define a class, which is a sort of blueprint for an object\n",
        "- Instantiate an object from a class\n",
        "- Use attributes and methods to define the properties and behaviors of an object\n",
        "- Use inheritance to create child classes from a parent class\n",
        "- Check if an object inherits from another class using isinstance()"
      ],
      "metadata": {
        "id": "DiqXDj2uRugH"
      }
    },
    {
      "cell_type": "code",
      "source": [
        ""
      ],
      "metadata": {
        "id": "T9eAmSFKzgYQ"
      },
      "execution_count": null,
      "outputs": []
    },
    {
      "cell_type": "code",
      "source": [
        ""
      ],
      "metadata": {
        "id": "nmX5cIj3vkJk"
      },
      "execution_count": null,
      "outputs": []
    },
    {
      "cell_type": "code",
      "source": [
        ""
      ],
      "metadata": {
        "id": "IHd0nQXtvXn6"
      },
      "execution_count": null,
      "outputs": []
    }
  ]
}