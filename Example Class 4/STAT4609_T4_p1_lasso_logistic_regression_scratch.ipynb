{
  "cells": [
    {
      "cell_type": "markdown",
      "metadata": {
        "id": "vSCRuV_XQ7SI"
      },
      "source": [
        "## We fit a multinomial logistic regression with L1 penalty (Lasso) on a binary classification task. \n",
        "\n",
        "\n",
        "\n",
        "***You can compare this accuracy of this l1-penalized linear model with an l2-penalized logistic model or a non-linear multi-layer perceptron model on this dataset.***"
      ]
    },
    {
      "cell_type": "code",
      "execution_count": null,
      "metadata": {
        "colab": {
          "background_save": true
        },
        "id": "3sNBdUArTHOt"
      },
      "outputs": [],
      "source": [
        "import time\n",
        "import matplotlib.pyplot as plt\n",
        "import numpy as np\n",
        "from scipy.special import expit"
      ]
    },
    {
      "cell_type": "code",
      "execution_count": null,
      "metadata": {
        "colab": {
          "background_save": true
        },
        "id": "uNED4sRuTIA9",
        "outputId": "e7791613-75c1-4c16-c341-086f318d0ecd"
      },
      "outputs": [
        {
          "name": "stdout",
          "output_type": "stream",
          "text": [
            "Automatically created module for IPython interactive environment\n"
          ]
        }
      ],
      "source": [
        "print(__doc__)\n",
        "\n",
        "# Author: LIU Chen <liuchen@hku.hk>\n"
      ]
    },
    {
      "cell_type": "markdown",
      "metadata": {
        "id": "yROCJ2Ffj51N"
      },
      "source": [
        "## Implementation of Binary Logistic Regression from Scratch \n",
        "\n",
        "Dataset: CIFAR10\n",
        "\n",
        "Target: Cat vs. Dog\n",
        "\n",
        "Loss Function: Binary Cross-Entropy / Log Loss\n",
        "\n",
        "\n",
        "Optimization: Gradient Descent \n"
      ]
    },
    {
      "cell_type": "code",
      "execution_count": null,
      "metadata": {
        "colab": {
          "background_save": true
        },
        "id": "aaoQotvg8Bni"
      },
      "outputs": [],
      "source": []
    },
    {
      "cell_type": "code",
      "execution_count": null,
      "metadata": {
        "colab": {
          "background_save": true
        },
        "id": "XW9gZhP8BhnZ"
      },
      "outputs": [],
      "source": [
        "\n",
        "#@pysnooper.snoop()\n",
        "class LogisticRegression(object):\n",
        "    \n",
        "    def __init__(self, X, Y):\n",
        "        \"\"\"\n",
        "        The __init__ method is called anytime you instantiate a class. This function should take in two arguemnts:\n",
        "            X: A NxD dimensional real valued numpy array represeting the covariates.\n",
        "            y: A N dimensional binary valued numpy array representing the targets.\n",
        "        \n",
        "        \"\"\"\n",
        "        self.X = X\n",
        "        self.N, self.D = self.X.shape\n",
        "        self.Y = Y\n",
        "        assert(self.Y.size == self.N) # make sure y is the appropriate size\n",
        "        \n",
        "        # instantiate regression parameter objects\n",
        "        self.beta = np.zeros((self.D,1))\n",
        "        self.bias = 0\n",
        " \n",
        "    def cross_entropy(self, beta, bias):\n",
        "      sigma =  expit(self.X @ beta + bias)\n",
        "      sigma = np.clip(sigma, 1e-6, 1 - (1e-6)) \n",
        "      log_loss = -np.mean(self.Y*np.log(sigma) + (1-self.Y)*np.log(1-sigma)) \n",
        "      return log_loss \n",
        "\n",
        "    def grad_cross_entropy(self, beta, bias): \n",
        "      sigma =  expit(self.X @ beta + bias)\n",
        "      sigma = np.clip(sigma, 1e-6, 1 - (1e-6)) \n",
        "      d_beta = np.dot(self.X.T, sigma - self.Y)/self.D\n",
        "      d_bias = np.mean(sigma-self.Y) \n",
        "      assert(d_beta.shape == beta.shape)\n",
        "      assert(d_bias.dtype == float)\n",
        "      return d_beta, d_bias \n",
        "\n",
        "    def fit(self, step = .01, iters = 100000): \n",
        "      grad_beta, grad_bias = self.grad_cross_entropy(self.beta, self.bias) \n",
        "      entropy_loss = np.empty(iters)\n",
        "      for t in range(iters):\n",
        "        grad_beta, grad_bias = self.grad_cross_entropy(self.beta, self.bias)\n",
        "        self.beta -= step * grad_beta \n",
        "        self.bias -= step * grad_bias \n",
        "        entropy_loss[t] = self.cross_entropy(self.beta, self.bias) \n",
        "      plt.plot(entropy_loss)\n",
        "      plt.title(\"Optimization Routine\")\n",
        "      plt.xlabel(\"Iterations\")\n",
        "      plt.ylabel(\"Cross_Entropy\")\n",
        "      plt.show()\n",
        "           \n",
        "    def predict(self, X_test):\n",
        "        \"\"\"\n",
        "        This function will take in some test set data \"X_test\" and return a predicted value\n",
        "        \"\"\"\n",
        "        assert(X_test.shape[1] == self.D)\n",
        "        Y_test = expit(X_test @ self.beta + self.bias)\n",
        "        return Y_test"
      ]
    },
    {
      "cell_type": "code",
      "execution_count": null,
      "metadata": {
        "colab": {
          "background_save": true
        },
        "id": "BsYAOKWjvmQ_"
      },
      "outputs": [],
      "source": [
        "# Data Preparation\n",
        "from keras.datasets import cifar10\n",
        "import numpy as np\n",
        "import pandas as pd\n",
        "(x_train, y_train), (x_test, y_test) = cifar10.load_data()\n",
        "# let's create a dictionary that will have class names with their corresponding categorical class labels.\n",
        "label_dict = {\n",
        "    0: 'airplane',\n",
        "    1: 'automobile',\n",
        "    2: 'bird',\n",
        "    3: 'cat',\n",
        "    4: 'deer',\n",
        "    5: 'dog',\n",
        "    6: 'frog',\n",
        "    7: 'horse',\n",
        "    8: 'ship',\n",
        "    9: 'truck',}\n",
        "index = np.where(np.in1d(y_train, [3,5])) \n",
        "y_train = y_train[index]\n",
        "x_train = x_train[index]\n",
        "\n",
        "test_index = np.where(np.in1d(y_test, [3,5])) \n",
        "y_test = y_test[test_index]\n",
        "x_test = x_test[test_index]\n",
        "\n",
        "y_train = np.array([1 if x ==3 else 0 for x in y_train]).reshape(-1, 1)\n",
        "y_test = np.array([1 if x ==3 else 0 for x in y_test]).reshape(-1, 1)\n",
        "\n",
        "x_train = x_train/255.0\n",
        "x_test = x_test/255.0\n",
        "x_train = x_train.reshape(-1,3072)\n",
        "x_test = x_test.reshape(-1,3072)"
      ]
    },
    {
      "cell_type": "code",
      "execution_count": null,
      "metadata": {
        "colab": {
          "background_save": true
        },
        "id": "f7I_1G7OEAq-"
      },
      "outputs": [],
      "source": [
        "LR = LogisticRegression(X=x_train,Y=y_train)"
      ]
    },
    {
      "cell_type": "code",
      "execution_count": null,
      "metadata": {
        "colab": {
          "background_save": true
        },
        "id": "A-UvTZOtEMjr",
        "outputId": "8d4ac247-bd76-4870-9153-17b5cb2993d3"
      },
      "outputs": [
        {
          "data": {
            "image/png": "[encoded data removed]",
            "text/plain": [
              "<Figure size 432x288 with 1 Axes>"
            ]
          },
          "metadata": {},
          "output_type": "display_data"
        }
      ],
      "source": [
        "LR.fit(step=.0005, iters = 10000)"
      ]
    },
    {
      "cell_type": "code",
      "execution_count": null,
      "metadata": {
        "colab": {
          "background_save": true
        },
        "id": "tBIIg-HfadG9"
      },
      "outputs": [],
      "source": [
        "P_test = LR.predict(x_test)\n",
        "label_test =  np.where(P_test > 0.5, 1, 0)\n"
      ]
    },
    {
      "cell_type": "code",
      "execution_count": null,
      "metadata": {
        "colab": {
          "background_save": true
        },
        "id": "vVE8yNloSq4I",
        "outputId": "efe1f8b1-aabb-478b-9bad-1ad80193bc05"
      },
      "outputs": [
        {
          "name": "stdout",
          "output_type": "stream",
          "text": [
            "Predictive Cross Entropy Error: 0.66\n"
          ]
        }
      ],
      "source": [
        "LL = (y_test * np.log(P_test)) + ( (1.-y_test)*np.log(1.-P_test))\n",
        "LL = -LL.mean()\n",
        "print(\"Predictive Cross Entropy Error: %.2f\" % LL)\n"
      ]
    },
    {
      "cell_type": "markdown",
      "metadata": {
        "id": "ebUoJf2iTAZS"
      },
      "source": [
        "## Can you report the accuracy, precision, recall and F1 score on the test set? \n"
      ]
    },
    {
      "cell_type": "code",
      "execution_count": null,
      "metadata": {
        "colab": {
          "background_save": true
        },
        "id": "zg_JeS0TS-Jn",
        "outputId": "92812c00-da73-481b-d610-13fb5d2cf33a"
      },
      "outputs": [
        {
          "data": {
            "text/plain": [
              "array([[1],\n",
              "       [0],\n",
              "       [0],\n",
              "       [0],\n",
              "       [0],\n",
              "       [0],\n",
              "       [1],\n",
              "       [0],\n",
              "       [1],\n",
              "       [0],\n",
              "       [0],\n",
              "       [1],\n",
              "       [0],\n",
              "       [0],\n",
              "       [1],\n",
              "       [1],\n",
              "       [0],\n",
              "       [0],\n",
              "       [0],\n",
              "       [1],\n",
              "       [0],\n",
              "       [1],\n",
              "       [0],\n",
              "       [0],\n",
              "       [1],\n",
              "       [0],\n",
              "       [0],\n",
              "       [0],\n",
              "       [0],\n",
              "       [1]])"
            ]
          },
          "execution_count": 9,
          "metadata": {},
          "output_type": "execute_result"
        }
      ],
      "source": [
        "label_test[:30]"
      ]
    },
    {
      "cell_type": "code",
      "execution_count": null,
      "metadata": {
        "colab": {
          "background_save": true
        },
        "id": "9eKCX8H9Zp5L",
        "outputId": "955fd1f9-7f37-4d9b-bdbc-0d5efab03219"
      },
      "outputs": [
        {
          "data": {
            "text/plain": [
              "0.6095"
            ]
          },
          "execution_count": 10,
          "metadata": {},
          "output_type": "execute_result"
        }
      ],
      "source": [
        "accuracy = (y_test == label_test).sum() / y_test.shape[0]\n",
        "accuracy"
      ]
    },
    {
      "cell_type": "code",
      "execution_count": null,
      "metadata": {
        "colab": {
          "background_save": true
        },
        "id": "S0UEmyYOrzL-"
      },
      "outputs": [],
      "source": []
    }
  ],
  "metadata": {
    "colab": {
      "provenance": []
    },
    "kernelspec": {
      "display_name": "Python 3",
      "name": "python3"
    }
  },
  "nbformat": 4,
  "nbformat_minor": 0
}